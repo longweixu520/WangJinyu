{
 "cells": [
  {
   "metadata": {},
   "cell_type": "markdown",
   "source": [
    "\n",
    "# NumPy 数据类型\n",
    "\n",
    "## 数据类型概述\n",
    "NumPy 提供了比 Python 更丰富的数值类型支持。这些数据类型与 C 语言的基本类型密切相关：\n",
    "\n",
    "| NumPy 类型        | C 类型               | 描述                                                                 |\n",
    "|-------------------|----------------------|----------------------------------------------------------------------|\n",
    "| numpy.bool_       | bool                 | 布尔值（True 或 False）存储为字节                                    |\n",
    "| numpy.byte        | signed char          | 平台定义的有符号字符                                                 |\n",
    "| numpy.ubyte       | unsigned char        | 平台定义的无符号字符                                                 |\n",
    "| numpy.short       | short                | 平台定义的短整数                                                     |\n",
    "| numpy.ushort      | unsigned short       | 平台定义的无符号短整数                                               |\n",
    "| numpy.intc        | int                  | 平台定义的整数                                                       |\n",
    "| numpy.uintc       | unsigned int         | 平台定义的无符号整数                                                 |\n",
    "| numpy.int_        | long                 | 平台定义的长整数                                                     |\n",
    "| numpy.uint        | unsigned long        | 平台定义的无符号长整数                                               |\n",
    "| numpy.longlong    | long long            | 平台定义的长长整数                                                   |\n",
    "| numpy.ulonglong   | unsigned long long   | 平台定义的无符号长长整数                                             |\n",
    "| numpy.float16     | -                    | 半精度浮点数：符号位，5位指数，10位尾数                              |\n",
    "| numpy.single      | float                | 平台定义的单精度浮点数                                               |\n",
    "| numpy.double      | double               | 平台定义的双精度浮点数                                               |\n",
    "| numpy.longdouble  | long double          | 平台定义的扩展精度浮点数                                             |\n",
    "| numpy.csingle     | float complex        | 复数，由两个单精度浮点数表示                                         |\n",
    "| numpy.cdouble     | double complex       | 复数，由两个双精度浮点数表示                                         |\n",
    "| numpy.clongdouble | long double complex  | 复数，由两个扩展精度浮点数表示                                       |\n",
    "\n",
    "## 数据类型使用\n",
    "\n",
    "### 基本数值类型\n",
    "NumPy 有5种基本数值类型：\n",
    "- 布尔值 (bool)\n",
    "- 整数 (int)\n",
    "- 无符号整数 (uint)\n",
    "- 浮点数 (float)\n",
    "- 复数 (complex)\n",
    "\n",
    "类型名称中的数字表示其位大小。某些类型（如 `int` 和 `intp`）的位大小取决于平台。\n",
    "\n",
    "### 创建指定类型的数组\n",
    "```python\n",
    "x = np.float32(1.0)  # 创建float32标量\n",
    "y = np.int_([1, 2, 4])  # 创建整数数组\n",
    "z = np.arange(3, dtype=np.uint8)  # 创建uint8数组\n",
    "```\n",
    "\n",
    "### 类型转换\n",
    "```python\n",
    "z.astype(float)  # 转换为浮点数\n",
    "np.int8(z)  # 转换为int8\n",
    "```\n",
    "\n",
    "### 查询类型信息\n",
    "```python\n",
    "z.dtype  # 查看数组数据类型\n",
    "np.issubdtype(z.dtype, np.integer)  # 检查是否为整数类型\n",
    "```\n",
    "\n",
    "## 数值精度与溢出\n",
    "\n",
    "### 溢出问题\n",
    "```python\n",
    "np.power(100, 8, dtype=np.int64)  # 正确结果\n",
    "np.power(100, 8, dtype=np.int32)  # 溢出错误\n",
    "```\n",
    "\n",
    "### 类型边界检查\n",
    "```python\n",
    "np.iinfo(np.int32)  # 检查32位整数范围\n",
    "np.iinfo(np.int64)  # 检查64位整数范围\n",
    "```\n",
    "\n",
    "## 扩展精度浮点数\n",
    "```python\n",
    "np.finfo(np.longdouble)  # 查看扩展精度浮点信息\n",
    "```\n",
    "\n",
    "注意：\n",
    "1. 在Windows平台上，`long double` 可能与 `double` 相同\n",
    "2. `np.float96` 和 `np.float128` 实际精度取决于平台\n",
    "3. Python 的格式化操作可能会降低扩展精度\n"
   ],
   "id": "a6703e0f44704576"
  },
  {
   "metadata": {
    "ExecuteTime": {
     "end_time": "2025-06-28T01:31:14.266360Z",
     "start_time": "2025-06-28T01:31:14.198684Z"
    }
   },
   "cell_type": "code",
   "source": [
    "import numpy as np\n",
    "x = np.float32(1.0)  # 创建float32标量\n",
    "y = np.int_([1, 2, 4])  # 创建整数数组\n",
    "z = np.arange(3, dtype=np.uint8)  # 创建uint8数组\n"
   ],
   "id": "7d5de99baf39c484",
   "outputs": [],
   "execution_count": 1
  },
  {
   "metadata": {
    "ExecuteTime": {
     "end_time": "2025-06-28T01:31:47.883533Z",
     "start_time": "2025-06-28T01:31:47.863711Z"
    }
   },
   "cell_type": "code",
   "source": "x?",
   "id": "243338c43067dfba",
   "outputs": [],
   "execution_count": 3
  },
  {
   "metadata": {
    "ExecuteTime": {
     "end_time": "2025-06-28T01:31:56.273703Z",
     "start_time": "2025-06-28T01:31:56.260729Z"
    }
   },
   "cell_type": "code",
   "source": "y?",
   "id": "a8734af77146da",
   "outputs": [],
   "execution_count": 4
  },
  {
   "metadata": {
    "ExecuteTime": {
     "end_time": "2025-06-28T01:32:01.245399Z",
     "start_time": "2025-06-28T01:32:01.234993Z"
    }
   },
   "cell_type": "code",
   "source": "z?",
   "id": "9eddcc2882fbd700",
   "outputs": [],
   "execution_count": 5
  },
  {
   "metadata": {
    "ExecuteTime": {
     "end_time": "2025-06-28T01:33:10.960264Z",
     "start_time": "2025-06-28T01:33:10.928502Z"
    }
   },
   "cell_type": "code",
   "source": [
    "z.astype(float)  # 转换为浮点数\n",
    "np.int8(z)  # 转换为int8"
   ],
   "id": "de59df46828f6710",
   "outputs": [
    {
     "data": {
      "text/plain": [
       "array([0, 1, 2], dtype=int8)"
      ]
     },
     "execution_count": 6,
     "metadata": {},
     "output_type": "execute_result"
    }
   ],
   "execution_count": 6
  },
  {
   "metadata": {
    "ExecuteTime": {
     "end_time": "2025-06-28T01:33:18.591986Z",
     "start_time": "2025-06-28T01:33:18.576733Z"
    }
   },
   "cell_type": "code",
   "source": "z?",
   "id": "5c4e09638234746e",
   "outputs": [],
   "execution_count": 7
  },
  {
   "metadata": {
    "ExecuteTime": {
     "end_time": "2025-06-28T01:33:58.320541Z",
     "start_time": "2025-06-28T01:33:58.310989Z"
    }
   },
   "cell_type": "code",
   "source": [
    "print(z.dtype)  # 查看数组数据类型\n",
    "np.issubdtype(z.dtype, np.integer)  # 检查是否为整数类型"
   ],
   "id": "89619631a9131cad",
   "outputs": [
    {
     "name": "stdout",
     "output_type": "stream",
     "text": [
      "uint8\n"
     ]
    },
    {
     "data": {
      "text/plain": [
       "True"
      ]
     },
     "execution_count": 9,
     "metadata": {},
     "output_type": "execute_result"
    }
   ],
   "execution_count": 9
  },
  {
   "metadata": {},
   "cell_type": "code",
   "outputs": [],
   "execution_count": null,
   "source": "",
   "id": "464aeab70d5032fa"
  }
 ],
 "metadata": {
  "kernelspec": {
   "display_name": "Python 3",
   "language": "python",
   "name": "python3"
  },
  "language_info": {
   "codemirror_mode": {
    "name": "ipython",
    "version": 2
   },
   "file_extension": ".py",
   "mimetype": "text/x-python",
   "name": "python",
   "nbconvert_exporter": "python",
   "pygments_lexer": "ipython2",
   "version": "2.7.6"
  }
 },
 "nbformat": 4,
 "nbformat_minor": 5
}
