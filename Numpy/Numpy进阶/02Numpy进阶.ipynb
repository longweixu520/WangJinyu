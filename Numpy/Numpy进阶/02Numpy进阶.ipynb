{
 "cells": [
  {
   "metadata": {},
   "cell_type": "markdown",
   "source": [
    "## 数组操作\n",
    "###  1. 查看数据形状\n"
   ],
   "id": "95324a95b7992bee"
  },
  {
   "metadata": {
    "ExecuteTime": {
     "end_time": "2025-06-28T23:23:09.165483Z",
     "start_time": "2025-06-28T23:23:09.073790Z"
    }
   },
   "cell_type": "code",
   "source": [
    "import numpy as np\n",
    "\n",
    "a1 = np.array([1,2,3,4,5])\n",
    "print(a1)\n",
    "\n",
    "a1.shape"
   ],
   "id": "39c5805505cb1351",
   "outputs": [
    {
     "name": "stdout",
     "output_type": "stream",
     "text": [
      "[1 2 3 4 5]\n"
     ]
    },
    {
     "data": {
      "text/plain": [
       "(5,)"
      ]
     },
     "execution_count": 1,
     "metadata": {},
     "output_type": "execute_result"
    }
   ],
   "execution_count": 1
  },
  {
   "metadata": {
    "ExecuteTime": {
     "end_time": "2025-06-28T23:23:30.269275Z",
     "start_time": "2025-06-28T23:23:30.255080Z"
    }
   },
   "cell_type": "code",
   "source": [
    "a2 = np.array([[1,2,3,4],[5,6,7,8]])\n",
    "print(a2)\n",
    "\n",
    "a2.shape"
   ],
   "id": "af92007de7ff19d3",
   "outputs": [
    {
     "name": "stdout",
     "output_type": "stream",
     "text": [
      "[[1 2 3 4]\n",
      " [5 6 7 8]]\n"
     ]
    },
    {
     "data": {
      "text/plain": [
       "(2, 4)"
      ]
     },
     "execution_count": 2,
     "metadata": {},
     "output_type": "execute_result"
    }
   ],
   "execution_count": 2
  },
  {
   "metadata": {
    "ExecuteTime": {
     "end_time": "2025-06-28T23:23:50.339312Z",
     "start_time": "2025-06-28T23:23:50.325504Z"
    }
   },
   "cell_type": "code",
   "source": [
    "a3 = np.array([[[1,2,3],[4,5,6]],[[7,8,9],[10,11,12]]])\n",
    "print(a3)\n",
    "\n",
    "a3.shape"
   ],
   "id": "2561c19299f46aa1",
   "outputs": [
    {
     "name": "stdout",
     "output_type": "stream",
     "text": [
      "[[[ 1  2  3]\n",
      "  [ 4  5  6]]\n",
      "\n",
      " [[ 7  8  9]\n",
      "  [10 11 12]]]\n"
     ]
    },
    {
     "data": {
      "text/plain": [
       "(2, 2, 3)"
      ]
     },
     "execution_count": 3,
     "metadata": {},
     "output_type": "execute_result"
    }
   ],
   "execution_count": 3
  },
  {
   "metadata": {},
   "cell_type": "markdown",
   "source": [
    "###  2. 修改数组形状\n",
    "**语句**：`reshape(shape, order='C' )`\n",
    "**作用**：不改变数据的条件下修改形状\n",
    "\n",
    "**参数说明**：\n",
    "\n",
    "* shape：形状\n",
    "* order：C-按行，‘F’-- 按列，‘A’–原顺序，‘k’ -元素在内存中的出现顺序\n",
    "\n"
   ],
   "id": "7caabffa8817094a"
  },
  {
   "metadata": {
    "ExecuteTime": {
     "end_time": "2025-06-28T23:25:47.230612Z",
     "start_time": "2025-06-28T23:25:47.216633Z"
    }
   },
   "cell_type": "code",
   "source": [
    "a = np.array([[1,2,3,4],[5,6,7,8]])\n",
    "print(a)\n",
    "\n",
    "print(a.reshape(4,2))\n",
    "\n",
    "# 再次查看数组形状发现只是临时修改      \n",
    "print(a.shape)\n"
   ],
   "id": "937a3daa13016e48",
   "outputs": [
    {
     "name": "stdout",
     "output_type": "stream",
     "text": [
      "[[1 2 3 4]\n",
      " [5 6 7 8]]\n",
      "[[1 2]\n",
      " [3 4]\n",
      " [5 6]\n",
      " [7 8]]\n",
      "(2, 4)\n"
     ]
    }
   ],
   "execution_count": 4
  },
  {
   "metadata": {},
   "cell_type": "markdown",
   "source": [
    "**语句**：`flatten( order='C')`\n",
    "\n",
    "**作用**：展平的数组元素并拷贝一份，顺序通常是\"C风格\"\n",
    "\n",
    "**注意**：修改返回的数组不会对原数组产生影响\n",
    "\n",
    "**参数说明**：\n",
    "\n",
    "* order：‘C’-按行，‘F’–按列，‘A’–原顺序，‘k’ -元素在内存中的出现顺序\n"
   ],
   "id": "d5ea464ae06e8f69"
  },
  {
   "metadata": {
    "ExecuteTime": {
     "end_time": "2025-06-28T23:27:14.648290Z",
     "start_time": "2025-06-28T23:27:14.639656Z"
    }
   },
   "cell_type": "code",
   "source": [
    "c = np.array([[1, 2],[3, 4],[5, 6],[7, 8]])\n",
    "print(c)\n",
    "\n",
    "print(c.shape)\n",
    "\n",
    "print(c.flatten())"
   ],
   "id": "ec0bc57ae535614e",
   "outputs": [
    {
     "name": "stdout",
     "output_type": "stream",
     "text": [
      "[[1 2]\n",
      " [3 4]\n",
      " [5 6]\n",
      " [7 8]]\n",
      "(4, 2)\n",
      "[1 2 3 4 5 6 7 8]\n"
     ]
    }
   ],
   "execution_count": 5
  },
  {
   "metadata": {},
   "cell_type": "markdown",
   "source": [
    "### 3、数组和数的计算\n",
    "numpy的广播机制造成的,在运算过程中,加减乘除的值被广播到所有的元素上面.\n"
   ],
   "id": "6294ec0cee423c32"
  },
  {
   "metadata": {
    "ExecuteTime": {
     "end_time": "2025-06-28T23:27:58.700607Z",
     "start_time": "2025-06-28T23:27:58.691054Z"
    }
   },
   "cell_type": "code",
   "source": [
    "a = np.array([[1,2,3,4,5],[6,7,8,9,10]])\n",
    "a"
   ],
   "id": "5d67b9a20c502b1c",
   "outputs": [
    {
     "data": {
      "text/plain": [
       "array([[ 1,  2,  3,  4,  5],\n",
       "       [ 6,  7,  8,  9, 10]])"
      ]
     },
     "execution_count": 6,
     "metadata": {},
     "output_type": "execute_result"
    }
   ],
   "execution_count": 6
  },
  {
   "metadata": {
    "ExecuteTime": {
     "end_time": "2025-06-28T23:28:07.286104Z",
     "start_time": "2025-06-28T23:28:07.269271Z"
    }
   },
   "cell_type": "code",
   "source": "a + 1",
   "id": "cfc78b288d3a52a7",
   "outputs": [
    {
     "data": {
      "text/plain": [
       "array([[ 2,  3,  4,  5,  6],\n",
       "       [ 7,  8,  9, 10, 11]])"
      ]
     },
     "execution_count": 7,
     "metadata": {},
     "output_type": "execute_result"
    }
   ],
   "execution_count": 7
  },
  {
   "metadata": {
    "ExecuteTime": {
     "end_time": "2025-06-28T23:28:21.336536Z",
     "start_time": "2025-06-28T23:28:21.325434Z"
    }
   },
   "cell_type": "code",
   "source": "a - 1",
   "id": "1de3f38a125131a0",
   "outputs": [
    {
     "data": {
      "text/plain": [
       "array([[0, 1, 2, 3, 4],\n",
       "       [5, 6, 7, 8, 9]])"
      ]
     },
     "execution_count": 8,
     "metadata": {},
     "output_type": "execute_result"
    }
   ],
   "execution_count": 8
  },
  {
   "metadata": {
    "ExecuteTime": {
     "end_time": "2025-06-28T23:28:30.508762Z",
     "start_time": "2025-06-28T23:28:30.493958Z"
    }
   },
   "cell_type": "code",
   "source": "a * 2",
   "id": "a221c38a500a1b1d",
   "outputs": [
    {
     "data": {
      "text/plain": [
       "array([[ 2,  4,  6,  8, 10],\n",
       "       [12, 14, 16, 18, 20]])"
      ]
     },
     "execution_count": 9,
     "metadata": {},
     "output_type": "execute_result"
    }
   ],
   "execution_count": 9
  },
  {
   "metadata": {
    "ExecuteTime": {
     "end_time": "2025-06-28T23:28:36.767278Z",
     "start_time": "2025-06-28T23:28:36.755185Z"
    }
   },
   "cell_type": "code",
   "source": "a / 10",
   "id": "7fcdbd6e790f50f4",
   "outputs": [
    {
     "data": {
      "text/plain": [
       "array([[0.1, 0.2, 0.3, 0.4, 0.5],\n",
       "       [0.6, 0.7, 0.8, 0.9, 1. ]])"
      ]
     },
     "execution_count": 10,
     "metadata": {},
     "output_type": "execute_result"
    }
   ],
   "execution_count": 10
  },
  {
   "metadata": {},
   "cell_type": "markdown",
   "source": [
    "### 4、数组和数组的计算\n",
    "两数组相同维度下加减乘除\n"
   ],
   "id": "4736a2d77341c192"
  },
  {
   "metadata": {
    "ExecuteTime": {
     "end_time": "2025-06-28T23:29:54.714959Z",
     "start_time": "2025-06-28T23:29:54.703124Z"
    }
   },
   "cell_type": "code",
   "source": [
    "a = np.array([[1,2,3,4,5],[6,7,8,9,10]])\n",
    "print(a)\n",
    "\n",
    "b = np.arange(11,21).reshape(2,5)\n",
    "print(b)"
   ],
   "id": "5b6215c5c755e659",
   "outputs": [
    {
     "name": "stdout",
     "output_type": "stream",
     "text": [
      "[[ 1  2  3  4  5]\n",
      " [ 6  7  8  9 10]]\n",
      "[[11 12 13 14 15]\n",
      " [16 17 18 19 20]]\n"
     ]
    }
   ],
   "execution_count": 11
  },
  {
   "metadata": {
    "ExecuteTime": {
     "end_time": "2025-06-28T23:30:01.878911Z",
     "start_time": "2025-06-28T23:30:01.866555Z"
    }
   },
   "cell_type": "code",
   "source": "a + b",
   "id": "9a5826e5f7c127b5",
   "outputs": [
    {
     "data": {
      "text/plain": [
       "array([[12, 14, 16, 18, 20],\n",
       "       [22, 24, 26, 28, 30]])"
      ]
     },
     "execution_count": 12,
     "metadata": {},
     "output_type": "execute_result"
    }
   ],
   "execution_count": 12
  },
  {
   "metadata": {
    "ExecuteTime": {
     "end_time": "2025-06-28T23:30:04.956127Z",
     "start_time": "2025-06-28T23:30:04.948307Z"
    }
   },
   "cell_type": "code",
   "source": "a-b",
   "id": "691e2e19ecf721fc",
   "outputs": [
    {
     "data": {
      "text/plain": [
       "array([[-10, -10, -10, -10, -10],\n",
       "       [-10, -10, -10, -10, -10]])"
      ]
     },
     "execution_count": 13,
     "metadata": {},
     "output_type": "execute_result"
    }
   ],
   "execution_count": 13
  },
  {
   "metadata": {
    "ExecuteTime": {
     "end_time": "2025-06-28T23:30:13.933725Z",
     "start_time": "2025-06-28T23:30:13.915984Z"
    }
   },
   "cell_type": "code",
   "source": "a*b",
   "id": "eadc07d9a30df160",
   "outputs": [
    {
     "data": {
      "text/plain": [
       "array([[ 11,  24,  39,  56,  75],\n",
       "       [ 96, 119, 144, 171, 200]])"
      ]
     },
     "execution_count": 14,
     "metadata": {},
     "output_type": "execute_result"
    }
   ],
   "execution_count": 14
  },
  {
   "metadata": {
    "ExecuteTime": {
     "end_time": "2025-06-28T23:30:27.190987Z",
     "start_time": "2025-06-28T23:30:27.183123Z"
    }
   },
   "cell_type": "code",
   "source": "a / b",
   "id": "8b2728d2723de940",
   "outputs": [
    {
     "data": {
      "text/plain": [
       "array([[0.09090909, 0.16666667, 0.23076923, 0.28571429, 0.33333333],\n",
       "       [0.375     , 0.41176471, 0.44444444, 0.47368421, 0.5       ]])"
      ]
     },
     "execution_count": 15,
     "metadata": {},
     "output_type": "execute_result"
    }
   ],
   "execution_count": 15
  },
  {
   "metadata": {},
   "cell_type": "markdown",
   "source": "#### 2行5列 VS 1行5列\n",
   "id": "c2bf1f73ebe901bd"
  },
  {
   "metadata": {
    "ExecuteTime": {
     "end_time": "2025-06-28T23:32:38.826592Z",
     "start_time": "2025-06-28T23:32:38.815306Z"
    }
   },
   "cell_type": "code",
   "source": [
    "a = np.arange(1,6).reshape(5,)\n",
    "print(a)\n",
    "b = np.arange(11,21).reshape(2,5)\n",
    "print(b)\n",
    "\n",
    "print(f\"a+b的值是{a+b}\")\n",
    "\n",
    "print(f\"a*b的值是{a*b}\")"
   ],
   "id": "6eb01974e7be5d05",
   "outputs": [
    {
     "name": "stdout",
     "output_type": "stream",
     "text": [
      "[1 2 3 4 5]\n",
      "[[11 12 13 14 15]\n",
      " [16 17 18 19 20]]\n",
      "a+b的值是[[12 14 16 18 20]\n",
      " [17 19 21 23 25]]\n",
      "a*b的值是[[ 11  24  39  56  75]\n",
      " [ 16  34  54  76 100]]\n"
     ]
    }
   ],
   "execution_count": 16
  },
  {
   "metadata": {},
   "cell_type": "markdown",
   "source": "#### 2行1列 VS 2行5列\n",
   "id": "6d9e3251b39f32c3"
  },
  {
   "metadata": {
    "ExecuteTime": {
     "end_time": "2025-06-28T23:33:57.527338Z",
     "start_time": "2025-06-28T23:33:57.513959Z"
    }
   },
   "cell_type": "code",
   "source": [
    "a = np.arange(1,3).reshape(2,1)\n",
    "print(a)\n",
    "b = np.arange(11,21).reshape(2,5)\n",
    "print(b)\n",
    "\n",
    "print(f\"a+b的值是{a+b}\")\n",
    "\n",
    "print(f\"a*b的值是{a*b}\")"
   ],
   "id": "71b547e141f58485",
   "outputs": [
    {
     "name": "stdout",
     "output_type": "stream",
     "text": [
      "[[1]\n",
      " [2]]\n",
      "[[11 12 13 14 15]\n",
      " [16 17 18 19 20]]\n",
      "a+b的值是[[12 13 14 15 16]\n",
      " [18 19 20 21 22]]\n",
      "a*b的值是[[11 12 13 14 15]\n",
      " [32 34 36 38 40]]\n"
     ]
    }
   ],
   "execution_count": 17
  },
  {
   "metadata": {},
   "cell_type": "markdown",
   "source": "#### 不同维度\n",
   "id": "80782744a16eb34"
  },
  {
   "metadata": {
    "ExecuteTime": {
     "end_time": "2025-06-28T23:34:45.308498Z",
     "start_time": "2025-06-28T23:34:45.156963Z"
    }
   },
   "cell_type": "code",
   "source": [
    "a = np.arange(1,13).reshape(3,4)\n",
    "print(a)\n",
    "b = np.arange(1,11).reshape(2,5)\n",
    "print(b)\n",
    "\n",
    "print(f\"a+b的值是{a+b}\")"
   ],
   "id": "458a5819a9f5b206",
   "outputs": [
    {
     "name": "stdout",
     "output_type": "stream",
     "text": [
      "[[ 1  2  3  4]\n",
      " [ 5  6  7  8]\n",
      " [ 9 10 11 12]]\n",
      "[[ 1  2  3  4  5]\n",
      " [ 6  7  8  9 10]]\n"
     ]
    },
    {
     "ename": "ValueError",
     "evalue": "operands could not be broadcast together with shapes (3,4) (2,5) ",
     "output_type": "error",
     "traceback": [
      "\u001B[0;31m---------------------------------------------------------------------------\u001B[0m",
      "\u001B[0;31mValueError\u001B[0m                                Traceback (most recent call last)",
      "Cell \u001B[0;32mIn[18], line 6\u001B[0m\n\u001B[1;32m      3\u001B[0m b \u001B[38;5;241m=\u001B[39m np\u001B[38;5;241m.\u001B[39marange(\u001B[38;5;241m1\u001B[39m,\u001B[38;5;241m11\u001B[39m)\u001B[38;5;241m.\u001B[39mreshape(\u001B[38;5;241m2\u001B[39m,\u001B[38;5;241m5\u001B[39m)\n\u001B[1;32m      4\u001B[0m \u001B[38;5;28mprint\u001B[39m(b)\n\u001B[0;32m----> 6\u001B[0m \u001B[38;5;28mprint\u001B[39m(\u001B[38;5;124mf\u001B[39m\u001B[38;5;124m\"\u001B[39m\u001B[38;5;124ma+b的值是\u001B[39m\u001B[38;5;132;01m{\u001B[39;00ma\u001B[38;5;241m+\u001B[39mb\u001B[38;5;132;01m}\u001B[39;00m\u001B[38;5;124m\"\u001B[39m)\n",
      "\u001B[0;31mValueError\u001B[0m: operands could not be broadcast together with shapes (3,4) (2,5) "
     ]
    }
   ],
   "execution_count": 18
  },
  {
   "metadata": {},
   "cell_type": "markdown",
   "source": [
    "### 5、数组中的转置\n",
    "转置是一种变换,对于numpy中的数组来说,就是在对角线方向交换数据,目的也是为了更方便的去处理数据"
   ],
   "id": "63fce61c32b7b766"
  },
  {
   "metadata": {
    "ExecuteTime": {
     "end_time": "2025-06-28T23:40:01.841187Z",
     "start_time": "2025-06-28T23:40:01.827967Z"
    }
   },
   "cell_type": "code",
   "source": [
    "t = np.array([[ 0,  1,  2,  3,  4,  5],[ 6,  7,  8,  9, 10, 11],[12, 13, 14, 15, 16, 17]])\n",
    "t"
   ],
   "id": "1bd27a9843b17291",
   "outputs": [
    {
     "data": {
      "text/plain": [
       "array([[ 0,  1,  2,  3,  4,  5],\n",
       "       [ 6,  7,  8,  9, 10, 11],\n",
       "       [12, 13, 14, 15, 16, 17]])"
      ]
     },
     "execution_count": 22,
     "metadata": {},
     "output_type": "execute_result"
    }
   ],
   "execution_count": 22
  },
  {
   "metadata": {
    "ExecuteTime": {
     "end_time": "2025-06-28T23:40:21.600642Z",
     "start_time": "2025-06-28T23:40:21.593576Z"
    }
   },
   "cell_type": "code",
   "source": "t.transpose()",
   "id": "bd7895086aa7861c",
   "outputs": [
    {
     "data": {
      "text/plain": [
       "array([[ 0,  6, 12],\n",
       "       [ 1,  7, 13],\n",
       "       [ 2,  8, 14],\n",
       "       [ 3,  9, 15],\n",
       "       [ 4, 10, 16],\n",
       "       [ 5, 11, 17]])"
      ]
     },
     "execution_count": 23,
     "metadata": {},
     "output_type": "execute_result"
    }
   ],
   "execution_count": 23
  },
  {
   "metadata": {
    "ExecuteTime": {
     "end_time": "2025-06-28T23:40:36.065013Z",
     "start_time": "2025-06-28T23:40:36.057507Z"
    }
   },
   "cell_type": "code",
   "source": "t.swapaxes(1,0)",
   "id": "c218957714a275be",
   "outputs": [
    {
     "data": {
      "text/plain": [
       "array([[ 0,  6, 12],\n",
       "       [ 1,  7, 13],\n",
       "       [ 2,  8, 14],\n",
       "       [ 3,  9, 15],\n",
       "       [ 4, 10, 16],\n",
       "       [ 5, 11, 17]])"
      ]
     },
     "execution_count": 24,
     "metadata": {},
     "output_type": "execute_result"
    }
   ],
   "execution_count": 24
  },
  {
   "metadata": {
    "ExecuteTime": {
     "end_time": "2025-06-28T23:40:59.059415Z",
     "start_time": "2025-06-28T23:40:59.048976Z"
    }
   },
   "cell_type": "code",
   "source": "t.T",
   "id": "a08d4393f9a4cb81",
   "outputs": [
    {
     "data": {
      "text/plain": [
       "array([[ 0,  6, 12],\n",
       "       [ 1,  7, 13],\n",
       "       [ 2,  8, 14],\n",
       "       [ 3,  9, 15],\n",
       "       [ 4, 10, 16],\n",
       "       [ 5, 11, 17]])"
      ]
     },
     "execution_count": 25,
     "metadata": {},
     "output_type": "execute_result"
    }
   ],
   "execution_count": 25
  },
  {
   "metadata": {},
   "cell_type": "markdown",
   "source": [
    "###  6、数组的拼接\n",
    "数组水平或者竖直拼接很简单，但是拼接之前应该注意什么？  \n",
    "竖直拼接的时候：每一列代表的意义相同！！！否则牛头不对马嘴\n",
    "\n",
    "如果每一列的意义不同，这个时候应该交换某一组的数的列，让其和另外一类相同"
   ],
   "id": "b878d4fbfbaf4dc"
  },
  {
   "metadata": {
    "ExecuteTime": {
     "end_time": "2025-06-28T23:42:29.964740Z",
     "start_time": "2025-06-28T23:42:29.953684Z"
    }
   },
   "cell_type": "code",
   "source": [
    "t1 = np.arange(0,12).reshape(2,6)\n",
    "print(t1)\n",
    "print(\"\\n\")\n",
    "t2 = np.arange(12,24).reshape(2,6)\n",
    "print(t2)"
   ],
   "id": "4a6b68741f59245f",
   "outputs": [
    {
     "name": "stdout",
     "output_type": "stream",
     "text": [
      "[[ 0  1  2  3  4  5]\n",
      " [ 6  7  8  9 10 11]]\n",
      "\n",
      "\n",
      "[[12 13 14 15 16 17]\n",
      " [18 19 20 21 22 23]]\n"
     ]
    }
   ],
   "execution_count": 26
  },
  {
   "metadata": {
    "ExecuteTime": {
     "end_time": "2025-06-28T23:42:39.875010Z",
     "start_time": "2025-06-28T23:42:39.864011Z"
    }
   },
   "cell_type": "code",
   "source": "np.vstack((t1,t2)) # 竖直拼接",
   "id": "ef52b76b3c558de3",
   "outputs": [
    {
     "data": {
      "text/plain": [
       "array([[ 0,  1,  2,  3,  4,  5],\n",
       "       [ 6,  7,  8,  9, 10, 11],\n",
       "       [12, 13, 14, 15, 16, 17],\n",
       "       [18, 19, 20, 21, 22, 23]])"
      ]
     },
     "execution_count": 27,
     "metadata": {},
     "output_type": "execute_result"
    }
   ],
   "execution_count": 27
  },
  {
   "metadata": {
    "ExecuteTime": {
     "end_time": "2025-06-28T23:42:47.273532Z",
     "start_time": "2025-06-28T23:42:47.254013Z"
    }
   },
   "cell_type": "code",
   "source": "np.hstack((t1,t2)) # 水平拼接",
   "id": "39b60ab16ee11eec",
   "outputs": [
    {
     "data": {
      "text/plain": [
       "array([[ 0,  1,  2,  3,  4,  5, 12, 13, 14, 15, 16, 17],\n",
       "       [ 6,  7,  8,  9, 10, 11, 18, 19, 20, 21, 22, 23]])"
      ]
     },
     "execution_count": 28,
     "metadata": {},
     "output_type": "execute_result"
    }
   ],
   "execution_count": 28
  },
  {
   "metadata": {},
   "cell_type": "markdown",
   "source": "###  7、数组的行列交换\n",
   "id": "b889b344aa467b63"
  },
  {
   "metadata": {
    "ExecuteTime": {
     "end_time": "2025-06-28T23:49:17.029932Z",
     "start_time": "2025-06-28T23:49:17.016091Z"
    }
   },
   "cell_type": "code",
   "source": [
    "t = np.arange(12,24).reshape(3,4)\n",
    "t"
   ],
   "id": "1232c813f2255df9",
   "outputs": [
    {
     "data": {
      "text/plain": [
       "array([[12, 13, 14, 15],\n",
       "       [16, 17, 18, 19],\n",
       "       [20, 21, 22, 23]])"
      ]
     },
     "execution_count": 34,
     "metadata": {},
     "output_type": "execute_result"
    }
   ],
   "execution_count": 34
  },
  {
   "metadata": {
    "ExecuteTime": {
     "end_time": "2025-06-28T23:49:18.798824Z",
     "start_time": "2025-06-28T23:49:18.788867Z"
    }
   },
   "cell_type": "code",
   "source": [
    "t[[1,2],:] = t[[2,1],:] # 行交换\n",
    "t"
   ],
   "id": "a15f12cbe6461bb5",
   "outputs": [
    {
     "data": {
      "text/plain": [
       "array([[12, 13, 14, 15],\n",
       "       [20, 21, 22, 23],\n",
       "       [16, 17, 18, 19]])"
      ]
     },
     "execution_count": 35,
     "metadata": {},
     "output_type": "execute_result"
    }
   ],
   "execution_count": 35
  },
  {
   "metadata": {
    "ExecuteTime": {
     "end_time": "2025-06-28T23:49:21.029910Z",
     "start_time": "2025-06-28T23:49:21.025383Z"
    }
   },
   "cell_type": "code",
   "source": [
    "t[:,[0,2]] = t[:,[2,0]] # 列交换\n",
    "t"
   ],
   "id": "ff68c97179dbce2c",
   "outputs": [
    {
     "data": {
      "text/plain": [
       "array([[14, 13, 12, 15],\n",
       "       [22, 21, 20, 23],\n",
       "       [18, 17, 16, 19]])"
      ]
     },
     "execution_count": 36,
     "metadata": {},
     "output_type": "execute_result"
    }
   ],
   "execution_count": 36
  },
  {
   "metadata": {},
   "cell_type": "markdown",
   "source": "###  8、数组中的clip(裁剪)\n",
   "id": "374437288e286f53"
  },
  {
   "metadata": {
    "ExecuteTime": {
     "end_time": "2025-06-28T23:50:40.755973Z",
     "start_time": "2025-06-28T23:50:40.746526Z"
    }
   },
   "cell_type": "code",
   "source": [
    "t = np.arange(0,20).reshape(5,4)\n",
    "t"
   ],
   "id": "dae3cd073831ea00",
   "outputs": [
    {
     "data": {
      "text/plain": [
       "array([[ 0,  1,  2,  3],\n",
       "       [ 4,  5,  6,  7],\n",
       "       [ 8,  9, 10, 11],\n",
       "       [12, 13, 14, 15],\n",
       "       [16, 17, 18, 19]])"
      ]
     },
     "execution_count": 37,
     "metadata": {},
     "output_type": "execute_result"
    }
   ],
   "execution_count": 37
  },
  {
   "metadata": {
    "ExecuteTime": {
     "end_time": "2025-06-28T23:51:39.998186Z",
     "start_time": "2025-06-28T23:51:39.981597Z"
    }
   },
   "cell_type": "code",
   "source": "t.clip(9,10) # 小于9的修改为9，大于10的修改为10",
   "id": "3d1f8a074209d175",
   "outputs": [
    {
     "data": {
      "text/plain": [
       "array([[ 9,  9,  9,  9],\n",
       "       [ 9,  9,  9,  9],\n",
       "       [ 9,  9, 10, 10],\n",
       "       [10, 10, 10, 10],\n",
       "       [10, 10, 10, 10]])"
      ]
     },
     "execution_count": 38,
     "metadata": {},
     "output_type": "execute_result"
    }
   ],
   "execution_count": 38
  },
  {
   "metadata": {},
   "cell_type": "markdown",
   "source": "clip 函数，clip 函数用于将数组中的元素限制在某个范围内，即小于某个最小值的元素将被设置为这个最小值，大于某个最大值的元素将被设置为这个最大值。",
   "id": "5f2669f469ebd844"
  },
  {
   "metadata": {
    "ExecuteTime": {
     "end_time": "2025-06-28T23:54:45.888846Z",
     "start_time": "2025-06-28T23:54:45.866302Z"
    }
   },
   "cell_type": "code",
   "source": [
    "###  9、数组中数值的修改\n",
    "t = np.arange(0,20).reshape(5,4)\n",
    "t"
   ],
   "id": "f3fb61b916f588a1",
   "outputs": [
    {
     "data": {
      "text/plain": [
       "array([[ 0,  1,  2,  3],\n",
       "       [ 4,  5,  6,  7],\n",
       "       [ 8,  9, 10, 11],\n",
       "       [12, 13, 14, 15],\n",
       "       [16, 17, 18, 19]])"
      ]
     },
     "execution_count": 42,
     "metadata": {},
     "output_type": "execute_result"
    }
   ],
   "execution_count": 42
  },
  {
   "metadata": {
    "ExecuteTime": {
     "end_time": "2025-06-28T23:54:50.548385Z",
     "start_time": "2025-06-28T23:54:50.538762Z"
    }
   },
   "cell_type": "code",
   "source": [
    "t[0,0] = 100\n",
    "t"
   ],
   "id": "a9388aa4740e254f",
   "outputs": [
    {
     "data": {
      "text/plain": [
       "array([[100,   1,   2,   3],\n",
       "       [  4,   5,   6,   7],\n",
       "       [  8,   9,  10,  11],\n",
       "       [ 12,  13,  14,  15],\n",
       "       [ 16,  17,  18,  19]])"
      ]
     },
     "execution_count": 43,
     "metadata": {},
     "output_type": "execute_result"
    }
   ],
   "execution_count": 43
  },
  {
   "metadata": {
    "ExecuteTime": {
     "end_time": "2025-06-28T23:55:05.252399Z",
     "start_time": "2025-06-28T23:55:05.244666Z"
    }
   },
   "cell_type": "code",
   "source": [
    "t[:,0:2] = 0\n",
    "t"
   ],
   "id": "a0eb7c7c05795dcd",
   "outputs": [
    {
     "data": {
      "text/plain": [
       "array([[ 0,  0,  2,  3],\n",
       "       [ 0,  0,  6,  7],\n",
       "       [ 0,  0, 10, 11],\n",
       "       [ 0,  0, 14, 15],\n",
       "       [ 0,  0, 18, 19]])"
      ]
     },
     "execution_count": 45,
     "metadata": {},
     "output_type": "execute_result"
    }
   ],
   "execution_count": 45
  },
  {
   "metadata": {
    "ExecuteTime": {
     "end_time": "2025-06-28T23:55:19.895704Z",
     "start_time": "2025-06-28T23:55:19.889288Z"
    }
   },
   "cell_type": "code",
   "source": [
    "t[t<20] = 0\n",
    "t"
   ],
   "id": "73bbb4ae1b206ae",
   "outputs": [
    {
     "data": {
      "text/plain": [
       "array([[0, 0, 0, 0],\n",
       "       [0, 0, 0, 0],\n",
       "       [0, 0, 0, 0],\n",
       "       [0, 0, 0, 0],\n",
       "       [0, 0, 0, 0]])"
      ]
     },
     "execution_count": 47,
     "metadata": {},
     "output_type": "execute_result"
    }
   ],
   "execution_count": 47
  },
  {
   "metadata": {
    "ExecuteTime": {
     "end_time": "2025-06-28T23:55:28.679704Z",
     "start_time": "2025-06-28T23:55:28.668391Z"
    }
   },
   "cell_type": "code",
   "source": [
    "t[t==0] = 1 # 等于0的都修改为1\n",
    "t"
   ],
   "id": "795b73cfd40d5a78",
   "outputs": [
    {
     "data": {
      "text/plain": [
       "array([[1, 1, 1, 1],\n",
       "       [1, 1, 1, 1],\n",
       "       [1, 1, 1, 1],\n",
       "       [1, 1, 1, 1],\n",
       "       [1, 1, 1, 1]])"
      ]
     },
     "execution_count": 48,
     "metadata": {},
     "output_type": "execute_result"
    }
   ],
   "execution_count": 48
  },
  {
   "metadata": {},
   "cell_type": "markdown",
   "source": [
    "## numpy常用方法\n",
    "###  1、小技巧"
   ],
   "id": "4ad68eb5be055c0d"
  },
  {
   "metadata": {
    "ExecuteTime": {
     "end_time": "2025-06-29T00:29:15.269313Z",
     "start_time": "2025-06-29T00:29:15.256760Z"
    }
   },
   "cell_type": "code",
   "source": [
    "## 1）获取最大值最小值的位置\n",
    "t1 = np.array([11, 12, 13, 14, 15, 16, 17, 18, 19])\n",
    "print(t1)\n",
    "\n",
    "print(np.argmax(t1,axis=0)) #返回最大值索引\n",
    "print(np.argmin(t1,axis=0)) #返回最小值索引\n",
    "\n",
    "# 多维数组就返回每行的最大或最小值\n",
    "t2 = np.arange(0,16).reshape(4,4)\n",
    "print(t2)\n",
    "\n",
    "print(np.argmax(t2,axis=0)) #返回最大值索引\n",
    "print(np.argmin(t2,axis=0)) #返回最小值索引"
   ],
   "id": "197f0d5544776a5b",
   "outputs": [
    {
     "name": "stdout",
     "output_type": "stream",
     "text": [
      "[11 12 13 14 15 16 17 18 19]\n",
      "8\n",
      "0\n",
      "[[ 0  1  2  3]\n",
      " [ 4  5  6  7]\n",
      " [ 8  9 10 11]\n",
      " [12 13 14 15]]\n",
      "[3 3 3 3]\n",
      "[0 0 0 0]\n"
     ]
    }
   ],
   "execution_count": 50
  },
  {
   "metadata": {
    "ExecuteTime": {
     "end_time": "2025-06-29T00:30:06.899054Z",
     "start_time": "2025-06-29T00:30:06.883036Z"
    }
   },
   "cell_type": "code",
   "source": [
    "## 2）创建一个全0的数组: `np.zeros((3,4))`\n",
    "np.zeros((3,4))"
   ],
   "id": "5762704765bc5b9c",
   "outputs": [
    {
     "data": {
      "text/plain": [
       "array([[0., 0., 0., 0.],\n",
       "       [0., 0., 0., 0.],\n",
       "       [0., 0., 0., 0.]])"
      ]
     },
     "execution_count": 51,
     "metadata": {},
     "output_type": "execute_result"
    }
   ],
   "execution_count": 51
  },
  {
   "metadata": {
    "ExecuteTime": {
     "end_time": "2025-06-29T00:30:20.249704Z",
     "start_time": "2025-06-29T00:30:20.241074Z"
    }
   },
   "cell_type": "code",
   "source": [
    "## 3）创建一个全1的数组：`np.ones((3,4))`\n",
    "np.ones((3,4))"
   ],
   "id": "d96b5ae434a4a3d5",
   "outputs": [
    {
     "data": {
      "text/plain": [
       "array([[1., 1., 1., 1.],\n",
       "       [1., 1., 1., 1.],\n",
       "       [1., 1., 1., 1.]])"
      ]
     },
     "execution_count": 52,
     "metadata": {},
     "output_type": "execute_result"
    }
   ],
   "execution_count": 52
  },
  {
   "metadata": {
    "ExecuteTime": {
     "end_time": "2025-06-29T00:30:38.619827Z",
     "start_time": "2025-06-29T00:30:38.598896Z"
    }
   },
   "cell_type": "code",
   "source": [
    "## 4）创建一个对角线为1的正方形数组(方阵)：`np.eye(3)`\n",
    "np.eye(3)\n"
   ],
   "id": "d421a9c2bb184a4f",
   "outputs": [
    {
     "data": {
      "text/plain": [
       "array([[1., 0., 0.],\n",
       "       [0., 1., 0.],\n",
       "       [0., 0., 1.]])"
      ]
     },
     "execution_count": 53,
     "metadata": {},
     "output_type": "execute_result"
    }
   ],
   "execution_count": 53
  },
  {
   "metadata": {},
   "cell_type": "markdown",
   "source": [
    "### 2、生成随机数\n",
    "\n",
    "| 方法                                           | 说明                                                         |\n",
    "| ---------------------------------------------- | ------------------------------------------------------------ |\n",
    "| `np.random.rand(d0, d1,.. dn)`                 | 创建d0-dn维度的均匀分布的随机数数组，浮点数，范围从0-1       |\n",
    "| `np.random.randn(d0,d1,. .dn)`                 | 创建d0-dn维度的标准正态分布随机数，浮点数，平均数0，标准差1  |\n",
    "| `np.random.randint(low, high,(shape))` (常用） | 从给定上下限范围选取随机数整数，范围是low,high,形状是shape   |\n",
    "| `np.random.uniform( low, high,(size))`         | 产生具有均匀分布的小数数组，low起始值，high结束值，size形状  |\n",
    "| `np.random.normal(loc, scale,(size))`          | 从指定正态分布中随机抽取样本，分布中心是loc (概率分布的均值) ,标准差是scale,形状是size |\n",
    "| `np.random.seed(s)`                            | 随机数种子，s是给定的种子值。因为计算机生成的是伪随机数，所以通过设定相同的随机数种子，可以每次生成相同的随机数 |"
   ],
   "id": "c879926ae6d93375"
  },
  {
   "metadata": {
    "ExecuteTime": {
     "end_time": "2025-06-29T00:31:21.642940Z",
     "start_time": "2025-06-29T00:31:21.631545Z"
    }
   },
   "cell_type": "code",
   "source": "np.random.randint(10,20,(3,3))",
   "id": "a3821cf281d08e20",
   "outputs": [
    {
     "data": {
      "text/plain": [
       "array([[16, 11, 10],\n",
       "       [12, 16, 11],\n",
       "       [15, 18, 12]])"
      ]
     },
     "execution_count": 54,
     "metadata": {},
     "output_type": "execute_result"
    }
   ],
   "execution_count": 54
  },
  {
   "metadata": {
    "ExecuteTime": {
     "end_time": "2025-06-29T00:31:43.592516Z",
     "start_time": "2025-06-29T00:31:43.585359Z"
    }
   },
   "cell_type": "code",
   "source": "np.random.randint(10,20,(3,3))",
   "id": "4fb6d5035e712895",
   "outputs": [
    {
     "data": {
      "text/plain": [
       "array([[15, 14, 17],\n",
       "       [14, 13, 10],\n",
       "       [18, 19, 19]])"
      ]
     },
     "execution_count": 55,
     "metadata": {},
     "output_type": "execute_result"
    }
   ],
   "execution_count": 55
  },
  {
   "metadata": {},
   "cell_type": "code",
   "outputs": [],
   "execution_count": null,
   "source": "",
   "id": "1b2f752f49bcc1e5"
  }
 ],
 "metadata": {
  "kernelspec": {
   "display_name": "Python 3",
   "language": "python",
   "name": "python3"
  },
  "language_info": {
   "codemirror_mode": {
    "name": "ipython",
    "version": 2
   },
   "file_extension": ".py",
   "mimetype": "text/x-python",
   "name": "python",
   "nbconvert_exporter": "python",
   "pygments_lexer": "ipython2",
   "version": "2.7.6"
  }
 },
 "nbformat": 4,
 "nbformat_minor": 5
}
