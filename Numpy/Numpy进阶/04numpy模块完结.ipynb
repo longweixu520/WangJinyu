{
 "cells": [
  {
   "metadata": {},
   "cell_type": "markdown",
   "source": [
    "## 一、拷贝\n",
    "\n",
    "### 1、赋值\n",
    "\n",
    "简单的赋值不会创建数组对象的副本。相反，它使用原始数组的相同id()来访问它。id()返回Python对象的通用标识符，类似于C中的指针。\n",
    "\n",
    "一个数组的任何变化都反映在另-个数组上。例如，一个数组的形状改变也会改变另一个数组的形状\n"
   ],
   "id": "f38f8771f6bc7ab8"
  },
  {
   "metadata": {
    "ExecuteTime": {
     "end_time": "2025-06-29T02:20:39.984179Z",
     "start_time": "2025-06-29T02:20:39.915734Z"
    }
   },
   "cell_type": "code",
   "source": [
    "import numpy as np\n",
    "\n",
    "# 创建原始数组\n",
    "x = np.array([1, 2, 3, 4, 5, 6])\n",
    "print(f\"原始数组x:\\n{x}\")\n",
    "\n",
    "# 显示内存地址\n",
    "print(f\"\\nx的内存地址: {id(x)}\")\n",
    "\n",
    "# 创建数组引用\n",
    "y = x\n",
    "print(f\"y的内存地址: {id(y)}\")  # 与x相同，说明是同一对象\n",
    "\n",
    "# 通过y修改形状\n",
    "y.shape = (3, 2)\n",
    "print(f\"\\n修改形状后的y:\\n{y}\")\n",
    "print(f\"修改后的x:\\n{x}\")  # x也随之改变，因为它们指向同一内存"
   ],
   "id": "ac47dfc11cfc5301",
   "outputs": [
    {
     "name": "stdout",
     "output_type": "stream",
     "text": [
      "原始数组x:\n",
      "[1 2 3 4 5 6]\n",
      "\n",
      "x的内存地址: 4461639792\n",
      "y的内存地址: 4461639792\n",
      "\n",
      "修改形状后的y:\n",
      "[[1 2]\n",
      " [3 4]\n",
      " [5 6]]\n",
      "修改后的x:\n",
      "[[1 2]\n",
      " [3 4]\n",
      " [5 6]]\n"
     ]
    }
   ],
   "execution_count": 1
  },
  {
   "metadata": {},
   "cell_type": "markdown",
   "source": [
    "### 2、 视图\n",
    "\n",
    "又可称为浅拷贝，是数据的一个别称或引用，通过该别称或引用亦便可访问、操作原有数据，但原有数据不会产生拷贝。对视图进行修改，它会影响到原始数据，物理内存在同一位\n",
    "\n",
    "发生情况：\n",
    "\n",
    "* numpy的切片操作返回原数据的视图，修改数据会影响到原始数组"
   ],
   "id": "b1f1e3edcfdfad5e"
  },
  {
   "metadata": {},
   "cell_type": "code",
   "outputs": [],
   "execution_count": null,
   "source": [
    "import numpy as np\n",
    "\n",
    "# 创建原始数组\n",
    "x = np.arange(12)\n",
    "print(f\"原始数组x:\\n{x}\")\n",
    "\n",
    "# 创建切片视图\n",
    "y = x[3:]\n",
    "print(f\"\\n切片y (x[3:]):\\n{y}\")\n",
    "\n",
    "# 修改切片中的元素\n",
    "y[1] = 100  # 这会同时修改原始数组x\n",
    "\n",
    "print(\"\\n修改y[1] = 100后:\")\n",
    "print(f\"切片y:\\n{y}\")\n",
    "print(f\"原始数组x:\\n{x}\")  # 可以看到x[4]也被修改了"
   ],
   "id": "29db82194550be4b"
  },
  {
   "metadata": {},
   "cell_type": "markdown",
   "source": "调用ndarray的view()函数产生一个视图创建一个新的数组对象，该方法创建的新数组的维数更改不会更改原始数据的维数",
   "id": "a049fa36283ae4e5"
  },
  {
   "metadata": {
    "ExecuteTime": {
     "end_time": "2025-06-29T02:23:53.142258Z",
     "start_time": "2025-06-29T02:23:53.120414Z"
    }
   },
   "cell_type": "code",
   "source": [
    "import numpy as np\n",
    "\n",
    "# 创建原始3x2数组\n",
    "x = np.arange(6).reshape((3, 2))\n",
    "print(f\"原始数组x:\\n{x}\")\n",
    "\n",
    "# 创建视图\n",
    "y = x.view()\n",
    "print(f\"\\n视图数组y:\\n{y}\")\n",
    "\n",
    "# 比较内存地址\n",
    "print(f\"\\n内存地址比较:\")\n",
    "print(f\"x的地址: {id(x)}\")\n",
    "print(f\"y的地址: {id(y)}\")  # 不同地址但共享数据\n",
    "\n",
    "# 通过视图修改数据\n",
    "y[1][0] = 100\n",
    "print(\"\\n修改y[1][0] = 100后:\")\n",
    "print(f\"视图y:\\n{y}\")\n",
    "print(f\"原始x:\\n{x}\")  # x也被修改，说明共享数据内存"
   ],
   "id": "6cdeb11560438b39",
   "outputs": [
    {
     "name": "stdout",
     "output_type": "stream",
     "text": [
      "原始数组x:\n",
      "[[0 1]\n",
      " [2 3]\n",
      " [4 5]]\n",
      "\n",
      "视图数组y:\n",
      "[[0 1]\n",
      " [2 3]\n",
      " [4 5]]\n",
      "\n",
      "内存地址比较:\n",
      "x的地址: 4467623472\n",
      "y的地址: 4467623184\n",
      "\n",
      "修改y[1][0] = 100后:\n",
      "视图y:\n",
      "[[  0   1]\n",
      " [100   3]\n",
      " [  4   5]]\n",
      "原始x:\n",
      "[[  0   1]\n",
      " [100   3]\n",
      " [  4   5]]\n"
     ]
    }
   ],
   "execution_count": 3
  },
  {
   "metadata": {},
   "cell_type": "markdown",
   "source": [
    "### 3、 副本\n",
    "\n",
    "又可称为深拷贝，是一个数据的完整的拷贝，如果我们对副本进行修改，它不会影响到原始数据，物理内存不在同- -位置\n",
    "\n",
    "发生情况：\n",
    "\n",
    "* 调用ndarray的copy()函数产生一个副本\n",
    "* 作用：创建一个副本\n",
    "* 说明：对副本数据进行修改，不会影响到原始数据，它们物理内存不在同一位置"
   ],
   "id": "102d7da7a0cb2c10"
  },
  {
   "metadata": {
    "ExecuteTime": {
     "end_time": "2025-06-29T02:24:40.890887Z",
     "start_time": "2025-06-29T02:24:40.876806Z"
    }
   },
   "cell_type": "code",
   "source": [
    "import numpy as np\n",
    "\n",
    "# 创建原始数组\n",
    "x = np.array([[10, 10], [2, 3], [4, 5]])\n",
    "print(f\"原始数组x:\\n{x}\")\n",
    "\n",
    "# 创建深层副本\n",
    "y = x.copy()\n",
    "print(f\"\\n副本数组y:\\n{y}\")\n",
    "\n",
    "# 验证是否为独立副本\n",
    "print(f\"\\n验证独立性:\")\n",
    "print(f\"y is x? {y is x}\")  # False表示是不同的对象\n",
    "print(f\"内存地址: x={id(x)}, y={id(y)}\")\n",
    "\n",
    "# 修改副本验证独立性\n",
    "y[0][0] = 100\n",
    "print(f\"\\n修改y[0][0]=100后:\")\n",
    "print(f\"副本y:\\n{y}\")\n",
    "print(f\"原始x:\\n{x}\")  # x保持不变"
   ],
   "id": "b349a7de57d0c0",
   "outputs": [
    {
     "name": "stdout",
     "output_type": "stream",
     "text": [
      "原始数组x:\n",
      "[[10 10]\n",
      " [ 2  3]\n",
      " [ 4  5]]\n",
      "\n",
      "副本数组y:\n",
      "[[10 10]\n",
      " [ 2  3]\n",
      " [ 4  5]]\n",
      "\n",
      "验证独立性:\n",
      "y is x? False\n",
      "内存地址: x=4467624144, y=4466947248\n",
      "\n",
      "修改y[0][0]=100后:\n",
      "副本y:\n",
      "[[100  10]\n",
      " [  2   3]\n",
      " [  4   5]]\n",
      "原始x:\n",
      "[[10 10]\n",
      " [ 2  3]\n",
      " [ 4  5]]\n"
     ]
    }
   ],
   "execution_count": 4
  },
  {
   "metadata": {},
   "cell_type": "markdown",
   "source": [
    "### 4、 注意点copy和view\n",
    "\n",
    "* `a=b` ：完全不复制，a和b相互影响\n",
    "* `a = b[:]`：视图的操作，一种切片，会创建新的对象a，但是a的数据完全由b保管，他们两个的数据变化是一致的，\n",
    "* `a = b.copy()`：复制，a和b互不影响"
   ],
   "id": "522a652fcf69036e"
  },
  {
   "metadata": {},
   "cell_type": "markdown",
   "source": [
    "## 二、numpy常用方法\n",
    "### 1、 小技巧\n",
    "\n",
    "1）获取最大值最小值的位置"
   ],
   "id": "cd44c4fe64bc5241"
  },
  {
   "metadata": {
    "ExecuteTime": {
     "end_time": "2025-06-29T02:26:03.783316Z",
     "start_time": "2025-06-29T02:26:03.769713Z"
    }
   },
   "cell_type": "code",
   "source": [
    "import numpy as np\n",
    "\n",
    "# 一维数组示例\n",
    "t1 = np.array([11, 12, 13, 14, 15, 16, 17, 18, 19])\n",
    "print(f\"一维数组t1:\\n{t1}\")\n",
    "print(f\"\\n最大值索引: {np.argmax(t1)} (值={t1[np.argmax(t1)]})\")\n",
    "print(f\"最小值索引: {np.argmin(t1)} (值={t1[np.argmin(t1)]})\")\n",
    "\n",
    "# 二维数组示例\n",
    "t2 = np.arange(0,16).reshape(4,4)\n",
    "print(f\"\\n二维数组t2:\\n{t2}\")\n",
    "\n",
    "# 沿axis=0(列方向)查找极值索引\n",
    "print(\"\\n每列的最大值索引:\", np.argmax(t2, axis=0))\n",
    "print(\"每列的最小值索引:\", np.argmin(t2, axis=0))\n",
    "\n",
    "# 沿axis=1(行方向)查找极值索引\n",
    "print(\"\\n每行的最大值索引:\", np.argmax(t2, axis=1))\n",
    "print(\"每行的最小值索引:\", np.argmax(t2, axis=1))"
   ],
   "id": "1d5bc54c7d49a7a5",
   "outputs": [
    {
     "name": "stdout",
     "output_type": "stream",
     "text": [
      "一维数组t1:\n",
      "[11 12 13 14 15 16 17 18 19]\n",
      "\n",
      "最大值索引: 8 (值=19)\n",
      "最小值索引: 0 (值=11)\n",
      "\n",
      "二维数组t2:\n",
      "[[ 0  1  2  3]\n",
      " [ 4  5  6  7]\n",
      " [ 8  9 10 11]\n",
      " [12 13 14 15]]\n",
      "\n",
      "每列的最大值索引: [3 3 3 3]\n",
      "每列的最小值索引: [0 0 0 0]\n",
      "\n",
      "每行的最大值索引: [3 3 3 3]\n",
      "每行的最小值索引: [3 3 3 3]\n"
     ]
    }
   ],
   "execution_count": 5
  },
  {
   "metadata": {},
   "cell_type": "markdown",
   "source": "2）全0全1对角线1的数组\n",
   "id": "b31ca73bd476dd93"
  },
  {
   "metadata": {
    "ExecuteTime": {
     "end_time": "2025-06-29T02:28:07.922308Z",
     "start_time": "2025-06-29T02:28:07.893051Z"
    }
   },
   "cell_type": "code",
   "source": [
    "import numpy as np\n",
    "\n",
    "# 创建全零数组\n",
    "zeros_arr = np.zeros((3,4))\n",
    "print(f\"3x4全零数组:\\n{zeros_arr}\\n\")\n",
    "\n",
    "# 创建全1数组\n",
    "ones_arr = np.ones((3,4))\n",
    "print(f\"3x4全1数组:\\n{ones_arr}\\n\")\n",
    "\n",
    "# 创建3x3单位矩阵\n",
    "eye3 = np.eye(3)\n",
    "print(f\"3x3单位矩阵:\\n{eye3}\\n\")\n",
    "\n",
    "# 创建10x10单位矩阵(只显示部分)\n",
    "eye10 = np.eye(10)\n",
    "print(\"10x10单位矩阵(部分显示):\")\n",
    "# 打印前3行和前5列，避免控制台输出过长\n",
    "print(eye10[:3, :5])\n",
    "print(\"... (其余部分省略) ...\")"
   ],
   "id": "71086733a7afbef0",
   "outputs": [
    {
     "name": "stdout",
     "output_type": "stream",
     "text": [
      "3x4全零数组:\n",
      "[[0. 0. 0. 0.]\n",
      " [0. 0. 0. 0.]\n",
      " [0. 0. 0. 0.]]\n",
      "\n",
      "3x4全1数组:\n",
      "[[1. 1. 1. 1.]\n",
      " [1. 1. 1. 1.]\n",
      " [1. 1. 1. 1.]]\n",
      "\n",
      "3x3单位矩阵:\n",
      "[[1. 0. 0.]\n",
      " [0. 1. 0.]\n",
      " [0. 0. 1.]]\n",
      "\n",
      "10x10单位矩阵(部分显示):\n",
      "[[1. 0. 0. 0. 0.]\n",
      " [0. 1. 0. 0. 0.]\n",
      " [0. 0. 1. 0. 0.]]\n",
      "... (其余部分省略) ...\n"
     ]
    }
   ],
   "execution_count": 6
  },
  {
   "metadata": {},
   "cell_type": "markdown",
   "source": [
    "### 2、 生成随机数\n",
    "\n",
    "| 方法                                           | 说明                                                         |\n",
    "| ---------------------------------------------- | ------------------------------------------------------------ |\n",
    "| `np.random.rand(d0, d1,.. dn)`                 | 创建d0-dn维度的均匀分布的随机数数组，浮点数，范围从0-1       |\n",
    "| `np.random.randn(d0,d1,. .dn)`                 | 创建d0-dn维度的标准正态分布随机数，浮点数，平均数0，标准差1  |\n",
    "| `np.random.randint(low, high,(shape))` (常用） | 从给定上下限范围选取随机数整数，范围是low,high,形状是shape   |\n",
    "| `np.random.uniform( low, high,(size))`         | 产生具有均匀分布的小数数组，low起始值，high结束值，size形状  |\n",
    "| `np.random.normal(loc, scale,(size))`          | 从指定正态分布中随机抽取样本，分布中心是loc (概率分布的均值) ,标准差是scale,形状是size |\n",
    "| `np.random.seed(s)`                            | 随机数种子，s是给定的种子值。因为计算机生成的是伪随机数，所以通过设定相同的随机数种子，可以每次生成相同的随机数 |"
   ],
   "id": "1f30fb5ef41f5d2"
  },
  {
   "metadata": {
    "ExecuteTime": {
     "end_time": "2025-06-29T02:29:11.945270Z",
     "start_time": "2025-06-29T02:29:11.886988Z"
    }
   },
   "cell_type": "code",
   "source": [
    "import numpy as np\n",
    "\n",
    "# 生成3x3随机整数矩阵（范围10-20）\n",
    "random_matrix1 = np.random.randint(10, 20, (3, 3))\n",
    "print(f\"第一个3x3随机矩阵(10-20):\\n{random_matrix1}\\n\")\n",
    "\n",
    "# 再次生成不同的3x3随机整数矩阵\n",
    "random_matrix2 = np.random.randint(10, 20, (3, 3))\n",
    "print(f\"第二个3x3随机矩阵(10-20):\\n{random_matrix2}\")\n",
    "\n",
    "# 设置随机种子确保可重复性演示\n",
    "np.random.seed(42)  # 设置随机种子\n",
    "print(\"\\n设置随机种子后(seed=42):\")\n",
    "consistent_matrix = np.random.randint(10, 20, (3, 3))\n",
    "print(f\"可重复的随机矩阵:\\n{consistent_matrix}\")\n",
    "\n",
    "# 生成不同范围的随机矩阵示例\n",
    "print(\"\\n其他范围示例:\")\n",
    "print(\"5x5矩阵(0-100):\\n\", np.random.randint(0, 100, (5, 5)))"
   ],
   "id": "e3b358de699b84a3",
   "outputs": [
    {
     "name": "stdout",
     "output_type": "stream",
     "text": [
      "第一个3x3随机矩阵(10-20):\n",
      "[[14 11 12]\n",
      " [16 13 16]\n",
      " [15 15 13]]\n",
      "\n",
      "第二个3x3随机矩阵(10-20):\n",
      "[[18 10 14]\n",
      " [10 11 12]\n",
      " [10 11 18]]\n",
      "\n",
      "设置随机种子后(seed=42):\n",
      "可重复的随机矩阵:\n",
      "[[16 13 17]\n",
      " [14 16 19]\n",
      " [12 16 17]]\n",
      "\n",
      "其他范围示例:\n",
      "5x5矩阵(0-100):\n",
      " [[99 23  2 21 52]\n",
      " [ 1 87 29 37  1]\n",
      " [63 59 20 32 75]\n",
      " [57 21 88 48 90]\n",
      " [58 41 91 59 79]]\n"
     ]
    }
   ],
   "execution_count": 7
  },
  {
   "metadata": {},
   "cell_type": "markdown",
   "source": [
    "## 三、numpy中的nan和inf\n",
    "\n",
    "**nan(NAN,Nan)：not a number表示不是一个数字**\n",
    "\n",
    "**什么时候numpy中会出现nan：**\n",
    "\n",
    "* 当我们读取本地的文件为float的时候，如果有缺失，就会出现nan\n",
    "* 当做了一个不合适的计算的时候(比如无穷大(inf)减去无穷大)\n",
    "\n",
    "**inf(-inf,inf):infinity,inf表示正无穷，-inf表示负无穷**\n",
    "\n",
    "**什么时候回出现inf包括（-inf，+inf）**：\n",
    "\n",
    "* 比如一个数字除以0，（python中直接会报错，numpy中是一个inf或者-inf）"
   ],
   "id": "65862cf263c5cf74"
  },
  {
   "metadata": {
    "ExecuteTime": {
     "end_time": "2025-06-29T02:29:57.501756Z",
     "start_time": "2025-06-29T02:29:57.488242Z"
    }
   },
   "cell_type": "code",
   "source": [
    "import numpy as np\n",
    "\n",
    "# 检查特殊值的类型\n",
    "print(f\"np.nan的类型: {type(np.nan)}\")  # <class 'float'>\n",
    "print(f\"np.inf的类型: {type(np.inf)}\")  # <class 'float'>\n",
    "\n",
    "# 相关特殊值演示\n",
    "print(\"\\n特殊值运算示例:\")\n",
    "print(f\"无穷大运算: {np.inf + 1}\")      # 仍为inf\n",
    "print(f\"无穷大比较: {np.inf > 10**100}\") # True\n",
    "print(f\"非数运算: {np.nan + 5}\")        # 仍为nan\n",
    "print(f\"非数比较: {np.nan == np.nan}\")   # False\n",
    "\n",
    "# 检测特殊值的实用方法\n",
    "arr = np.array([1, 2, np.nan, np.inf, 5])\n",
    "print(\"\\n特殊值检测:\")\n",
    "print(f\"是否为无穷: {np.isinf(arr)}\")  # [False False False  True False]\n",
    "print(f\"是否为非数: {np.isnan(arr)}\")  # [False False  True False False]"
   ],
   "id": "21ad88769f8913e9",
   "outputs": [
    {
     "name": "stdout",
     "output_type": "stream",
     "text": [
      "np.nan的类型: <class 'float'>\n",
      "np.inf的类型: <class 'float'>\n",
      "\n",
      "特殊值运算示例:\n",
      "无穷大运算: inf\n",
      "无穷大比较: True\n",
      "非数运算: nan\n",
      "非数比较: False\n",
      "\n",
      "特殊值检测:\n",
      "是否为无穷: [False False False  True False]\n",
      "是否为非数: [False False  True False False]\n"
     ]
    }
   ],
   "execution_count": 8
  },
  {
   "metadata": {},
   "cell_type": "code",
   "outputs": [],
   "execution_count": null,
   "source": "",
   "id": "83defb6b935d7c0e"
  }
 ],
 "metadata": {
  "kernelspec": {
   "display_name": "Python 3",
   "language": "python",
   "name": "python3"
  },
  "language_info": {
   "codemirror_mode": {
    "name": "ipython",
    "version": 2
   },
   "file_extension": ".py",
   "mimetype": "text/x-python",
   "name": "python",
   "nbconvert_exporter": "python",
   "pygments_lexer": "ipython2",
   "version": "2.7.6"
  }
 },
 "nbformat": 4,
 "nbformat_minor": 5
}
