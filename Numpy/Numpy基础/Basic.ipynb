{
 "cells": [
  {
   "metadata": {},
   "cell_type": "markdown",
   "source": [
    "# Numpy 入门基础教程\n",
    "NumPy是一个开源 Python 库，几乎用于科学和工程的每个领域。  \n",
    "它是在 Python 中处理数值数据的通用标准，也是科学 Python 和 PyData 生态系统的核心。  \n",
    "NumPy API 广泛用于 Pandas、SciPy、Matplotlib、scikit-learn、scikit-image和许多数据科学Python包中。  \n",
    "\n",
    "NumPy 库包含多维数组和矩阵数据结构。  \n",
    "它提供了 ndarray，一个同构 n 维数组对象，以及对其进行有效操作的方法。\n"
   ],
   "id": "49ef8025f92e8e1c"
  },
  {
   "metadata": {},
   "cell_type": "markdown",
   "source": [
    "## 安装Numpy\n",
    "在安装了python的前提下,通过pip进行安装。  \n",
    "\n",
    "`pip install numpy`"
   ],
   "id": "5c36f230bcaeaad9"
  },
  {
   "metadata": {
    "ExecuteTime": {
     "end_time": "2025-06-27T15:21:09.978659Z",
     "start_time": "2025-06-27T15:21:07.474181Z"
    }
   },
   "cell_type": "code",
   "source": [
    "# jupyter notebook中安装numpy方法\n",
    "! pip install numpy"
   ],
   "id": "b8d6940d663dce89",
   "outputs": [
    {
     "name": "stdout",
     "output_type": "stream",
     "text": [
      "Requirement already satisfied: numpy in /Users/longweixu/Desktop/CS_Python_learning/long_python/lib/python3.12/site-packages (2.3.1)\r\n"
     ]
    }
   ],
   "execution_count": 115
  },
  {
   "metadata": {},
   "cell_type": "markdown",
   "source": [
    "## 如何导入numpy\n",
    "如下所示"
   ],
   "id": "4249be8ec611adc0"
  },
  {
   "metadata": {
    "ExecuteTime": {
     "end_time": "2025-06-27T15:21:10.403774Z",
     "start_time": "2025-06-27T15:21:10.380012Z"
    }
   },
   "cell_type": "code",
   "source": "import numpy as np",
   "id": "bb5507c941aafec1",
   "outputs": [],
   "execution_count": 116
  },
  {
   "metadata": {},
   "cell_type": "markdown",
   "source": [
    "使用 NumPy 缩短导入的名称，以np提高代码的可读性。  \n",
    "这是一种广泛采用的约定，可以使代码对于每个使用它的人都更具可读性。  \n",
    "建议始终使用 import numpy as np。  "
   ],
   "id": "e4e72161b62e92e6"
  },
  {
   "metadata": {},
   "cell_type": "markdown",
   "source": [
    "## Python 列表和 NumPy 数组有什么区别？\n",
    "NumPy 为您提供了大量快速有效的方法来创建数组并操作其中的数字数据。  \n",
    "虽然 Python 列表可以在单个列表中包含不同的数据类型，但 NumPy 数组中的所有元素都应该是同类的。  \n",
    "如果数组不是同质的，则对数组执行的数学运算将非常低效。  \n",
    "\n",
    "NumPy 数组比 Python 列表更快、更紧凑。数组占用内存少，使用方便。  \n",
    "NumPy 使用更少的内存来存储数据，并且提供了指定数据类型的机制。这使得代码可以进一步优化。\n"
   ],
   "id": "9c31fab6742898df"
  },
  {
   "metadata": {},
   "cell_type": "markdown",
   "source": [
    "### 什么是数组？\n",
    "数组是 NumPy 库的核心数据结构。  \n",
    "数组是一个值网格，它包含有关原始数据、如何定位元素以及如何解释元素的信息。 \n",
    "\n",
    "数组可以通过非负整数元组、布尔值、另一个数组或整数进行索引。  \n"
   ],
   "id": "e03f4fc565c1a901"
  },
  {
   "metadata": {},
   "cell_type": "markdown",
   "source": [
    "我们初始化 NumPy 数组的一种方法是使用 Python 列表，对二维或更高维的数据使用嵌套列表。\n",
    "如下所示\n"
   ],
   "id": "c01b4f1dafce8be"
  },
  {
   "metadata": {
    "ExecuteTime": {
     "end_time": "2025-06-27T15:21:10.654800Z",
     "start_time": "2025-06-27T15:21:10.617463Z"
    }
   },
   "cell_type": "code",
   "source": [
    "a = np.array([1,2,3,4,5,6])\n",
    "a"
   ],
   "id": "32eeed3b87dd7dc2",
   "outputs": [
    {
     "data": {
      "text/plain": [
       "array([1, 2, 3, 4, 5, 6])"
      ]
     },
     "execution_count": 117,
     "metadata": {},
     "output_type": "execute_result"
    }
   ],
   "execution_count": 117
  },
  {
   "metadata": {
    "ExecuteTime": {
     "end_time": "2025-06-27T15:21:10.937987Z",
     "start_time": "2025-06-27T15:21:10.932778Z"
    }
   },
   "cell_type": "code",
   "source": [
    "b = np.array([[1,2,3],[4,5,6]])\n",
    "b"
   ],
   "id": "c84c74d17c89e07d",
   "outputs": [
    {
     "data": {
      "text/plain": [
       "array([[1, 2, 3],\n",
       "       [4, 5, 6]])"
      ]
     },
     "execution_count": 118,
     "metadata": {},
     "output_type": "execute_result"
    }
   ],
   "execution_count": 118
  },
  {
   "metadata": {
    "ExecuteTime": {
     "end_time": "2025-06-27T15:21:11.795411Z",
     "start_time": "2025-06-27T15:21:11.774502Z"
    }
   },
   "cell_type": "code",
   "source": [
    "## 查看数组的维数（ndim）\n",
    "print(f\"a的维数是 {a.ndim}，b的维数是 {b.ndim}\")\n",
    "print(f\"a的形状是 {a.shape}，b的形状是 {b.shape}\")"
   ],
   "id": "c076b4e61cf643f0",
   "outputs": [
    {
     "name": "stdout",
     "output_type": "stream",
     "text": [
      "a的维数是 1，b的维数是 2\n",
      "a的形状是 (6,)，b的形状是 (2, 3)\n"
     ]
    }
   ],
   "execution_count": 119
  },
  {
   "metadata": {},
   "cell_type": "markdown",
   "source": [
    "我们可以使用方括号访问数组中的元素。  \n",
    "当访问元素时，请记住 NumPy 中的索引从 0 开始。这意味着如果想访问数组中的第一个元素，将访问元素“0”。"
   ],
   "id": "a573a5411bd4262d"
  },
  {
   "metadata": {
    "ExecuteTime": {
     "end_time": "2025-06-27T15:21:11.925437Z",
     "start_time": "2025-06-27T15:21:11.914034Z"
    }
   },
   "cell_type": "code",
   "source": [
    "## 索引查找\n",
    "print(b[0])"
   ],
   "id": "3477a2f6ed1e5338",
   "outputs": [
    {
     "name": "stdout",
     "output_type": "stream",
     "text": [
      "[1 2 3]\n"
     ]
    }
   ],
   "execution_count": 120
  },
  {
   "metadata": {},
   "cell_type": "markdown",
   "source": [
    "## 有关数组的更多信息\n",
    "可能偶尔会听到称为“ndarray”的数组，它是“N 维数组”的简写。  \n",
    "N 维数组就是具有任意维数的数组。  \n",
    "\n",
    "可能还会听到1-D或一维数组、2-D或二维数组等等。   \n",
    "NumPyndarray类用于表示矩阵和向量。    \n",
    "向量是单维数组（行向量和列向量没有区别），而矩阵是指二维数组。对于3 维或更高维的数组，术语 “张量”也很常用。\n",
    "\n"
   ],
   "id": "b9a0cd1f223c5b14"
  },
  {
   "metadata": {},
   "cell_type": "markdown",
   "source": [
    "### 数组有哪些属性？\n",
    "数组通常是相同类型和大小的项目的固定大小容器。  \n",
    "数组中的维数和项数由其形状定义。    \n",
    "数组的形状是指定每个维度大小的非负整数元组。    \n",
    "在 NumPy 中，维度称为轴。这意味着如果您有一个如下所示的二维数组：  \n",
    "```python\n",
    "[[0., 0., 0.],\n",
    " [1., 1., 1.]]\n",
    "```\n",
    "你的数组有 2 个轴。第一个轴的长度为 2，第二个轴的长度为 3。"
   ],
   "id": "4bfa55778bb904a1"
  },
  {
   "metadata": {},
   "cell_type": "markdown",
   "source": [
    "## 如何创建一个基本数组\n",
    "要创建 NumPy 数组，可以使用函数`np.array()`。\n",
    "例如：\n",
    "```python\n",
    "import numpy as np\n",
    "a = np.array([1, 2, 3])\n",
    "```"
   ],
   "id": "ccc52ae86cbfb614"
  },
  {
   "metadata": {},
   "cell_type": "markdown",
   "source": "除了从元素序列创建数组之外，还可以轻松创建用0'还有1 填充的数组：",
   "id": "bf55e3147b023c2b"
  },
  {
   "metadata": {
    "ExecuteTime": {
     "end_time": "2025-06-27T15:21:12.166138Z",
     "start_time": "2025-06-27T15:21:12.149169Z"
    }
   },
   "cell_type": "code",
   "source": "np.zeros(2)",
   "id": "b0e0f3aa9ec2cca5",
   "outputs": [
    {
     "data": {
      "text/plain": [
       "array([0., 0.])"
      ]
     },
     "execution_count": 121,
     "metadata": {},
     "output_type": "execute_result"
    }
   ],
   "execution_count": 121
  },
  {
   "metadata": {
    "ExecuteTime": {
     "end_time": "2025-06-27T15:21:12.400867Z",
     "start_time": "2025-06-27T15:21:12.395772Z"
    }
   },
   "cell_type": "code",
   "source": "np.zeros((2,3))",
   "id": "c704b6acf42c7b16",
   "outputs": [
    {
     "data": {
      "text/plain": [
       "array([[0., 0., 0.],\n",
       "       [0., 0., 0.]])"
      ]
     },
     "execution_count": 122,
     "metadata": {},
     "output_type": "execute_result"
    }
   ],
   "execution_count": 122
  },
  {
   "metadata": {
    "ExecuteTime": {
     "end_time": "2025-06-27T15:21:12.499299Z",
     "start_time": "2025-06-27T15:21:12.492938Z"
    }
   },
   "cell_type": "code",
   "source": "np.ones(4)",
   "id": "4d434b0a611af173",
   "outputs": [
    {
     "data": {
      "text/plain": [
       "array([1., 1., 1., 1.])"
      ]
     },
     "execution_count": 123,
     "metadata": {},
     "output_type": "execute_result"
    }
   ],
   "execution_count": 123
  },
  {
   "metadata": {
    "ExecuteTime": {
     "end_time": "2025-06-27T15:21:12.701112Z",
     "start_time": "2025-06-27T15:21:12.695282Z"
    }
   },
   "cell_type": "code",
   "source": "np.ones((3,4))",
   "id": "8965c50549f5567e",
   "outputs": [
    {
     "data": {
      "text/plain": [
       "array([[1., 1., 1., 1.],\n",
       "       [1., 1., 1., 1.],\n",
       "       [1., 1., 1., 1.]])"
      ]
     },
     "execution_count": 124,
     "metadata": {},
     "output_type": "execute_result"
    }
   ],
   "execution_count": 124
  },
  {
   "metadata": {},
   "cell_type": "markdown",
   "source": [
    "在 NumPy 中  \n",
    "`np.empty(shape)` 会创建一个给定形状的新数组，但不会初始化数组的值  \n",
    "这意味着它的内容取决于当前内存的状态（可能是任意值，甚至是垃圾值）"
   ],
   "id": "b1930b739595bf10"
  },
  {
   "metadata": {
    "ExecuteTime": {
     "end_time": "2025-06-27T15:21:12.780452Z",
     "start_time": "2025-06-27T15:21:12.774838Z"
    }
   },
   "cell_type": "code",
   "source": [
    "## 由于内存状态不同，每次运行结果可能不同\n",
    "np.empty((3, 3))"
   ],
   "id": "7a44d1ea1b1e75f4",
   "outputs": [
    {
     "data": {
      "text/plain": [
       "array([[1.27189941e-30, 2.54379882e-30, 6.35949704e-31],\n",
       "       [2.54379882e-30, 5.53276243e-30, 1.71706420e-30],\n",
       "       [6.35949704e-31, 1.71706420e-30, 9.85722042e-31]])"
      ]
     },
     "execution_count": 125,
     "metadata": {},
     "output_type": "execute_result"
    }
   ],
   "execution_count": 125
  },
  {
   "metadata": {
    "ExecuteTime": {
     "end_time": "2025-06-27T15:21:13.011639Z",
     "start_time": "2025-06-27T15:21:13.005518Z"
    }
   },
   "cell_type": "code",
   "source": [
    "## 可以创建一个包含一系列元素的数组：\n",
    "\n",
    "np.arange(4)"
   ],
   "id": "3c9ade7bacf6c858",
   "outputs": [
    {
     "data": {
      "text/plain": [
       "array([0, 1, 2, 3])"
      ]
     },
     "execution_count": 126,
     "metadata": {},
     "output_type": "execute_result"
    }
   ],
   "execution_count": 126
  },
  {
   "metadata": {
    "ExecuteTime": {
     "end_time": "2025-06-27T15:21:13.101846Z",
     "start_time": "2025-06-27T15:21:13.097283Z"
    }
   },
   "cell_type": "code",
   "source": [
    "## 甚至是包含一系列均匀间隔的数组。为此，您将指定第一个数字、最后一个数字和步长。\n",
    "\n",
    "np.arange(2, 9, 2)"
   ],
   "id": "a602a2d4ff896a1c",
   "outputs": [
    {
     "data": {
      "text/plain": [
       "array([2, 4, 6, 8])"
      ]
     },
     "execution_count": 127,
     "metadata": {},
     "output_type": "execute_result"
    }
   ],
   "execution_count": 127
  },
  {
   "metadata": {
    "ExecuteTime": {
     "end_time": "2025-06-27T15:21:13.257517Z",
     "start_time": "2025-06-27T15:21:13.252722Z"
    }
   },
   "cell_type": "code",
   "source": [
    "## 还可以使用np.linspace()以指定间隔线性间隔的值创建数组\n",
    "\n",
    "np.linspace(0, 10, num=5)"
   ],
   "id": "77ada9e91f14d1ec",
   "outputs": [
    {
     "data": {
      "text/plain": [
       "array([ 0. ,  2.5,  5. ,  7.5, 10. ])"
      ]
     },
     "execution_count": 128,
     "metadata": {},
     "output_type": "execute_result"
    }
   ],
   "execution_count": 128
  },
  {
   "metadata": {
    "ExecuteTime": {
     "end_time": "2025-06-27T15:21:13.354881Z",
     "start_time": "2025-06-27T15:21:13.351455Z"
    }
   },
   "cell_type": "code",
   "source": [
    "## 虽然默认数据类型是浮点 ( np.float64)，但您可以使用关键字显式指定所需的数据类型dtype\n",
    "x = np.ones(2, dtype=np.int64)\n",
    "x"
   ],
   "id": "32a48a966b5b9707",
   "outputs": [
    {
     "data": {
      "text/plain": [
       "array([1, 1])"
      ]
     },
     "execution_count": 129,
     "metadata": {},
     "output_type": "execute_result"
    }
   ],
   "execution_count": 129
  },
  {
   "metadata": {},
   "cell_type": "markdown",
   "source": [
    "## 添加、删除和排序元素\n",
    "本节涵盖 np.sort()，np.concatenate()  \n",
    "\n",
    "对元素进行排序很简单`np.sort()`。可以在调用函数时指定轴、种类和顺序。\n"
   ],
   "id": "584f9c0aceeee0cb"
  },
  {
   "metadata": {
    "ExecuteTime": {
     "end_time": "2025-06-27T15:21:13.483732Z",
     "start_time": "2025-06-27T15:21:13.478435Z"
    }
   },
   "cell_type": "code",
   "source": [
    "arr = np.array([2, 1, 5, 3, 7, 4, 6, 8])\n",
    "## 排序\n",
    "np.sort(arr)"
   ],
   "id": "10e6f9a66e8a7dcf",
   "outputs": [
    {
     "data": {
      "text/plain": [
       "array([1, 2, 3, 4, 5, 6, 7, 8])"
      ]
     },
     "execution_count": 130,
     "metadata": {},
     "output_type": "execute_result"
    }
   ],
   "execution_count": 130
  },
  {
   "metadata": {},
   "cell_type": "markdown",
   "source": [
    "除了返回数组的排序副本的排序之外，还可以使用：  \n",
    "argsort，这是沿指定轴的间接排序，  \n",
    "lexsort，这是对多个键的间接稳定排序，  \n",
    "searchsorted，它将在排序数组中查找元素，  \n",
    "partition，这是部分排序。  \n"
   ],
   "id": "34bfb91ab9d423f1"
  },
  {
   "metadata": {},
   "cell_type": "markdown",
   "source": "将数组连接起来使用`np.concatenate()`",
   "id": "d480a27d5bd0ba3c"
  },
  {
   "metadata": {
    "ExecuteTime": {
     "end_time": "2025-06-27T15:21:13.579203Z",
     "start_time": "2025-06-27T15:21:13.573911Z"
    }
   },
   "cell_type": "code",
   "source": [
    "a = np.array([1, 2, 3, 4])\n",
    "b = np.array([5, 6, 7, 8])\n",
    "np.concatenate((a, b))"
   ],
   "id": "18832d0802da1f4",
   "outputs": [
    {
     "data": {
      "text/plain": [
       "array([1, 2, 3, 4, 5, 6, 7, 8])"
      ]
     },
     "execution_count": 131,
     "metadata": {},
     "output_type": "execute_result"
    }
   ],
   "execution_count": 131
  },
  {
   "metadata": {
    "ExecuteTime": {
     "end_time": "2025-06-27T15:21:13.710477Z",
     "start_time": "2025-06-27T15:21:13.705441Z"
    }
   },
   "cell_type": "code",
   "source": [
    "x = np.array([[1, 2], [3, 4]])\n",
    "y = np.array([[5, 6]])\n",
    "np.concatenate((x, y), axis=0)"
   ],
   "id": "8d6b4eb9af6cd27d",
   "outputs": [
    {
     "data": {
      "text/plain": [
       "array([[1, 2],\n",
       "       [3, 4],\n",
       "       [5, 6]])"
      ]
     },
     "execution_count": 132,
     "metadata": {},
     "output_type": "execute_result"
    }
   ],
   "execution_count": 132
  },
  {
   "metadata": {},
   "cell_type": "markdown",
   "source": [
    "## 你如何知道数组的形状和大小？\n",
    "本节涵盖 ndarray.ndim, ndarray.size,ndarray.shape  \n",
    "\n",
    "`ndarray.ndim`会告诉您数组的轴数或维数。\n",
    "\n",
    "`ndarray.size`会告诉你数组元素的总数。这是数组形状元素的乘积\n",
    "\n",
    "`ndarray.shape`将显示一个整数元组，指示沿数组每个维度存储的元素数量。例如，如果您有一个 2 行 3 列的二维数组，则数组的形状为。(2, 3)\n"
   ],
   "id": "52a853330c29c9bf"
  },
  {
   "metadata": {
    "ExecuteTime": {
     "end_time": "2025-06-27T15:21:13.806155Z",
     "start_time": "2025-06-27T15:21:13.802170Z"
    }
   },
   "cell_type": "code",
   "source": [
    "array_example = np.array([[[0, 1, 2, 3],\n",
    "                           [4, 5, 6, 7]],\n",
    "\n",
    "                          [[0, 1, 2, 3],\n",
    "                           [4, 5, 6, 7]],\n",
    "\n",
    "                          [[0 ,1 ,2, 3],\n",
    "                           [4, 5, 6, 7]]])"
   ],
   "id": "7c0ddc96a40aa1b8",
   "outputs": [],
   "execution_count": 133
  },
  {
   "metadata": {
    "ExecuteTime": {
     "end_time": "2025-06-27T15:21:13.956580Z",
     "start_time": "2025-06-27T15:21:13.953195Z"
    }
   },
   "cell_type": "code",
   "source": [
    "# 维数\n",
    "array_example.ndim"
   ],
   "id": "7d07fc4c96cb3724",
   "outputs": [
    {
     "data": {
      "text/plain": [
       "3"
      ]
     },
     "execution_count": 134,
     "metadata": {},
     "output_type": "execute_result"
    }
   ],
   "execution_count": 134
  },
  {
   "metadata": {
    "ExecuteTime": {
     "end_time": "2025-06-27T15:21:14.170215Z",
     "start_time": "2025-06-27T15:21:14.167236Z"
    }
   },
   "cell_type": "code",
   "source": [
    "# 元素总数\n",
    "array_example.size"
   ],
   "id": "2ec32e76236cf291",
   "outputs": [
    {
     "data": {
      "text/plain": [
       "24"
      ]
     },
     "execution_count": 135,
     "metadata": {},
     "output_type": "execute_result"
    }
   ],
   "execution_count": 135
  },
  {
   "metadata": {
    "ExecuteTime": {
     "end_time": "2025-06-27T15:21:14.315110Z",
     "start_time": "2025-06-27T15:21:14.312792Z"
    }
   },
   "cell_type": "code",
   "source": [
    "# 数组形状\n",
    "array_example.shape"
   ],
   "id": "8c18ae5424e8e810",
   "outputs": [
    {
     "data": {
      "text/plain": [
       "(3, 2, 4)"
      ]
     },
     "execution_count": 136,
     "metadata": {},
     "output_type": "execute_result"
    }
   ],
   "execution_count": 136
  },
  {
   "metadata": {},
   "cell_type": "markdown",
   "source": [
    "## 你能重塑一个数组吗？\n",
    "本节涵盖 arr.reshape()    \n",
    "使用`arr.reshape()`将为数组提供新的形状而不更改数据。  \n",
    "当你使用 reshape 方法时，要生成的数组需要与原始数组具有相同数量的元素。如果你从包含 12 个元素的数组开始，则需要确保新数组也总共包含 12 个元素。"
   ],
   "id": "492cd433f0e805ac"
  },
  {
   "metadata": {
    "ExecuteTime": {
     "end_time": "2025-06-27T15:21:14.488848Z",
     "start_time": "2025-06-27T15:21:14.485354Z"
    }
   },
   "cell_type": "code",
   "source": [
    "a = np.arange(6)\n",
    "a"
   ],
   "id": "39e2e476815af15",
   "outputs": [
    {
     "data": {
      "text/plain": [
       "array([0, 1, 2, 3, 4, 5])"
      ]
     },
     "execution_count": 137,
     "metadata": {},
     "output_type": "execute_result"
    }
   ],
   "execution_count": 137
  },
  {
   "metadata": {
    "ExecuteTime": {
     "end_time": "2025-06-27T15:21:14.639217Z",
     "start_time": "2025-06-27T15:21:14.635079Z"
    }
   },
   "cell_type": "code",
   "source": [
    "# 重塑\n",
    "b = a.reshape((2,3))\n",
    "b"
   ],
   "id": "172fc8b1c41b5e76",
   "outputs": [
    {
     "data": {
      "text/plain": [
       "array([[0, 1, 2],\n",
       "       [3, 4, 5]])"
      ]
     },
     "execution_count": 138,
     "metadata": {},
     "output_type": "execute_result"
    }
   ],
   "execution_count": 138
  },
  {
   "metadata": {
    "ExecuteTime": {
     "end_time": "2025-06-27T15:21:14.751203Z",
     "start_time": "2025-06-27T15:21:14.747521Z"
    }
   },
   "cell_type": "code",
   "source": [
    "# 使用np.reshape，可以指定一些可选参数：\n",
    "np.reshape(a, shape=(1, 6), order='C')"
   ],
   "id": "f933fae4b0fc7d94",
   "outputs": [
    {
     "data": {
      "text/plain": [
       "array([[0, 1, 2, 3, 4, 5]])"
      ]
     },
     "execution_count": 139,
     "metadata": {},
     "output_type": "execute_result"
    }
   ],
   "execution_count": 139
  },
  {
   "metadata": {},
   "cell_type": "markdown",
   "source": [
    "`a`是要重塑的数组。  \n",
    "`shape`是你想要的新形状。可以指定一个整数或整数元组。如果指定一个整数，结果将是该长度的数组。  \n",
    "`order='C'`（行优先，默认）,`order='F'`（列优先）"
   ],
   "id": "b79c4be3cd3d76ba"
  },
  {
   "metadata": {},
   "cell_type": "markdown",
   "source": [
    "## 如何将一维数组转换为二维数组（如何向数组添加新轴）\n",
    "本节涵盖 np.newaxis，np.expand_dims  \n",
    "使用`np.newaxis`一次后，数组的维度就会增加一维。这意味着1D数组将变成2D数组， 2D数组将变成3D数组，依此类推。"
   ],
   "id": "29f02fcebda81547"
  },
  {
   "metadata": {
    "ExecuteTime": {
     "end_time": "2025-06-27T15:21:14.960852Z",
     "start_time": "2025-06-27T15:21:14.957796Z"
    }
   },
   "cell_type": "code",
   "source": [
    "a = np.array([1, 2, 3, 4, 5, 6])\n",
    "a"
   ],
   "id": "ab77ad57a59cd471",
   "outputs": [
    {
     "data": {
      "text/plain": [
       "array([1, 2, 3, 4, 5, 6])"
      ]
     },
     "execution_count": 140,
     "metadata": {},
     "output_type": "execute_result"
    }
   ],
   "execution_count": 140
  },
  {
   "metadata": {
    "ExecuteTime": {
     "end_time": "2025-06-27T15:21:15.002536Z",
     "start_time": "2025-06-27T15:21:14.999603Z"
    }
   },
   "cell_type": "code",
   "source": [
    "a2 = a[np.newaxis, :]\n",
    "\n",
    "print(a2.shape)\n",
    "a2"
   ],
   "id": "407861a1652af51d",
   "outputs": [
    {
     "name": "stdout",
     "output_type": "stream",
     "text": [
      "(1, 6)\n"
     ]
    },
    {
     "data": {
      "text/plain": [
       "array([[1, 2, 3, 4, 5, 6]])"
      ]
     },
     "execution_count": 141,
     "metadata": {},
     "output_type": "execute_result"
    }
   ],
   "execution_count": 141
  },
  {
   "metadata": {
    "ExecuteTime": {
     "end_time": "2025-06-27T15:21:15.074149Z",
     "start_time": "2025-06-27T15:21:15.070932Z"
    }
   },
   "cell_type": "code",
   "source": [
    "a3 = a2[np.newaxis, :, :]  # 在第0轴插入\n",
    "print(a3.shape) \n",
    "a3"
   ],
   "id": "34089973a476e510",
   "outputs": [
    {
     "name": "stdout",
     "output_type": "stream",
     "text": [
      "(1, 1, 6)\n"
     ]
    },
    {
     "data": {
      "text/plain": [
       "array([[[1, 2, 3, 4, 5, 6]]])"
      ]
     },
     "execution_count": 142,
     "metadata": {},
     "output_type": "execute_result"
    }
   ],
   "execution_count": 142
  },
  {
   "metadata": {
    "ExecuteTime": {
     "end_time": "2025-06-27T15:21:15.116534Z",
     "start_time": "2025-06-27T15:21:15.113762Z"
    }
   },
   "cell_type": "code",
   "source": [
    "a3 = a2[:, np.newaxis, :] # 在第1轴插入\n",
    "print(a3.shape)  \n",
    "a3"
   ],
   "id": "e31a6ca735268372",
   "outputs": [
    {
     "name": "stdout",
     "output_type": "stream",
     "text": [
      "(1, 1, 6)\n"
     ]
    },
    {
     "data": {
      "text/plain": [
       "array([[[1, 2, 3, 4, 5, 6]]])"
      ]
     },
     "execution_count": 143,
     "metadata": {},
     "output_type": "execute_result"
    }
   ],
   "execution_count": 143
  },
  {
   "metadata": {
    "ExecuteTime": {
     "end_time": "2025-06-27T15:21:15.244377Z",
     "start_time": "2025-06-27T15:21:15.238405Z"
    }
   },
   "cell_type": "code",
   "source": [
    "a3 = a2[:, :, np.newaxis] # 在第2轴插入\n",
    "print(a3.shape)  \n",
    "a3"
   ],
   "id": "7c9ce60a3c449b31",
   "outputs": [
    {
     "name": "stdout",
     "output_type": "stream",
     "text": [
      "(1, 6, 1)\n"
     ]
    },
    {
     "data": {
      "text/plain": [
       "array([[[1],\n",
       "        [2],\n",
       "        [3],\n",
       "        [4],\n",
       "        [5],\n",
       "        [6]]])"
      ]
     },
     "execution_count": 144,
     "metadata": {},
     "output_type": "execute_result"
    }
   ],
   "execution_count": 144
  },
  {
   "metadata": {},
   "cell_type": "markdown",
   "source": "还可以通过在指定位置插入新轴来扩展数组np.expand_dims",
   "id": "a27e4b29a61f127d"
  },
  {
   "metadata": {
    "ExecuteTime": {
     "end_time": "2025-06-27T15:21:15.297625Z",
     "start_time": "2025-06-27T15:21:15.293985Z"
    }
   },
   "cell_type": "code",
   "source": [
    "a = np.array([1, 2, 3, 4, 5, 6])\n",
    "print(a.shape)"
   ],
   "id": "7d3133c5eebe4635",
   "outputs": [
    {
     "name": "stdout",
     "output_type": "stream",
     "text": [
      "(6,)\n"
     ]
    }
   ],
   "execution_count": 145
  },
  {
   "metadata": {
    "ExecuteTime": {
     "end_time": "2025-06-27T15:21:15.376548Z",
     "start_time": "2025-06-27T15:21:15.372938Z"
    }
   },
   "cell_type": "code",
   "source": [
    "## 使用np.expand_dims以下命令在索引位置 1 添加轴：\n",
    "b = np.expand_dims(a, axis=1)\n",
    "print(b.shape)\n",
    "b"
   ],
   "id": "44263c123497feb9",
   "outputs": [
    {
     "name": "stdout",
     "output_type": "stream",
     "text": [
      "(6, 1)\n"
     ]
    },
    {
     "data": {
      "text/plain": [
       "array([[1],\n",
       "       [2],\n",
       "       [3],\n",
       "       [4],\n",
       "       [5],\n",
       "       [6]])"
      ]
     },
     "execution_count": 146,
     "metadata": {},
     "output_type": "execute_result"
    }
   ],
   "execution_count": 146
  },
  {
   "metadata": {
    "ExecuteTime": {
     "end_time": "2025-06-27T15:21:15.419387Z",
     "start_time": "2025-06-27T15:21:15.416119Z"
    }
   },
   "cell_type": "code",
   "source": [
    "## 使用以下命令在索引位置 0 添加轴：\n",
    "c = np.expand_dims(a, axis=0)\n",
    "print(c.shape)\n",
    "c"
   ],
   "id": "284f94162d0b8a3f",
   "outputs": [
    {
     "name": "stdout",
     "output_type": "stream",
     "text": [
      "(1, 6)\n"
     ]
    },
    {
     "data": {
      "text/plain": [
       "array([[1, 2, 3, 4, 5, 6]])"
      ]
     },
     "execution_count": 147,
     "metadata": {},
     "output_type": "execute_result"
    }
   ],
   "execution_count": 147
  },
  {
   "metadata": {},
   "cell_type": "markdown",
   "source": "## 索引和切片\n",
   "id": "1c42324bbee0940"
  },
  {
   "metadata": {
    "ExecuteTime": {
     "end_time": "2025-06-27T15:21:15.520218Z",
     "start_time": "2025-06-27T15:21:15.517863Z"
    }
   },
   "cell_type": "code",
   "source": [
    "data = np.array([1, 2, 3])\n",
    "\n",
    "print(data[0])\n",
    "\n",
    "print(data[1])\n",
    "\n",
    "print(data[0:2])\n",
    "\n",
    "print(data[1:])\n",
    "\n",
    "print(data[-2:])"
   ],
   "id": "90f6693a389e55a5",
   "outputs": [
    {
     "name": "stdout",
     "output_type": "stream",
     "text": [
      "1\n",
      "2\n",
      "[1 2]\n",
      "[2 3]\n",
      "[2 3]\n"
     ]
    }
   ],
   "execution_count": 148
  },
  {
   "metadata": {},
   "cell_type": "markdown",
   "source": [
    "如果想从数组中选择满足特定条件的值，使用 NumPy 就很简单。  \n",
    "例如："
   ],
   "id": "df8097ef9921a6e2"
  },
  {
   "metadata": {
    "ExecuteTime": {
     "end_time": "2025-06-27T15:21:15.574449Z",
     "start_time": "2025-06-27T15:21:15.571298Z"
    }
   },
   "cell_type": "code",
   "source": [
    "a = np.array([[1 , 2, 3, 4], [5, 6, 7, 8], [9, 10, 11, 12]])\n",
    "a"
   ],
   "id": "3eb82b903a9b69ef",
   "outputs": [
    {
     "data": {
      "text/plain": [
       "array([[ 1,  2,  3,  4],\n",
       "       [ 5,  6,  7,  8],\n",
       "       [ 9, 10, 11, 12]])"
      ]
     },
     "execution_count": 149,
     "metadata": {},
     "output_type": "execute_result"
    }
   ],
   "execution_count": 149
  },
  {
   "metadata": {
    "ExecuteTime": {
     "end_time": "2025-06-27T15:21:15.739906Z",
     "start_time": "2025-06-27T15:21:15.736242Z"
    }
   },
   "cell_type": "code",
   "source": [
    "# 轻松打印数组中所有小于 5 的值\n",
    "print(a[a < 5])"
   ],
   "id": "d81aea3ca2963f6",
   "outputs": [
    {
     "name": "stdout",
     "output_type": "stream",
     "text": [
      "[1 2 3 4]\n"
     ]
    }
   ],
   "execution_count": 150
  },
  {
   "metadata": {
    "ExecuteTime": {
     "end_time": "2025-06-27T15:21:15.824688Z",
     "start_time": "2025-06-27T15:21:15.821571Z"
    }
   },
   "cell_type": "code",
   "source": [
    "# 选择能被 2 整除的元素\n",
    "print(a[a%2==0])"
   ],
   "id": "57c3ee8bd4f140a4",
   "outputs": [
    {
     "name": "stdout",
     "output_type": "stream",
     "text": [
      "[ 2  4  6  8 10 12]\n"
     ]
    }
   ],
   "execution_count": 151
  },
  {
   "metadata": {
    "ExecuteTime": {
     "end_time": "2025-06-27T15:21:15.940824Z",
     "start_time": "2025-06-27T15:21:15.937103Z"
    }
   },
   "cell_type": "code",
   "source": [
    "# 还可以使用逻辑运算符&和|为了返回指定数组中的值是否满足特定条件的布尔值。这对于包含名称或其他分类值的数组非常有用。\n",
    "print((a > 5) | (a == 5))"
   ],
   "id": "a47b31aef238862b",
   "outputs": [
    {
     "name": "stdout",
     "output_type": "stream",
     "text": [
      "[[False False False False]\n",
      " [ True  True  True  True]\n",
      " [ True  True  True  True]]\n"
     ]
    }
   ],
   "execution_count": 152
  },
  {
   "metadata": {
    "ExecuteTime": {
     "end_time": "2025-06-27T15:21:15.994922Z",
     "start_time": "2025-06-27T15:21:15.991332Z"
    }
   },
   "cell_type": "code",
   "source": [
    "# 还可以用于np.nonzero()从数组中选择元素或索引。\n",
    "a = np.array([[1, 2, 3, 4], [5, 6, 7, 8], [9, 10, 11, 12]])\n",
    "print(a)\n",
    "\n",
    "# 用np.nonzero()打印小于 5 的元素的索引\n",
    "b = np.nonzero(a < 5)\n",
    "print(b)\n",
    "# 在此示例中，返回了一个数组元组：每个维度一个。第一个数组表示找到这些值的行索引，第二个数组表示找到这些值的列索引。"
   ],
   "id": "5ab1375223aebc3e",
   "outputs": [
    {
     "name": "stdout",
     "output_type": "stream",
     "text": [
      "[[ 1  2  3  4]\n",
      " [ 5  6  7  8]\n",
      " [ 9 10 11 12]]\n",
      "(array([0, 0, 0, 0]), array([0, 1, 2, 3]))\n"
     ]
    }
   ],
   "execution_count": 153
  },
  {
   "metadata": {
    "ExecuteTime": {
     "end_time": "2025-06-27T15:21:16.096407Z",
     "start_time": "2025-06-27T15:21:16.093789Z"
    }
   },
   "cell_type": "code",
   "source": [
    "# 如果要生成元素所在的坐标列表，可以压缩数组，迭代坐标列表，然后打印它们。例如：\n",
    "list_of_coordinates= list(zip(b[0], b[1]))\n",
    "for coord in list_of_coordinates:\n",
    "    print(coord)"
   ],
   "id": "71d8fb4b0c4b0224",
   "outputs": [
    {
     "name": "stdout",
     "output_type": "stream",
     "text": [
      "(np.int64(0), np.int64(0))\n",
      "(np.int64(0), np.int64(1))\n",
      "(np.int64(0), np.int64(2))\n",
      "(np.int64(0), np.int64(3))\n"
     ]
    }
   ],
   "execution_count": 154
  },
  {
   "metadata": {},
   "cell_type": "markdown",
   "source": [
    "## 如何从现有数据创建数组\n",
    "你可以轻松地从现有数组的一部分创建新数组。\n",
    "\n",
    "假设你有这个数组：`a = np.array([1,  2,  3,  4,  5,  6,  7,  8,  9, 10])`\n"
   ],
   "id": "c57e39d8eaa5f353"
  },
  {
   "metadata": {
    "ExecuteTime": {
     "end_time": "2025-06-27T15:21:16.152787Z",
     "start_time": "2025-06-27T15:21:16.150297Z"
    }
   },
   "cell_type": "code",
   "source": [
    "a = np.array([1,  2,  3,  4,  5,  6,  7,  8,  9, 10])\n",
    "\n",
    "## 随时通过指定要对数组进行切片的位置来从数组的一部分创建新数组。\n",
    "arr1 = a[3:8]\n",
    "arr1"
   ],
   "id": "28b11e5cb6dfaf1a",
   "outputs": [
    {
     "data": {
      "text/plain": [
       "array([4, 5, 6, 7, 8])"
      ]
     },
     "execution_count": 155,
     "metadata": {},
     "output_type": "execute_result"
    }
   ],
   "execution_count": 155
  },
  {
   "metadata": {
    "ExecuteTime": {
     "end_time": "2025-06-27T15:21:16.278096Z",
     "start_time": "2025-06-27T15:21:16.275760Z"
    }
   },
   "cell_type": "code",
   "source": [
    "## 还可以垂直和水平堆叠两个现有阵列。假设您有两个数组，a1并且a2：\n",
    "a1 = np.array([[1, 1],\n",
    "               [2, 2]])\n",
    "\n",
    "a2 = np.array([[3, 3],\n",
    "               [4, 4]])"
   ],
   "id": "c6a99b1dc5699e83",
   "outputs": [],
   "execution_count": 156
  },
  {
   "metadata": {
    "ExecuteTime": {
     "end_time": "2025-06-27T15:21:16.325931Z",
     "start_time": "2025-06-27T15:21:16.322152Z"
    }
   },
   "cell_type": "code",
   "source": [
    "## 使用以下命令垂直堆叠它们vstack\n",
    "np.vstack((a1, a2))"
   ],
   "id": "1bf280059df0065e",
   "outputs": [
    {
     "data": {
      "text/plain": [
       "array([[1, 1],\n",
       "       [2, 2],\n",
       "       [3, 3],\n",
       "       [4, 4]])"
      ]
     },
     "execution_count": 157,
     "metadata": {},
     "output_type": "execute_result"
    }
   ],
   "execution_count": 157
  },
  {
   "metadata": {
    "ExecuteTime": {
     "end_time": "2025-06-27T15:21:16.434054Z",
     "start_time": "2025-06-27T15:21:16.431402Z"
    }
   },
   "cell_type": "code",
   "source": [
    "## 使用以下命令水平堆叠它们hstack\n",
    "np.hstack((a1,a2))"
   ],
   "id": "583e615d855607b1",
   "outputs": [
    {
     "data": {
      "text/plain": [
       "array([[1, 1, 3, 3],\n",
       "       [2, 2, 4, 4]])"
      ]
     },
     "execution_count": 158,
     "metadata": {},
     "output_type": "execute_result"
    }
   ],
   "execution_count": 158
  },
  {
   "metadata": {},
   "cell_type": "markdown",
   "source": [
    "使用将一个数组拆分为多个较小的数组hsplit。  \n",
    "可以指定要返回的形状相同的数组的数量或 应在其后进行除法的列。"
   ],
   "id": "702e3237c2c2f7eb"
  },
  {
   "metadata": {
    "ExecuteTime": {
     "end_time": "2025-06-27T15:21:16.468487Z",
     "start_time": "2025-06-27T15:21:16.465971Z"
    }
   },
   "cell_type": "code",
   "source": [
    "x = np.arange(1, 25).reshape(2, 12)\n",
    "x"
   ],
   "id": "1350def1665daa3d",
   "outputs": [
    {
     "data": {
      "text/plain": [
       "array([[ 1,  2,  3,  4,  5,  6,  7,  8,  9, 10, 11, 12],\n",
       "       [13, 14, 15, 16, 17, 18, 19, 20, 21, 22, 23, 24]])"
      ]
     },
     "execution_count": 159,
     "metadata": {},
     "output_type": "execute_result"
    }
   ],
   "execution_count": 159
  },
  {
   "metadata": {
    "ExecuteTime": {
     "end_time": "2025-06-27T15:21:16.582946Z",
     "start_time": "2025-06-27T15:21:16.578631Z"
    }
   },
   "cell_type": "code",
   "source": [
    "##  把这个数组分成三个形状相同的数组\n",
    "np.hsplit(x,3)"
   ],
   "id": "b94167cb63ad2219",
   "outputs": [
    {
     "data": {
      "text/plain": [
       "[array([[ 1,  2,  3,  4],\n",
       "        [13, 14, 15, 16]]),\n",
       " array([[ 5,  6,  7,  8],\n",
       "        [17, 18, 19, 20]]),\n",
       " array([[ 9, 10, 11, 12],\n",
       "        [21, 22, 23, 24]])]"
      ]
     },
     "execution_count": 160,
     "metadata": {},
     "output_type": "execute_result"
    }
   ],
   "execution_count": 160
  },
  {
   "metadata": {
    "ExecuteTime": {
     "end_time": "2025-06-27T15:21:16.624452Z",
     "start_time": "2025-06-27T15:21:16.620056Z"
    }
   },
   "cell_type": "code",
   "source": [
    "# 如果想在第三列和第四列之后拆分数组，您可以运行：\n",
    "np.hsplit(x, (3, 4))"
   ],
   "id": "c8224d255c9a56f1",
   "outputs": [
    {
     "data": {
      "text/plain": [
       "[array([[ 1,  2,  3],\n",
       "        [13, 14, 15]]),\n",
       " array([[ 4],\n",
       "        [16]]),\n",
       " array([[ 5,  6,  7,  8,  9, 10, 11, 12],\n",
       "        [17, 18, 19, 20, 21, 22, 23, 24]])]"
      ]
     },
     "execution_count": 161,
     "metadata": {},
     "output_type": "execute_result"
    }
   ],
   "execution_count": 161
  },
  {
   "metadata": {},
   "cell_type": "markdown",
   "source": [
    "视图是一个重要的 NumPy 概念！ NumPy 函数以及索引和切片等操作将尽可能返回视图。这可以节省内存并且速度更快（无需复制数据）。然而，重要的是要注意这一点 - 修改视图中的数据也会修改原始数组！\n",
    "\n"
   ],
   "id": "2b9b975809f18b3e"
  },
  {
   "metadata": {
    "ExecuteTime": {
     "end_time": "2025-06-27T15:21:16.762164Z",
     "start_time": "2025-06-27T15:21:16.759324Z"
    }
   },
   "cell_type": "code",
   "source": [
    "a = np.array([[1, 2, 3, 4], [5, 6, 7, 8], [9, 10, 11, 12]])\n",
    "a"
   ],
   "id": "be77abdcd8010477",
   "outputs": [
    {
     "data": {
      "text/plain": [
       "array([[ 1,  2,  3,  4],\n",
       "       [ 5,  6,  7,  8],\n",
       "       [ 9, 10, 11, 12]])"
      ]
     },
     "execution_count": 162,
     "metadata": {},
     "output_type": "execute_result"
    }
   ],
   "execution_count": 162
  },
  {
   "metadata": {
    "ExecuteTime": {
     "end_time": "2025-06-27T15:21:16.805003Z",
     "start_time": "2025-06-27T15:21:16.801677Z"
    }
   },
   "cell_type": "code",
   "source": [
    "b1 = a[0, :] # 通过切片创建 b1（实际是视图，不是副本）\n",
    "b1"
   ],
   "id": "54ad1a17483bedeb",
   "outputs": [
    {
     "data": {
      "text/plain": [
       "array([1, 2, 3, 4])"
      ]
     },
     "execution_count": 163,
     "metadata": {},
     "output_type": "execute_result"
    }
   ],
   "execution_count": 163
  },
  {
   "metadata": {
    "ExecuteTime": {
     "end_time": "2025-06-27T15:21:17.054781Z",
     "start_time": "2025-06-27T15:21:17.051993Z"
    }
   },
   "cell_type": "code",
   "source": [
    "b1[0] = 100\n",
    "print(b1)\n",
    "print(a) #a[0,0]的位置元素也被修改成了100"
   ],
   "id": "2f5f9931428005b1",
   "outputs": [
    {
     "name": "stdout",
     "output_type": "stream",
     "text": [
      "[100   2   3   4]\n",
      "[[100   2   3   4]\n",
      " [  5   6   7   8]\n",
      " [  9  10  11  12]]\n"
     ]
    }
   ],
   "execution_count": 164
  },
  {
   "metadata": {
    "ExecuteTime": {
     "end_time": "2025-06-27T15:21:17.182116Z",
     "start_time": "2025-06-27T15:21:17.178464Z"
    }
   },
   "cell_type": "code",
   "source": [
    "# 使用该copy方法将制作数组及其数据的完整副本（ 深层副本）。要在你的阵列上使用它，你可以运行：\n",
    "b2 = a.copy()\n",
    "print(b2) # copy后的b2\n",
    "\n",
    "b2[0,0] = 200\n",
    "print(b2)# 修改b2\n",
    "\n",
    "print(a) # 现在的a（copy时，不变）"
   ],
   "id": "3183e31e365fea",
   "outputs": [
    {
     "name": "stdout",
     "output_type": "stream",
     "text": [
      "[[100   2   3   4]\n",
      " [  5   6   7   8]\n",
      " [  9  10  11  12]]\n",
      "[[200   2   3   4]\n",
      " [  5   6   7   8]\n",
      " [  9  10  11  12]]\n",
      "[[100   2   3   4]\n",
      " [  5   6   7   8]\n",
      " [  9  10  11  12]]\n"
     ]
    }
   ],
   "execution_count": 165
  },
  {
   "metadata": {},
   "cell_type": "markdown",
   "source": [
    "## 基本数组操作\n",
    "本节涵盖加法、减法、乘法、除法等"
   ],
   "id": "efd8e0e86a0c2ff5"
  },
  {
   "metadata": {
    "ExecuteTime": {
     "end_time": "2025-06-27T15:21:17.474455Z",
     "start_time": "2025-06-27T15:21:17.472005Z"
    }
   },
   "cell_type": "code",
   "source": [
    "data = np.array([1, 2])\n",
    "ones = np.ones(2, dtype=int)\n",
    "data+ones # 加"
   ],
   "id": "e1ace5ce5957e0f7",
   "outputs": [
    {
     "data": {
      "text/plain": [
       "array([2, 3])"
      ]
     },
     "execution_count": 166,
     "metadata": {},
     "output_type": "execute_result"
    }
   ],
   "execution_count": 166
  },
  {
   "metadata": {
    "ExecuteTime": {
     "end_time": "2025-06-27T15:21:17.650006Z",
     "start_time": "2025-06-27T15:21:17.647192Z"
    }
   },
   "cell_type": "code",
   "source": "data - ones # 减",
   "id": "fa2632bfce523305",
   "outputs": [
    {
     "data": {
      "text/plain": [
       "array([0, 1])"
      ]
     },
     "execution_count": 167,
     "metadata": {},
     "output_type": "execute_result"
    }
   ],
   "execution_count": 167
  },
  {
   "metadata": {
    "ExecuteTime": {
     "end_time": "2025-06-27T15:21:17.928383Z",
     "start_time": "2025-06-27T15:21:17.921593Z"
    }
   },
   "cell_type": "code",
   "source": "data * data # 乘",
   "id": "79778667bb5f89b9",
   "outputs": [
    {
     "data": {
      "text/plain": [
       "array([1, 4])"
      ]
     },
     "execution_count": 168,
     "metadata": {},
     "output_type": "execute_result"
    }
   ],
   "execution_count": 168
  },
  {
   "metadata": {
    "ExecuteTime": {
     "end_time": "2025-06-27T15:21:18.128598Z",
     "start_time": "2025-06-27T15:21:18.118465Z"
    }
   },
   "cell_type": "code",
   "source": "data / data # 除",
   "id": "ea8a039cf7f5b882",
   "outputs": [
    {
     "data": {
      "text/plain": [
       "array([1., 1.])"
      ]
     },
     "execution_count": 169,
     "metadata": {},
     "output_type": "execute_result"
    }
   ],
   "execution_count": 169
  },
  {
   "metadata": {},
   "cell_type": "markdown",
   "source": "如果你想求数组中元素的总和，你可以使用sum().这适用于一维数组、二维数组和更高维度的数组。",
   "id": "a5ef12b2f06b06bc"
  },
  {
   "metadata": {
    "ExecuteTime": {
     "end_time": "2025-06-27T15:21:18.308768Z",
     "start_time": "2025-06-27T15:21:18.302473Z"
    }
   },
   "cell_type": "code",
   "source": [
    "a = np.array([1, 2, 3, 4])\n",
    "a.sum()"
   ],
   "id": "b557ae4c08a739f4",
   "outputs": [
    {
     "data": {
      "text/plain": [
       "np.int64(10)"
      ]
     },
     "execution_count": 170,
     "metadata": {},
     "output_type": "execute_result"
    }
   ],
   "execution_count": 170
  },
  {
   "metadata": {
    "ExecuteTime": {
     "end_time": "2025-06-27T15:21:18.423130Z",
     "start_time": "2025-06-27T15:21:18.414464Z"
    }
   },
   "cell_type": "code",
   "source": [
    "b = np.array([[1, 1], [2, 2]])\n",
    "\n",
    "## 使用以下方法对行轴求和  \n",
    "b.sum(axis=0)"
   ],
   "id": "6ee8f493851688a1",
   "outputs": [
    {
     "data": {
      "text/plain": [
       "array([3, 3])"
      ]
     },
     "execution_count": 171,
     "metadata": {},
     "output_type": "execute_result"
    }
   ],
   "execution_count": 171
  },
  {
   "metadata": {
    "ExecuteTime": {
     "end_time": "2025-06-27T15:21:18.635557Z",
     "start_time": "2025-06-27T15:21:18.622103Z"
    }
   },
   "cell_type": "code",
   "source": [
    "## ## 使用以下方法对列轴求和 \n",
    "b.sum(axis=1)"
   ],
   "id": "aee47ee4b4845ea7",
   "outputs": [
    {
     "data": {
      "text/plain": [
       "array([2, 4])"
      ]
     },
     "execution_count": 172,
     "metadata": {},
     "output_type": "execute_result"
    }
   ],
   "execution_count": 172
  },
  {
   "metadata": {},
   "cell_type": "markdown",
   "source": [
    "## 广播\n",
    "有时你可能想要在数组和单个数字之间或在两个不同大小的数组之间执行运算  \n",
    "例如，你的数组（我们将其称为“数据”）可能包含有关英里距离的信息，但你希望将信息转换为公里\n",
    "\n",
    "NumPy 知道每个单元格都应该进行乘法。这个概念称为广播。  \n",
    "广播是一种允许 NumPy 对不同形状的数组执行操作的机制。  \n",
    "数组的维度必须兼容，例如，当两个数组的维度相等或其中一个数组的维度为 1 时。  \n",
    "\n",
    "如果维度不兼容，您将得到一个ValueError.\n"
   ],
   "id": "d2c2039787daecf1"
  },
  {
   "metadata": {
    "ExecuteTime": {
     "end_time": "2025-06-27T15:21:18.731690Z",
     "start_time": "2025-06-27T15:21:18.719976Z"
    }
   },
   "cell_type": "code",
   "source": [
    "data = np.array([1.0, 2.0])\n",
    "data*1.6"
   ],
   "id": "3bb5c4e2a57fad17",
   "outputs": [
    {
     "data": {
      "text/plain": [
       "array([1.6, 3.2])"
      ]
     },
     "execution_count": 173,
     "metadata": {},
     "output_type": "execute_result"
    }
   ],
   "execution_count": 173
  },
  {
   "metadata": {},
   "cell_type": "markdown",
   "source": [
    "## 更有用的数组操作\n",
    "本节涵盖最大值、最小值、总和、平均值、乘积、标准差等  \n",
    "\n",
    "NumPy 还执行聚合函数。除了min、max、 和 之外sum,您还可以轻松运行mean来获取平均值、prod获取元素相乘的结果、std获取标准差等等。  \n",
    "\n",
    "想要沿着行或列聚合是很常见的。默认情况下，每个 NumPy 聚合函数都会返回整个数组的聚合。"
   ],
   "id": "c2b76b1500994f3e"
  },
  {
   "metadata": {
    "ExecuteTime": {
     "end_time": "2025-06-27T15:21:19.205825Z",
     "start_time": "2025-06-27T15:21:19.187394Z"
    }
   },
   "cell_type": "code",
   "source": [
    "data = np.array([[1,3,5,7,9],[2,4,6,8,10]])\n",
    "data"
   ],
   "id": "dc1d6747675d19eb",
   "outputs": [
    {
     "data": {
      "text/plain": [
       "array([[ 1,  3,  5,  7,  9],\n",
       "       [ 2,  4,  6,  8, 10]])"
      ]
     },
     "execution_count": 174,
     "metadata": {},
     "output_type": "execute_result"
    }
   ],
   "execution_count": 174
  },
  {
   "metadata": {
    "ExecuteTime": {
     "end_time": "2025-06-27T15:21:19.430783Z",
     "start_time": "2025-06-27T15:21:19.419199Z"
    }
   },
   "cell_type": "code",
   "source": [
    "## 最大值\n",
    "print(f\"data中的最大值{data.max()}\")\n",
    "\n",
    "## 最小值\n",
    "print(f\"data中的最小值{data.min()}\")\n",
    "\n",
    "## 总和\n",
    "print(f\"data中的总和{data.sum()}\")\n",
    "\n",
    "## 平均值\n",
    "print(f\"data中的平均值{data.mean()}\")\n",
    "\n",
    "## 相乘\n",
    "print(f\"data中的行轴相乘{data.prod(0)}\")\n",
    "\n",
    "## 相乘\n",
    "print(f\"data中的列轴相乘{data.prod(1)}\")\n",
    "\n",
    "## 标准差\n",
    "print(f\"data中的行标准差{data.std(0)}\")\n",
    "\n",
    "## 标准差\n",
    "print(f\"data中的列标准差{data.std(1)}\")\n",
    "\n"
   ],
   "id": "25db19c2ceb19ab0",
   "outputs": [
    {
     "name": "stdout",
     "output_type": "stream",
     "text": [
      "data中的最大值10\n",
      "data中的最小值1\n",
      "data中的总和55\n",
      "data中的平均值5.5\n",
      "data中的行轴相乘[ 2 12 30 56 90]\n",
      "data中的列轴相乘[ 945 3840]\n",
      "data中的行标准差[0.5 0.5 0.5 0.5 0.5]\n",
      "data中的列标准差[2.82842712 2.82842712]\n"
     ]
    }
   ],
   "execution_count": 175
  },
  {
   "metadata": {},
   "cell_type": "markdown",
   "source": [
    "## 创建矩阵\n",
    "可以传递 Python 列表列表来创建二维数组（或“矩阵”）以在 NumPy 中表示它们。"
   ],
   "id": "1dd0e95ab63781a6"
  },
  {
   "metadata": {
    "ExecuteTime": {
     "end_time": "2025-06-27T15:21:19.670490Z",
     "start_time": "2025-06-27T15:21:19.666117Z"
    }
   },
   "cell_type": "code",
   "source": [
    "data = np.array([[1, 2], [3, 4], [5, 6]])\n",
    "data"
   ],
   "id": "5dbf32a31de0721b",
   "outputs": [
    {
     "data": {
      "text/plain": [
       "array([[1, 2],\n",
       "       [3, 4],\n",
       "       [5, 6]])"
      ]
     },
     "execution_count": 176,
     "metadata": {},
     "output_type": "execute_result"
    }
   ],
   "execution_count": 176
  },
  {
   "metadata": {
    "ExecuteTime": {
     "end_time": "2025-06-27T15:21:19.861850Z",
     "start_time": "2025-06-27T15:21:19.856014Z"
    }
   },
   "cell_type": "code",
   "source": [
    "## 索引和切片操作\n",
    "print(data[0,1])\n",
    "\n",
    "print(data[1:3])\n",
    "\n",
    "print(data[0:2, 0])"
   ],
   "id": "7e5199823dbd277a",
   "outputs": [
    {
     "name": "stdout",
     "output_type": "stream",
     "text": [
      "2\n",
      "[[3 4]\n",
      " [5 6]]\n",
      "[1 3]\n"
     ]
    }
   ],
   "execution_count": 177
  },
  {
   "metadata": {},
   "cell_type": "markdown",
   "source": "对不同大小的矩阵执行这些算术运算，但前提是一个矩阵只有一列或一行。在这种情况下，NumPy 将使用其广播规则进行操作。",
   "id": "815f73208c5929aa"
  },
  {
   "metadata": {
    "ExecuteTime": {
     "end_time": "2025-06-27T15:21:19.936694Z",
     "start_time": "2025-06-27T15:21:19.927965Z"
    }
   },
   "cell_type": "code",
   "source": [
    "data = np.array([[1, 2], [3, 4], [5, 6]])\n",
    "ones_row = np.array([[1, 1]])\n",
    "data + ones_row"
   ],
   "id": "ce2e2b203e256e4d",
   "outputs": [
    {
     "data": {
      "text/plain": [
       "array([[2, 3],\n",
       "       [4, 5],\n",
       "       [6, 7]])"
      ]
     },
     "execution_count": 178,
     "metadata": {},
     "output_type": "execute_result"
    }
   ],
   "execution_count": 178
  },
  {
   "metadata": {},
   "cell_type": "markdown",
   "source": "请注意，当 NumPy 打印 N 维数组时，最后一个轴的循环速度最快，而第一个轴的循环速度最慢。例如：",
   "id": "59342d22ceee4f49"
  },
  {
   "metadata": {
    "ExecuteTime": {
     "end_time": "2025-06-27T15:21:20.144779Z",
     "start_time": "2025-06-27T15:21:20.140267Z"
    }
   },
   "cell_type": "code",
   "source": "np.ones((4, 3, 2))",
   "id": "458ad3207b1086fc",
   "outputs": [
    {
     "data": {
      "text/plain": [
       "array([[[1., 1.],\n",
       "        [1., 1.],\n",
       "        [1., 1.]],\n",
       "\n",
       "       [[1., 1.],\n",
       "        [1., 1.],\n",
       "        [1., 1.]],\n",
       "\n",
       "       [[1., 1.],\n",
       "        [1., 1.],\n",
       "        [1., 1.]],\n",
       "\n",
       "       [[1., 1.],\n",
       "        [1., 1.],\n",
       "        [1., 1.]]])"
      ]
     },
     "execution_count": 179,
     "metadata": {},
     "output_type": "execute_result"
    }
   ],
   "execution_count": 179
  },
  {
   "metadata": {},
   "cell_type": "markdown",
   "source": [
    "在很多情况下，我们希望 NumPy 初始化数组的值。  \n",
    "NumPy 提供了ones()和等函数zeros()，以及 random.Generator用于生成随机数的类  \n",
    "您需要做的就是传入您希望它生成的元素数量：  "
   ],
   "id": "5a7de24436c0256d"
  },
  {
   "metadata": {
    "ExecuteTime": {
     "end_time": "2025-06-27T15:21:20.212771Z",
     "start_time": "2025-06-27T15:21:20.204231Z"
    }
   },
   "cell_type": "code",
   "source": [
    "print(np.ones(3))\n",
    "\n",
    "print(np.zeros(3))\n",
    "\n",
    "print(np.random.rand(3))"
   ],
   "id": "933f08f48784c096",
   "outputs": [
    {
     "name": "stdout",
     "output_type": "stream",
     "text": [
      "[1. 1. 1.]\n",
      "[0. 0. 0.]\n",
      "[0.90904497 0.68734877 0.21410216]\n"
     ]
    }
   ],
   "execution_count": 180
  },
  {
   "metadata": {
    "ExecuteTime": {
     "end_time": "2025-06-27T15:21:20.375075Z",
     "start_time": "2025-06-27T15:21:20.371947Z"
    }
   },
   "cell_type": "code",
   "source": [
    "# 如果给它们一个描述矩阵维度的元组，你还可以使用ones()、zeros()和random()创建一个二维数组：\n",
    "print(np.ones((3, 2)))\n",
    "\n",
    "print(np.zeros((3, 2)))\n",
    "\n",
    "print(np.random.rand(3,2))"
   ],
   "id": "e40fe2a49e6e844",
   "outputs": [
    {
     "name": "stdout",
     "output_type": "stream",
     "text": [
      "[[1. 1.]\n",
      " [1. 1.]\n",
      " [1. 1.]]\n",
      "[[0. 0.]\n",
      " [0. 0.]\n",
      " [0. 0.]]\n",
      "[[0.42064343 0.21836929]\n",
      " [0.50403831 0.01220628]\n",
      " [0.56969475 0.2412046 ]]\n"
     ]
    }
   ],
   "execution_count": 181
  },
  {
   "metadata": {},
   "cell_type": "markdown",
   "source": [
    "## 生成随机数\n",
    "随机数生成的使用是许多数值和机器学习算法的配置和评估的重要组成部分。 \n",
    " \n",
    "无论你需要随机初始化人工神经网络中的权重、将数据拆分为随机集，还是随机洗牌数据集，能够生成随机数（实际上是可重复的伪随机数）都是至关重要的。"
   ],
   "id": "58bfefce4a7696fe"
  },
  {
   "metadata": {
    "ExecuteTime": {
     "end_time": "2025-06-27T15:21:20.466216Z",
     "start_time": "2025-06-27T15:21:20.458387Z"
    }
   },
   "cell_type": "code",
   "source": [
    "# 生成 2x4 的随机整数数组，范围 [0, 4)\n",
    "arr = np.random.randint(low=0, high=4, size=(2, 4))\n",
    "print(arr)"
   ],
   "id": "eb18d6d04c015055",
   "outputs": [
    {
     "name": "stdout",
     "output_type": "stream",
     "text": [
      "[[2 3 2 3]\n",
      " [1 2 1 1]]\n"
     ]
    }
   ],
   "execution_count": 182
  },
  {
   "metadata": {},
   "cell_type": "markdown",
   "source": [
    "### 注意事项\n",
    "\n",
    "#### 范围包含性：\n",
    " high=4 表示生成的随机数最大为 3（不包括 4）。\n",
    " 如果需要包含 4，改为 high=5。\n",
    "#### 固定随机种子：\n",
    "```python\n",
    "np.random.seed(42)  # 设置种子后，每次运行结果相同\n",
    "arr = np.random.randint(0, 4, (2, 4))\n",
    "```\n",
    "#### 生成浮点数：\n",
    "如果需要浮点数，改用 np.random.uniform()：\n",
    "```python\n",
    "arr_float = np.random.uniform(low=0, high=4, size=(2, 4))\n",
    "```"
   ],
   "id": "805a79ad34d80ff6"
  },
  {
   "metadata": {},
   "cell_type": "markdown",
   "source": [
    "## 如何获得独特的物品和数量\n",
    "本节涵盖 np.unique()  \n",
    "可以使用 轻松找到数组中的唯一元素np.unique\n"
   ],
   "id": "5400d9dddb6ece9e"
  },
  {
   "metadata": {
    "ExecuteTime": {
     "end_time": "2025-06-27T15:21:20.620530Z",
     "start_time": "2025-06-27T15:21:20.614454Z"
    }
   },
   "cell_type": "code",
   "source": [
    "a = np.array([11, 11, 12, 13, 14, 15, 16, 17, 12, 13, 11, 14, 18, 19, 20])\n",
    "\n",
    "unique_values = np.unique(a)\n",
    "\n",
    "print(unique_values)"
   ],
   "id": "52bdadc24f876c83",
   "outputs": [
    {
     "name": "stdout",
     "output_type": "stream",
     "text": [
      "[11 12 13 14 15 16 17 18 19 20]\n"
     ]
    }
   ],
   "execution_count": 183
  },
  {
   "metadata": {},
   "cell_type": "markdown",
   "source": "要获取 NumPy 数组中唯一值的索引（数组中唯一值的第一个索引位置的数组），只需传入参数return_index 以及np.unique()数组即可。",
   "id": "c207e2d3ac595020"
  },
  {
   "metadata": {
    "ExecuteTime": {
     "end_time": "2025-06-27T15:21:20.698904Z",
     "start_time": "2025-06-27T15:21:20.691382Z"
    }
   },
   "cell_type": "code",
   "source": [
    "unique_values, indices_list = np.unique(a, return_index=True)\n",
    "indices_list  # 唯一值索引"
   ],
   "id": "8c979c2a58a2384e",
   "outputs": [
    {
     "data": {
      "text/plain": [
       "array([ 0,  2,  3,  4,  5,  6,  7, 12, 13, 14])"
      ]
     },
     "execution_count": 184,
     "metadata": {},
     "output_type": "execute_result"
    }
   ],
   "execution_count": 184
  },
  {
   "metadata": {},
   "cell_type": "markdown",
   "source": "可以将return_counts参数np.unique()与数组一起传递，以获取 NumPy 数组中唯一值的频率计数。",
   "id": "5798a4c6c4864279"
  },
  {
   "metadata": {
    "ExecuteTime": {
     "end_time": "2025-06-27T15:21:20.883781Z",
     "start_time": "2025-06-27T15:21:20.875992Z"
    }
   },
   "cell_type": "code",
   "source": [
    "unique_values, occurrence_count = np.unique(a, return_counts=True)\n",
    "occurrence_count"
   ],
   "id": "ff001d22d12b7498",
   "outputs": [
    {
     "data": {
      "text/plain": [
       "array([3, 2, 2, 2, 1, 1, 1, 1, 1, 1])"
      ]
     },
     "execution_count": 185,
     "metadata": {},
     "output_type": "execute_result"
    }
   ],
   "execution_count": 185
  },
  {
   "metadata": {},
   "cell_type": "markdown",
   "source": "这也适用于二维数组！如果你从这个数组开始：",
   "id": "3071be9f1d54d32a"
  },
  {
   "metadata": {
    "ExecuteTime": {
     "end_time": "2025-06-27T15:21:21.145330Z",
     "start_time": "2025-06-27T15:21:21.139996Z"
    }
   },
   "cell_type": "code",
   "source": "a_2d = np.array([[1, 2, 3, 4], [5, 6, 7, 8], [9, 10, 11, 12], [1, 2, 3, 4]])",
   "id": "5192361c78eb4315",
   "outputs": [],
   "execution_count": 186
  },
  {
   "metadata": {
    "ExecuteTime": {
     "end_time": "2025-06-27T15:21:21.335129Z",
     "start_time": "2025-06-27T15:21:21.331459Z"
    }
   },
   "cell_type": "code",
   "source": [
    "unique_values = np.unique(a_2d)\n",
    "unique_values"
   ],
   "id": "d3f1483f8b7e7c89",
   "outputs": [
    {
     "data": {
      "text/plain": [
       "array([ 1,  2,  3,  4,  5,  6,  7,  8,  9, 10, 11, 12])"
      ]
     },
     "execution_count": 187,
     "metadata": {},
     "output_type": "execute_result"
    }
   ],
   "execution_count": 187
  },
  {
   "metadata": {},
   "cell_type": "markdown",
   "source": [
    "如果未传递 axis 参数，你的 2D 数组将被展平。\n",
    "\n",
    "如果你想获取唯一的行或列，请确保传递参数axis 。要查找唯一的行，请指定axis=0，对于列，请指定 axis=1。"
   ],
   "id": "b2b8c88de9ed0eb5"
  },
  {
   "metadata": {
    "ExecuteTime": {
     "end_time": "2025-06-27T15:21:21.424409Z",
     "start_time": "2025-06-27T15:21:21.419029Z"
    }
   },
   "cell_type": "code",
   "source": [
    "unique_rows = np.unique(a_2d, axis=0)\n",
    "unique_rows"
   ],
   "id": "49d65096bf4c64d0",
   "outputs": [
    {
     "data": {
      "text/plain": [
       "array([[ 1,  2,  3,  4],\n",
       "       [ 5,  6,  7,  8],\n",
       "       [ 9, 10, 11, 12]])"
      ]
     },
     "execution_count": 188,
     "metadata": {},
     "output_type": "execute_result"
    }
   ],
   "execution_count": 188
  },
  {
   "metadata": {
    "ExecuteTime": {
     "end_time": "2025-06-27T15:21:21.610050Z",
     "start_time": "2025-06-27T15:21:21.606659Z"
    }
   },
   "cell_type": "code",
   "source": [
    "unique_cols = np.unique(a_2d, axis=1)\n",
    "unique_cols"
   ],
   "id": "499cc2e0ffc5037e",
   "outputs": [
    {
     "data": {
      "text/plain": [
       "array([[ 1,  2,  3,  4],\n",
       "       [ 5,  6,  7,  8],\n",
       "       [ 9, 10, 11, 12],\n",
       "       [ 1,  2,  3,  4]])"
      ]
     },
     "execution_count": 189,
     "metadata": {},
     "output_type": "execute_result"
    }
   ],
   "execution_count": 189
  },
  {
   "metadata": {},
   "cell_type": "markdown",
   "source": "要获取唯一行、索引位置和出现次数，你可以使用：",
   "id": "f87a8f68d3ea5f6d"
  },
  {
   "metadata": {
    "ExecuteTime": {
     "end_time": "2025-06-27T15:21:21.655591Z",
     "start_time": "2025-06-27T15:21:21.651636Z"
    }
   },
   "cell_type": "code",
   "source": [
    "unique_rows, indices, occurrence_count = np.unique(\n",
    "     a_2d, axis=0, return_counts=True, return_index=True)\n",
    "\n",
    "print(unique_rows)\n",
    "print(indices)\n",
    "print(occurrence_count)"
   ],
   "id": "1a459c783efee2d0",
   "outputs": [
    {
     "name": "stdout",
     "output_type": "stream",
     "text": [
      "[[ 1  2  3  4]\n",
      " [ 5  6  7  8]\n",
      " [ 9 10 11 12]]\n",
      "[0 1 2]\n",
      "[2 1 1]\n"
     ]
    }
   ],
   "execution_count": 190
  },
  {
   "metadata": {},
   "cell_type": "markdown",
   "source": [
    "## 转置和重塑矩阵\n",
    "本节涵盖 arr.reshape(), arr.transpose(),arr.T\n",
    "\n",
    "需要转置矩阵是很常见的。 NumPy 数组具有T允许你转置矩阵的属性 。\n",
    "\n",
    "可能还需要切换矩阵的维度。例如，当你的模型需要与数据集不同的特定输入形状时，就会发生这种情况。这就是该reshape方法可以发挥作用的地方。你只需传入矩阵所需的新维度即可。\n",
    "\n"
   ],
   "id": "84051a2ccda06473"
  },
  {
   "metadata": {
    "ExecuteTime": {
     "end_time": "2025-06-27T15:21:21.843033Z",
     "start_time": "2025-06-27T15:21:21.838581Z"
    }
   },
   "cell_type": "code",
   "source": [
    "data = np.arange(6)\n",
    "print(data)\n",
    "\n",
    "data1 = data.reshape(2,3)\n",
    "print(data1)\n",
    "\n",
    "data2 = data.reshape(3,2)\n",
    "print(data2)"
   ],
   "id": "4004bd63c12ef531",
   "outputs": [
    {
     "name": "stdout",
     "output_type": "stream",
     "text": [
      "[0 1 2 3 4 5]\n",
      "[[0 1 2]\n",
      " [3 4 5]]\n",
      "[[0 1]\n",
      " [2 3]\n",
      " [4 5]]\n"
     ]
    }
   ],
   "execution_count": 191
  },
  {
   "metadata": {},
   "cell_type": "markdown",
   "source": "还可以.transpose()根据指定的值反转或更改数组的轴。\n",
   "id": "82f4eb296b7ac231"
  },
  {
   "metadata": {
    "ExecuteTime": {
     "end_time": "2025-06-27T15:21:21.953420Z",
     "start_time": "2025-06-27T15:21:21.949694Z"
    }
   },
   "cell_type": "code",
   "source": [
    "arr = np.arange(6).reshape((2, 3))\n",
    "print(arr)\n",
    "\n",
    "print(arr.transpose()) \n",
    "\n",
    "# 还可以使用arr.T：\n",
    "print(arr.T)"
   ],
   "id": "1c46c0e22a4ed6a1",
   "outputs": [
    {
     "name": "stdout",
     "output_type": "stream",
     "text": [
      "[[0 1 2]\n",
      " [3 4 5]]\n",
      "[[0 3]\n",
      " [1 4]\n",
      " [2 5]]\n",
      "[[0 3]\n",
      " [1 4]\n",
      " [2 5]]\n"
     ]
    }
   ],
   "execution_count": 192
  },
  {
   "metadata": {},
   "cell_type": "markdown",
   "source": [
    "## 如何反转数组\n",
    "本节涵盖 np.flip()  \n",
    "NumPy 的np.flip()函数允许你沿轴翻转或反转数组的内容。使用 时np.flip()，指定要反转的数组和轴。  \n",
    "如果你不指定轴，NumPy 将沿输入数组的所有轴反转内容。"
   ],
   "id": "b7d4be5b1907847d"
  },
  {
   "metadata": {},
   "cell_type": "markdown",
   "source": "### 反转一维数组\n",
   "id": "1b9173eb8b01cf9c"
  },
  {
   "metadata": {
    "ExecuteTime": {
     "end_time": "2025-06-27T15:21:22.218108Z",
     "start_time": "2025-06-27T15:21:22.214945Z"
    }
   },
   "cell_type": "code",
   "source": [
    "arr = np.array([1,2,3,4,5,6,7,8])\n",
    "reversed_arr = np.flip(arr)\n",
    "reversed_arr"
   ],
   "id": "5d28a96e30c642af",
   "outputs": [
    {
     "data": {
      "text/plain": [
       "array([8, 7, 6, 5, 4, 3, 2, 1])"
      ]
     },
     "execution_count": 193,
     "metadata": {},
     "output_type": "execute_result"
    }
   ],
   "execution_count": 193
  },
  {
   "metadata": {},
   "cell_type": "markdown",
   "source": "### 反转二维数组\n",
   "id": "d7890c90739bd426"
  },
  {
   "metadata": {
    "ExecuteTime": {
     "end_time": "2025-06-27T15:21:22.387413Z",
     "start_time": "2025-06-27T15:21:22.383510Z"
    }
   },
   "cell_type": "code",
   "source": [
    "arr_2d = np.array([[1, 2, 3, 4], [5, 6, 7, 8], [9, 10, 11, 12]])\n",
    "reversed_arr = np.flip(arr_2d)\n",
    "reversed_arr"
   ],
   "id": "d718bc9473db1323",
   "outputs": [
    {
     "data": {
      "text/plain": [
       "array([[12, 11, 10,  9],\n",
       "       [ 8,  7,  6,  5],\n",
       "       [ 4,  3,  2,  1]])"
      ]
     },
     "execution_count": 194,
     "metadata": {},
     "output_type": "execute_result"
    }
   ],
   "execution_count": 194
  },
  {
   "metadata": {
    "ExecuteTime": {
     "end_time": "2025-06-27T15:21:22.562521Z",
     "start_time": "2025-06-27T15:21:22.560326Z"
    }
   },
   "cell_type": "code",
   "source": [
    "## 可以轻松地仅反转行：\n",
    "reversed_arr_rows = np.flip(arr_2d, axis=0)\n",
    "print(reversed_arr_rows)\n"
   ],
   "id": "ffec11e6a284abfb",
   "outputs": [
    {
     "name": "stdout",
     "output_type": "stream",
     "text": [
      "[[ 9 10 11 12]\n",
      " [ 5  6  7  8]\n",
      " [ 1  2  3  4]]\n"
     ]
    }
   ],
   "execution_count": 195
  },
  {
   "metadata": {
    "ExecuteTime": {
     "end_time": "2025-06-27T15:21:22.622605Z",
     "start_time": "2025-06-27T15:21:22.620316Z"
    }
   },
   "cell_type": "code",
   "source": [
    "## 或者仅反转列：\n",
    "reversed_arr_columns = np.flip(arr_2d, axis=1)\n",
    "print(reversed_arr_columns)"
   ],
   "id": "adae4b1d57069906",
   "outputs": [
    {
     "name": "stdout",
     "output_type": "stream",
     "text": [
      "[[ 4  3  2  1]\n",
      " [ 8  7  6  5]\n",
      " [12 11 10  9]]\n"
     ]
    }
   ],
   "execution_count": 196
  },
  {
   "metadata": {
    "ExecuteTime": {
     "end_time": "2025-06-27T15:21:22.827706Z",
     "start_time": "2025-06-27T15:21:22.825187Z"
    }
   },
   "cell_type": "code",
   "source": [
    "## 还可以仅反转一列或一行的内容。例如，你可以反转索引位置 1 处的行内容（第二行）：\n",
    "arr_2d[1] = np.flip(arr_2d[1])\n",
    "print(arr_2d)"
   ],
   "id": "2c47cd054c3b5ae4",
   "outputs": [
    {
     "name": "stdout",
     "output_type": "stream",
     "text": [
      "[[ 1  2  3  4]\n",
      " [ 8  7  6  5]\n",
      " [ 9 10 11 12]]\n"
     ]
    }
   ],
   "execution_count": 197
  },
  {
   "metadata": {
    "ExecuteTime": {
     "end_time": "2025-06-27T15:21:22.872286Z",
     "start_time": "2025-06-27T15:21:22.869821Z"
    }
   },
   "cell_type": "code",
   "source": [
    "## 还可以反转索引位置 1 处的列（第二列）：\n",
    "arr_2d[:,1] = np.flip(arr_2d[:,1])\n",
    "print(arr_2d)"
   ],
   "id": "9585f979ea16e099",
   "outputs": [
    {
     "name": "stdout",
     "output_type": "stream",
     "text": [
      "[[ 1 10  3  4]\n",
      " [ 8  7  6  5]\n",
      " [ 9  2 11 12]]\n"
     ]
    }
   ],
   "execution_count": 198
  },
  {
   "metadata": {},
   "cell_type": "markdown",
   "source": [
    "## 重塑和展平多维数组\n",
    "本节涵盖 .flatten()，ravel()\n",
    "\n",
    "有两种流行的方法来展平数组：.flatten()和.ravel()。\n",
    "\n",
    "两者之间的主要区别在于，使用创建的新数组 ravel()实际上是对父数组（即“视图”）的引用。  \n",
    "这意味着对新数组的任何更改也会影响父数组。由于ravel不创建副本，因此内存效率很高。  "
   ],
   "id": "94611283d7bad91a"
  },
  {
   "metadata": {
    "ExecuteTime": {
     "end_time": "2025-06-27T15:21:22.961058Z",
     "start_time": "2025-06-27T15:21:22.955413Z"
    }
   },
   "cell_type": "code",
   "source": [
    "x = np.array([[1 , 2, 3, 4], [5, 6, 7, 8], [9, 10, 11, 12]])\n",
    "x.flatten()"
   ],
   "id": "44dcb393e264f361",
   "outputs": [
    {
     "data": {
      "text/plain": [
       "array([ 1,  2,  3,  4,  5,  6,  7,  8,  9, 10, 11, 12])"
      ]
     },
     "execution_count": 199,
     "metadata": {},
     "output_type": "execute_result"
    }
   ],
   "execution_count": 199
  },
  {
   "metadata": {
    "ExecuteTime": {
     "end_time": "2025-06-27T15:21:22.982132Z",
     "start_time": "2025-06-27T15:21:22.979620Z"
    }
   },
   "cell_type": "code",
   "source": [
    "a1 = x.flatten()\n",
    "a1[0] = 99\n",
    "print(x) \n",
    "print(a1)"
   ],
   "id": "91e42bbdcd401930",
   "outputs": [
    {
     "name": "stdout",
     "output_type": "stream",
     "text": [
      "[[ 1  2  3  4]\n",
      " [ 5  6  7  8]\n",
      " [ 9 10 11 12]]\n",
      "[99  2  3  4  5  6  7  8  9 10 11 12]\n"
     ]
    }
   ],
   "execution_count": 200
  },
  {
   "metadata": {
    "ExecuteTime": {
     "end_time": "2025-06-27T15:21:23.161992Z",
     "start_time": "2025-06-27T15:21:23.150936Z"
    }
   },
   "cell_type": "code",
   "source": [
    "## 但是当你使用 时ravel，对新数组所做的更改将影响父数组。\n",
    "a2 = x.ravel()\n",
    "a2[0] = 98\n",
    "print(x)\n",
    "print(a2)"
   ],
   "id": "a1fb023db26b7242",
   "outputs": [
    {
     "name": "stdout",
     "output_type": "stream",
     "text": [
      "[[98  2  3  4]\n",
      " [ 5  6  7  8]\n",
      " [ 9 10 11 12]]\n",
      "[98  2  3  4  5  6  7  8  9 10 11 12]\n"
     ]
    }
   ],
   "execution_count": 201
  },
  {
   "metadata": {},
   "cell_type": "markdown",
   "source": [
    "## 如何访问文档字符串以获取更多信息\n",
    "本节涵盖 help(), ?,??\n",
    "\n",
    "Python 和 NumPy 都是以用户为中心而构建的。最好的例子之一就是对文档的内置访问。每个对象都包含对字符串的引用，该字符串称为docstring。在大多数情况下，此文档字符串包含对象及其使用方法的快速而简洁的摘要。 Python 有一个内置help() 函数可以帮助你访问此信息。这意味着几乎任何时候你需要更多信息时，你都可以使用help()它来快速查找所需的信息。"
   ],
   "id": "7342bebcfc1d39a2"
  },
  {
   "metadata": {
    "ExecuteTime": {
     "end_time": "2025-06-27T15:21:23.216728Z",
     "start_time": "2025-06-27T15:21:23.209394Z"
    }
   },
   "cell_type": "code",
   "source": "help(max)",
   "id": "cb4df72ee78b2ab9",
   "outputs": [
    {
     "name": "stdout",
     "output_type": "stream",
     "text": [
      "Help on built-in function max in module builtins:\n",
      "\n",
      "max(...)\n",
      "    max(iterable, *[, default=obj, key=func]) -> value\n",
      "    max(arg1, arg2, *args, *[, key=func]) -> value\n",
      "\n",
      "    With a single iterable argument, return its biggest item. The\n",
      "    default keyword-only argument specifies an object to return if\n",
      "    the provided iterable is empty.\n",
      "    With two or more arguments, return the largest argument.\n",
      "\n"
     ]
    }
   ],
   "execution_count": 202
  },
  {
   "metadata": {},
   "cell_type": "markdown",
   "source": "由于访问附加信息非常有用，因此 IPython 使用该? 字符作为访问此文档以及其他相关信息的简写。 IPython 是一种用于多种语言交互式计算的命令 shell",
   "id": "6d757330793966a3"
  },
  {
   "metadata": {
    "ExecuteTime": {
     "end_time": "2025-06-27T15:21:23.280257Z",
     "start_time": "2025-06-27T15:21:23.272379Z"
    }
   },
   "cell_type": "code",
   "source": [
    "## 自己运行一下这个看看就好了\n",
    "max?"
   ],
   "id": "e3b0467c8a4aa14",
   "outputs": [],
   "execution_count": 203
  },
  {
   "metadata": {
    "ExecuteTime": {
     "end_time": "2025-06-27T15:21:23.324443Z",
     "start_time": "2025-06-27T15:21:23.320430Z"
    }
   },
   "cell_type": "code",
   "source": [
    "# 你甚至可以将此表示法用于对象方法和对象本身。\n",
    "# 假设你创建了这个数组：\n",
    "a = np.array([1, 2, 3, 4, 5, 6])\n",
    "a"
   ],
   "id": "550b6076ce3597d5",
   "outputs": [
    {
     "data": {
      "text/plain": [
       "array([1, 2, 3, 4, 5, 6])"
      ]
     },
     "execution_count": 204,
     "metadata": {},
     "output_type": "execute_result"
    }
   ],
   "execution_count": 204
  },
  {
   "metadata": {
    "ExecuteTime": {
     "end_time": "2025-06-27T15:21:23.501799Z",
     "start_time": "2025-06-27T15:21:23.498032Z"
    }
   },
   "cell_type": "code",
   "source": "a?",
   "id": "6db767a53b16923c",
   "outputs": [],
   "execution_count": 205
  },
  {
   "metadata": {},
   "cell_type": "markdown",
   "source": [
    "这也适用于你创建的函数和其他对象。只需记住使用字符串文字（或在文档周围）在你的函数中包含文档字符串。\"\"\" \"\"\"''' '''\n",
    "\n",
    "例如，如果你创建此函数：\n"
   ],
   "id": "33533fba206a5bb1"
  },
  {
   "metadata": {
    "ExecuteTime": {
     "end_time": "2025-06-27T15:22:43.737246Z",
     "start_time": "2025-06-27T15:22:43.662638Z"
    }
   },
   "cell_type": "code",
   "source": [
    "def double(a):\n",
    "  '''Return a * 2'''\n",
    "  return a * 2"
   ],
   "id": "755400390ee9db0d",
   "outputs": [],
   "execution_count": 206
  },
  {
   "metadata": {
    "ExecuteTime": {
     "end_time": "2025-06-27T15:23:17.222030Z",
     "start_time": "2025-06-27T15:23:17.174764Z"
    }
   },
   "cell_type": "code",
   "source": [
    "## 可以获取有关该功能的信息：\n",
    "double?"
   ],
   "id": "458cbce2d07361a0",
   "outputs": [],
   "execution_count": 207
  },
  {
   "metadata": {},
   "cell_type": "markdown",
   "source": "可以通过阅读你感兴趣的对象的源代码来获得另一个级别的信息。使用双问号 ( ??) 允许你访问源代码。",
   "id": "d3b50fbc9ad0786d"
  },
  {
   "metadata": {
    "ExecuteTime": {
     "end_time": "2025-06-27T15:24:04.622471Z",
     "start_time": "2025-06-27T15:24:04.579612Z"
    }
   },
   "cell_type": "code",
   "source": [
    "## 运行后自己看\n",
    "double??"
   ],
   "id": "884c953b36dc74b6",
   "outputs": [],
   "execution_count": 208
  },
  {
   "metadata": {},
   "cell_type": "markdown",
   "source": [
    "## 如何保存和加载 NumPy 对象\n",
    "本节涵盖 np.save, np.savez, np.savetxt, np.load,np.loadtxt  \n",
    "\n",
    "在某些情况下，你可能需要将 NumPy 数组保存到磁盘并在之后重新加载，而不必重新运行生成这些数组的代码。NumPy 提供了多种灵活的方式来保存和加载数组数据：\n",
    "\n",
    "1. 对于文本格式的存储，可以使用 `savetxt` 和 `loadtxt` 函数来处理普通的文本文件\n",
    "2. 对于高效的二进制存储，可以使用 `save` 和 `load` 函数来处理扩展名为 .npy 的 NumPy 二进制文件\n",
    "3. 如果需要保存多个数组到一个文件中，可以使用 `savez` 函数来处理扩展名为 .npz 的 NumPy 归档文件\n",
    "\n",
    "这些方法为不同的使用场景提供了便捷的数据持久化解决方案，你可以根据具体需求选择最适合的格式。\n",
    "\n",
    ".npy和.npz文件以允许正确检索数组的方式存储重建 ndarray 所需的数据、形状、dtype 和其他信息，即使文件位于具有不同体系结构的另一台计算机上也是如此。"
   ],
   "id": "e3514c903c324e32"
  },
  {
   "metadata": {},
   "cell_type": "code",
   "outputs": [],
   "execution_count": null,
   "source": [
    "a = np.array([1, 2, 3, 4, 5, 6])\n",
    "## 你可以使用以下命令将其另存为“filename.npy”：\n",
    "np.save('filename', a)\n",
    "\n",
    "## 你可以使用它np.load()来重建你的数组。\n",
    "b = np.load('filename.npy')\n",
    "\n",
    "## 如果你想检查你的数组，你可以运行：\n",
    "print(b)\n"
   ],
   "id": "b29186c0876d3b3f"
  },
  {
   "metadata": {},
   "cell_type": "markdown",
   "source": [
    "## 导入和导出 CSV\n",
    "读取包含现有信息的 CSV 非常简单。最好、最简单的方法是使用 Pandas。\n"
   ],
   "id": "fc82a75b13685187"
  },
  {
   "metadata": {
    "ExecuteTime": {
     "end_time": "2025-06-27T15:41:56.150810Z",
     "start_time": "2025-06-27T15:41:56.007325Z"
    }
   },
   "cell_type": "code",
   "source": [
    "import pandas as pd\n",
    "x = pd.read_csv('../数据集/data.csv', header=0).values\n",
    "print(x)"
   ],
   "id": "36a6fdceec384534",
   "outputs": [
    {
     "name": "stdout",
     "output_type": "stream",
     "text": [
      "[[  0.          17.4507123 ]\n",
      " [  1.01010101  10.45128801]\n",
      " [  2.02020202  24.76583312]\n",
      " [  3.03030303  40.42120542]\n",
      " [  4.04040404  16.58870948]\n",
      " [  5.05050505  19.11420827]\n",
      " [  6.06060606  48.83970738]\n",
      " [  7.07070707  39.18828861]\n",
      " [  8.08080808  23.15990441]\n",
      " [  9.09090909  40.86567338]\n",
      " [ 10.1010101   28.30125986]\n",
      " [ 11.11111111  30.79183147]\n",
      " [ 12.12121212  43.93246438]\n",
      " [ 13.13131313  14.12907916]\n",
      " [ 14.14141414  19.47976787]\n",
      " [ 15.15151515  39.44447494]\n",
      " [ 16.16161616  35.2115736 ]\n",
      " [ 17.17171717  57.64300292]\n",
      " [ 18.18181818  41.83418432]\n",
      " [ 19.19191919  36.79524246]\n",
      " [ 20.2020202   82.48978204]\n",
      " [ 21.21212121  59.64365852]\n",
      " [ 22.22222222  66.56847863]\n",
      " [ 23.23232323  46.70958529]\n",
      " [ 24.24242424  62.44031974]\n",
      " [ 25.25252525  74.79515198]\n",
      " [ 26.26262626  58.391662  ]\n",
      " [ 27.27272727  83.81728846]\n",
      " [ 28.28282828  71.69749036]\n",
      " [ 29.29292929  78.85691699]\n",
      " [ 30.3030303   76.73197657]\n",
      " [ 31.31313131 116.06700105]\n",
      " [ 32.32323232  90.60562244]\n",
      " [ 33.33333333  77.4676694 ]\n",
      " [ 34.34343434 108.19675954]\n",
      " [ 35.35353535  80.07118363]\n",
      " [ 36.36363636 104.04204483]\n",
      " [ 37.37373737  74.03929158]\n",
      " [ 38.38383838  86.03680523]\n",
      " [ 39.39393939 111.43776702]\n",
      " [ 40.4040404  122.08709971]\n",
      " [ 41.41414141 116.10587775]\n",
      " [ 42.42424242 114.32588182]\n",
      " [ 43.43434343 114.06930315]\n",
      " [ 44.44444444  98.93328126]\n",
      " [ 45.45454545 112.83870051]\n",
      " [ 46.46464646 119.2520346 ]\n",
      " [ 47.47474747 144.54370208]\n",
      " [ 48.48484848 136.36639556]\n",
      " [ 49.49494949 107.29177141]\n",
      " [ 50.50505051 141.1238858 ]\n",
      " [ 51.51515152 133.01164458]\n",
      " [ 52.52525253 131.15930131]\n",
      " [ 53.53535354 153.01352817]\n",
      " [ 54.54545455 161.8286292 ]\n",
      " [ 55.55555556 162.85809068]\n",
      " [ 56.56565657 138.82587857]\n",
      " [ 57.57575758 149.3012083 ]\n",
      " [ 58.58585859 161.43359794]\n",
      " [ 59.5959596  173.6230759 ]\n",
      " [ 60.60606061 154.32753795]\n",
      " [ 61.61616162 161.25551939]\n",
      " [ 62.62626263 149.97063196]\n",
      " [ 63.63636364 151.14780973]\n",
      " [ 64.64646465 183.80404895]\n",
      " [ 65.65656566 194.48501457]\n",
      " [ 66.66666667 175.58651484]\n",
      " [ 67.67676768 194.24491266]\n",
      " [ 68.68686869 187.14171209]\n",
      " [ 69.6969697  174.56562792]\n",
      " [ 70.70707071 192.18861085]\n",
      " [ 71.71717172 212.36347779]\n",
      " [ 72.72727273 191.28079123]\n",
      " [ 73.73737374 217.81308918]\n",
      " [ 74.74747475 157.57251031]\n",
      " [ 75.75757576 211.72247696]\n",
      " [ 76.76767677 203.22489794]\n",
      " [ 77.77777778 199.95933419]\n",
      " [ 78.78787879 208.34610862]\n",
      " [ 79.7979798  179.68141578]\n",
      " [ 80.80808081 208.7251237 ]\n",
      " [ 81.81818182 219.90214312]\n",
      " [ 82.82828283 239.23911774]\n",
      " [ 83.83838384 211.82190632]\n",
      " [ 84.84848485 209.99380808]\n",
      " [ 85.85858586 217.12010899]\n",
      " [ 86.86868687 240.90274894]\n",
      " [ 87.87878788 234.62823634]\n",
      " [ 88.88888889 224.27581917]\n",
      " [ 89.8989899  242.44648624]\n",
      " [ 90.90909091 238.72889051]\n",
      " [ 91.91919192 254.32765466]\n",
      " [ 92.92929293 231.79243592]\n",
      " [ 93.93939394 239.93355265]\n",
      " [ 94.94949495 241.49211508]\n",
      " [ 95.95959596 227.94626568]\n",
      " [ 96.96969697 256.86604658]\n",
      " [ 97.97979798 258.86532403]\n",
      " [ 98.98989899 257.55144932]\n",
      " [100.         256.481193  ]]\n"
     ]
    }
   ],
   "execution_count": 209
  },
  {
   "metadata": {},
   "cell_type": "markdown",
   "source": "使用 Pandas 导出数组也很简单。如果您是 NumPy 新手，您可能需要根据数组中的值创建 Pandas 数据框，然后使用 Pandas 将数据框写入 CSV 文件。",
   "id": "aa8723cc7d1d8923"
  },
  {
   "metadata": {
    "ExecuteTime": {
     "end_time": "2025-06-27T15:44:01.024648Z",
     "start_time": "2025-06-27T15:44:00.918139Z"
    }
   },
   "cell_type": "code",
   "source": [
    "## 如果你创建了这个数组“a”\n",
    "a = np.array([[-2.58289208,  0.43014843, -1.24082018, 1.59572603],\n",
    "              [ 0.99027828, 1.17150989,  0.94125714, -0.14692469],\n",
    "              [ 0.76989341,  0.81299683, -0.95068423, 0.11769564],\n",
    "              [ 0.20484034,  0.34784527,  1.96979195, 0.51992837]])\n",
    "\n",
    "## 可以创建一个 Pandas 数据框\n",
    "df = pd.DataFrame(a)\n",
    "print(df)"
   ],
   "id": "8ac21b6ecb1e9e92",
   "outputs": [
    {
     "name": "stdout",
     "output_type": "stream",
     "text": [
      "          0         1         2         3\n",
      "0 -2.582892  0.430148 -1.240820  1.595726\n",
      "1  0.990278  1.171510  0.941257 -0.146925\n",
      "2  0.769893  0.812997 -0.950684  0.117696\n",
      "3  0.204840  0.347845  1.969792  0.519928\n"
     ]
    }
   ],
   "execution_count": 210
  },
  {
   "metadata": {},
   "cell_type": "code",
   "outputs": [],
   "execution_count": null,
   "source": [
    "## 可以使用以下方法轻松保存数据框\n",
    "df.to_csv('pd.csv')\n",
    "\n",
    "## 使用以下命令读取你的 CSV：\n",
    "data = pd.read_csv('pd.csv')"
   ],
   "id": "9381653f86cbd86a"
  }
 ],
 "metadata": {
  "kernelspec": {
   "display_name": "Python 3",
   "language": "python",
   "name": "python3"
  },
  "language_info": {
   "codemirror_mode": {
    "name": "ipython",
    "version": 2
   },
   "file_extension": ".py",
   "mimetype": "text/x-python",
   "name": "python",
   "nbconvert_exporter": "python",
   "pygments_lexer": "ipython2",
   "version": "2.7.6"
  }
 },
 "nbformat": 4,
 "nbformat_minor": 5
}
