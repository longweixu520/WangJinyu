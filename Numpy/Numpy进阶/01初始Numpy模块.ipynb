{
 "cells": [
  {
   "metadata": {},
   "cell_type": "markdown",
   "source": [
    "# 初始numpy模块\n",
    "## numpy介绍\n",
    "NumPy 是 Python 语言的一个第三方库，其支持大量高维度数组与矩阵运算。此外，NumPy 也针对数组运算提供大量的数学函数。机器学习涉及到大量对数组的变换和运算，NumPy 就成了必不可少的工具之一。\n",
    "\n",
    "**作用**：NumPy是一个运行速度非常快的数学库，主要用于数组计算\n",
    "\n",
    "**优势**：\n",
    "\n",
    "* 对于同样的数值计算任务，使用numpy要比直接编写Python代码便捷的多\n",
    "* numpy中的数组的存 储效率和输入输出性能均远远优于Python中等价的基本数据结构，且其能够提升性能是与数组中的元素成比例的\n",
    "* numpy的大部分代码都是用C语言写的，其底层算法在设计时就有着优异的性能，这使得numpy比纯Python代码高效得多\n",
    "\n"
   ],
   "id": "dbf7c97ddf18d12e"
  },
  {
   "metadata": {},
   "cell_type": "markdown",
   "source": [
    "## ndarray对象介绍\n",
    "NumPy定义了一个n维数组对象，简称ndarray对象，它是一个一系列相同类型元素组成的数组集合。数组中的每个元素都占有大小相同的内存块  \n",
    "ndarray对象采用了数组的索引机制，将数组中的每个元素映射到内存块上，并且按照一定的布局对内存块进行排列(行或列)。\n",
    "\n",
    "## 下载和导入numpy\n",
    "安装`numpy`，输入对应的pip命令：`pip install numpy`\n",
    "\n",
    "导包 `import numpy as np`\n"
   ],
   "id": "6b705922948b4814"
  },
  {
   "metadata": {},
   "cell_type": "markdown",
   "source": [
    "# numpy模块的基本使用\n",
    "## numpy数据类型\n",
    "numpy支持的数据类型比Python内置的类型要多很多，基本上可以和C语言的数据类型对应上，其中部分类型对应为Python内置的类型  \n",
    "\n",
    "numpy的数值类型实际上是dtype对象的实例，并对应唯一-的字符， 包括np.bool_ ,np.int32，np.float32, 等等  \n",
    "\n",
    "| 类型                   | 类型代码 | 说明                                                    |\n",
    "| ---------------------- | -------- | ------------------------------------------------------- |\n",
    "| int8、uint8            | i1、u1   | 有符号和无符号的8位(1个字节) 整型                       |\n",
    "| int16, uint16          | i2、u2   | 有符号和无符号的16位(2个字节) 整型                      |\n",
    "| int32、uint32          | i4、u4   | 有符号和无符号的32位(4个字节) 整型                      |\n",
    "| int64、uint64          | i8、u8   | 有符号和无符号的64位(8个字节) 整型                      |\n",
    "| float16                | f2       | 半精度浮点数                                            |\n",
    "| float32                | f4或者f  | 标准的单精度浮点数。与C的float兼容                      |\n",
    "| float64                | f8或d    | 标准的双精度浮点数。与C的double 和Python的float对象兼容 |\n",
    "| float1 28              | f16或g   | 扩展精度浮点数                                          |\n",
    "| complex64. complex128. | c8、c16  | 分别用两个32位、64位或128位浮点数表示的                 |\n",
    "| complex256             | c32      | 复数                                                    |\n",
    "| bool                   | b        | 存储True和False值的布尔类型                             |\n",
    "\n",
    "**数据类型对象是用来描述与数组对应的内存区域如何使用，这依赖如下几个方面:**\n",
    "\n",
    "* 数据的类型(整数，浮点数或者Python对象)\n",
    "* 数据的大小(例如， 整数使用多少个字节存储)\n",
    "* 数据的字节顺序(小端法或大端法) \\[通过对数据类型预先设定\"&lt;“或”&gt;\"来决定的。&lt;“意味着小端法(最小值存储在最小的地址，即低位组放在最前面)。”&gt;\"意味着大端法(最重要的字节存储在最小的地址，即高位组放在最前面)\\]\n",
    "* 在结构化类型的情况下，字段的名称、每个字段的数据类型和每个字段所取的内存块的  \n",
    "  部分\n",
    "* 如果数据类型是子数组，它的形状和数据类型\n",
    "\n",
    "**创建数据类型对象语法**：`numpy.dtype(object, align, copy)`\n",
    "\n",
    "**参数说明**：\n",
    "\n",
    "* object：要转换为的数据类型对象\n",
    "* align：如果为true,填充字段使其类似C的结构体\n",
    "* copy：复制dtype对象，如果为false,则是对内置数据类型对象的引用."
   ],
   "id": "ab68f908e5f168bf"
  },
  {
   "metadata": {
    "ExecuteTime": {
     "end_time": "2025-06-28T14:33:36.524080Z",
     "start_time": "2025-06-28T14:33:36.429033Z"
    }
   },
   "cell_type": "code",
   "source": [
    "### 基本用法\n",
    "\n",
    "import numpy as np\n",
    "dt = np.dtype(np.int32)\n",
    "print(dt)\n",
    "print(type(dt))\n",
    "\n",
    "#### 数据类型缩写\n",
    "dt1 = np.dtype('i1')\n",
    "print(dt1)\n",
    "print(type(dt1))\n"
   ],
   "id": "1073ddcda763b555",
   "outputs": [
    {
     "name": "stdout",
     "output_type": "stream",
     "text": [
      "int32\n",
      "<class 'numpy.dtypes.Int32DType'>\n",
      "int8\n",
      "<class 'numpy.dtypes.Int8DType'>\n"
     ]
    }
   ],
   "execution_count": 1
  },
  {
   "metadata": {},
   "cell_type": "markdown",
   "source": [
    "## 创建数组\n",
    "**语法格式**：`numpy.array(object, dtype = None, copy = True, order = None,subok=False,ndmin = 0)`\n",
    "\n",
    "**参数说明**：\n",
    "\n",
    "* object：表示一个数组序列。\n",
    "* dtype ：可选参数，通过它可以更改数组的数据类型\n",
    "* copy：可选参数，当数据源是ndarray时表示数组能否被复制，默认是True。\n",
    "* order：可选参数，以哪种内存布局创建数组，有3个可选值，分别是C(行序列)/F(列序列)/A(默认)。\n",
    "* ndmin：可选参数，用于指定数组的维度。\n",
    "* subok：可选参数，类型为boo值，默认False。 为True, 使用object的内部数据类型; False: 使用object数组的数据类型。\n",
    "\n",
    "```bash\n",
    ">>> import numpy as np\n",
    "# 列表\n",
    ">>> t1 = np.array([1,2,3])\n",
    ">>> print(t1)\n",
    "[1 2 3]\n",
    "# 迭代对象\n",
    ">>> t2 = np.array(range(10))\n",
    ">>> print(t2)\n",
    "[0 1 2 3 4 5 6 7 8 9]\n",
    ">>> print(type(t2))\n",
    "<class 'numpy.ndarray'>\n",
    "\n",
    ">>> t3 = np.arange(10)\n",
    ">>> print(t3)\n",
    "[0 1 2 3 4 5 6 7 8 9]\n",
    ">>> print(type(t3))\n",
    "<class 'numpy.ndarray'>\n",
    "\n",
    ">>> t4 = np.arange(2,10,2)\n",
    ">>> print(t4)\n",
    "[2 4 6 8]\n",
    ">>> print(type(t4))\n",
    "<class 'numpy.ndarray'>\n",
    "```"
   ],
   "id": "3c65a58ace1a955e"
  },
  {
   "metadata": {},
   "cell_type": "markdown",
   "source": [
    "## Ndarray数组属性\n",
    "NumPy数组的维数称为秩(rank)，一维数组的秩为1，二维数组的秩为2，以此类推\n",
    "\n",
    "在NumPy中，每一个线性的数组称为是一个轴(axis) ，也就是维度(dimensions) 。比如说，二维数组相当于是两个- -维数组，其中第一个一维数组中每个元素又是一个一 维数组。所以一维数组就是NumPy中的轴(axis) ，第一个轴相当于是底层数组，第二个轴是底层数组里的数组。而轴的数量一一秩，就是数组的维数  \n",
    "\n",
    "很多时候可以声明axis。axis=O, 表示沿着第0轴进行操作，即对每一列进行操作；axis=1，表示沿着第1轴进行操作，即对每一行进行操作  \n",
    "常用属性：\n",
    "\n",
    "| 属性     | 说明                                                         |\n",
    "| -------- | ------------------------------------------------------------ |\n",
    "| ndim     | 秩，即轴的数量或维度的数量                                   |\n",
    "| shape    | 数组的维度，对于矩阵，n行m列                                 |\n",
    "| size     | 数组元素的总个数，相当于.shape中n\\*m的值                     |\n",
    "| dtype    | ndarray对象的元素类型                                        |\n",
    "| itemsize | ndarray对象中每个元素的大小，以字节为单位                    |\n",
    "| flags    | ndarray对象的内存信息                                        |\n",
    "| real     | ndarray元素的实部                                            |\n",
    "| imag     | ndarray元素的虚部                                            |\n",
    "| data     | 包含实际数组元素的缓冲区，由于-般通过数组的索引获取元素，所以通常不需要使用这个属性 |\n",
    "\n",
    "\n"
   ],
   "id": "98379169734de8e2"
  },
  {
   "metadata": {},
   "cell_type": "markdown",
   "source": "### 1、ndim\n",
   "id": "86056dddc23e56e6"
  },
  {
   "metadata": {
    "ExecuteTime": {
     "end_time": "2025-06-28T14:38:45.147561Z",
     "start_time": "2025-06-28T14:38:45.129207Z"
    }
   },
   "cell_type": "code",
   "source": [
    "import numpy as np\n",
    "arr = np.arange(24)\n",
    "print(arr)\n",
    "print(arr.ndim)\n",
    "\n",
    "## 调整维度，li 为三维\n",
    "li = arr.reshape(2,3,4)\n",
    "print(li)\n",
    "print(li.ndim)"
   ],
   "id": "550d025ebf90e614",
   "outputs": [
    {
     "name": "stdout",
     "output_type": "stream",
     "text": [
      "[ 0  1  2  3  4  5  6  7  8  9 10 11 12 13 14 15 16 17 18 19 20 21 22 23]\n",
      "1\n",
      "[[[ 0  1  2  3]\n",
      "  [ 4  5  6  7]\n",
      "  [ 8  9 10 11]]\n",
      "\n",
      " [[12 13 14 15]\n",
      "  [16 17 18 19]\n",
      "  [20 21 22 23]]]\n",
      "3\n"
     ]
    }
   ],
   "execution_count": 2
  },
  {
   "metadata": {},
   "cell_type": "markdown",
   "source": "###  2、shape\n",
   "id": "967cac8fbc235c65"
  },
  {
   "metadata": {
    "ExecuteTime": {
     "end_time": "2025-06-28T14:42:02.164520Z",
     "start_time": "2025-06-28T14:42:02.138123Z"
    }
   },
   "cell_type": "code",
   "source": [
    "import numpy as np\n",
    "arr = np.array([[1,2,3],[4,5,6]])\n",
    "print(arr)\n",
    "print(arr.shape)"
   ],
   "id": "242107ebc66e7253",
   "outputs": [
    {
     "name": "stdout",
     "output_type": "stream",
     "text": [
      "[[1 2 3]\n",
      " [4 5 6]]\n",
      "(2, 3)\n"
     ]
    }
   ],
   "execution_count": 3
  },
  {
   "metadata": {},
   "cell_type": "markdown",
   "source": "### 3、其他属性",
   "id": "e741895ab6d93065"
  },
  {
   "metadata": {
    "ExecuteTime": {
     "end_time": "2025-06-28T14:45:07.709768Z",
     "start_time": "2025-06-28T14:45:07.670182Z"
    }
   },
   "cell_type": "code",
   "source": [
    "import numpy as np\n",
    "\n",
    "arr = np.array([[1, 2, 3], [4, 5, 6]])\n",
    "\n",
    "# 打印数组的元素总数（size）\n",
    "print(\"数组元素总数（size）:\", arr.size)  # 输出: 6（因为共有2x3=6个元素）\n",
    "\n",
    "# 打印数组的数据类型（dtype）\n",
    "print(\"数组数据类型（dtype）:\", arr.dtype)  # 输出: int64（默认整数类型）\n",
    "\n",
    "# 打印每个元素占用的字节数（itemsize）\n",
    "print(\"每个元素占用的字节数（itemsize）:\", arr.itemsize, \"字节\")  # 输出: 8（int64占8字节）\n",
    "\n",
    "# 打印数组的内存布局信息（flags）\n",
    "print(\"数组的内存布局信息（flags）:\")\n",
    "print(arr.flags)"
   ],
   "id": "11ec5f297e57490a",
   "outputs": [
    {
     "name": "stdout",
     "output_type": "stream",
     "text": [
      "数组元素总数（size）: 6\n",
      "数组数据类型（dtype）: int64\n",
      "每个元素占用的字节数（itemsize）: 8 字节\n",
      "数组的内存布局信息（flags）:\n",
      "  C_CONTIGUOUS : True\n",
      "  F_CONTIGUOUS : False\n",
      "  OWNDATA : True\n",
      "  WRITEABLE : True\n",
      "  ALIGNED : True\n",
      "  WRITEBACKIFCOPY : False\n",
      "\n"
     ]
    }
   ],
   "execution_count": 4
  },
  {
   "metadata": {},
   "cell_type": "markdown",
   "source": [
    "# 元素操作\n",
    "## 索引和切片\n",
    "ndarray对象的内容可以通过索引或切片来访问和修改，与Python中list的切片操作一样  \n",
    "\n",
    "ndarray数组可以基于0-n的下标进行索引，切片对象可以通过内置的slice函数，并设置start, stop及step参数进行, (从原数组中切割出一个新数组\n"
   ],
   "id": "76fdc87d08484d9d"
  },
  {
   "metadata": {
    "ExecuteTime": {
     "end_time": "2025-06-28T14:46:44.843010Z",
     "start_time": "2025-06-28T14:46:44.798344Z"
    }
   },
   "cell_type": "code",
   "source": [
    "t = np.arange(0,20).reshape(5,4)\n",
    "t"
   ],
   "id": "e2cd2a68ae8571f6",
   "outputs": [
    {
     "data": {
      "text/plain": [
       "array([[ 0,  1,  2,  3],\n",
       "       [ 4,  5,  6,  7],\n",
       "       [ 8,  9, 10, 11],\n",
       "       [12, 13, 14, 15],\n",
       "       [16, 17, 18, 19]])"
      ]
     },
     "execution_count": 5,
     "metadata": {},
     "output_type": "execute_result"
    }
   ],
   "execution_count": 5
  },
  {
   "metadata": {
    "ExecuteTime": {
     "end_time": "2025-06-28T14:47:02.102928Z",
     "start_time": "2025-06-28T14:47:02.087748Z"
    }
   },
   "cell_type": "code",
   "source": [
    "# 取行\n",
    "t[0]"
   ],
   "id": "8d4aca9d0bcadcdf",
   "outputs": [
    {
     "data": {
      "text/plain": [
       "array([0, 1, 2, 3])"
      ]
     },
     "execution_count": 6,
     "metadata": {},
     "output_type": "execute_result"
    }
   ],
   "execution_count": 6
  },
  {
   "metadata": {
    "ExecuteTime": {
     "end_time": "2025-06-28T14:47:15.469260Z",
     "start_time": "2025-06-28T14:47:15.459011Z"
    }
   },
   "cell_type": "code",
   "source": [
    "# 取连续多行\n",
    "t[:2]"
   ],
   "id": "2bdb9d7d9589ea58",
   "outputs": [
    {
     "data": {
      "text/plain": [
       "array([[0, 1, 2, 3],\n",
       "       [4, 5, 6, 7]])"
      ]
     },
     "execution_count": 7,
     "metadata": {},
     "output_type": "execute_result"
    }
   ],
   "execution_count": 7
  },
  {
   "metadata": {
    "ExecuteTime": {
     "end_time": "2025-06-28T14:47:23.413920Z",
     "start_time": "2025-06-28T14:47:23.402813Z"
    }
   },
   "cell_type": "code",
   "source": "t[2:]",
   "id": "4faf108427033319",
   "outputs": [
    {
     "data": {
      "text/plain": [
       "array([[ 8,  9, 10, 11],\n",
       "       [12, 13, 14, 15],\n",
       "       [16, 17, 18, 19]])"
      ]
     },
     "execution_count": 8,
     "metadata": {},
     "output_type": "execute_result"
    }
   ],
   "execution_count": 8
  },
  {
   "metadata": {
    "ExecuteTime": {
     "end_time": "2025-06-28T14:47:39.099201Z",
     "start_time": "2025-06-28T14:47:39.089383Z"
    }
   },
   "cell_type": "code",
   "source": [
    "# 取不连续的多行\n",
    "t[[2,4]]"
   ],
   "id": "eba8a80f32e58786",
   "outputs": [
    {
     "data": {
      "text/plain": [
       "array([[ 8,  9, 10, 11],\n",
       "       [16, 17, 18, 19]])"
      ]
     },
     "execution_count": 9,
     "metadata": {},
     "output_type": "execute_result"
    }
   ],
   "execution_count": 9
  },
  {
   "metadata": {
    "ExecuteTime": {
     "end_time": "2025-06-28T14:48:02.945420Z",
     "start_time": "2025-06-28T14:48:02.935553Z"
    }
   },
   "cell_type": "code",
   "source": [
    "# 取列\n",
    "t[:,0]"
   ],
   "id": "839147d59b0d63d3",
   "outputs": [
    {
     "data": {
      "text/plain": [
       "array([ 0,  4,  8, 12, 16])"
      ]
     },
     "execution_count": 11,
     "metadata": {},
     "output_type": "execute_result"
    }
   ],
   "execution_count": 11
  },
  {
   "metadata": {
    "ExecuteTime": {
     "end_time": "2025-06-28T14:48:05.979703Z",
     "start_time": "2025-06-28T14:48:05.966347Z"
    }
   },
   "cell_type": "code",
   "source": [
    "# 取连续的多列\n",
    "t[:,:2]"
   ],
   "id": "e678c0541f7ad28c",
   "outputs": [
    {
     "data": {
      "text/plain": [
       "array([[ 0,  1],\n",
       "       [ 4,  5],\n",
       "       [ 8,  9],\n",
       "       [12, 13],\n",
       "       [16, 17]])"
      ]
     },
     "execution_count": 12,
     "metadata": {},
     "output_type": "execute_result"
    }
   ],
   "execution_count": 12
  },
  {
   "metadata": {
    "ExecuteTime": {
     "end_time": "2025-06-28T14:48:48.272167Z",
     "start_time": "2025-06-28T14:48:48.250216Z"
    }
   },
   "cell_type": "code",
   "source": "t[:,2:]",
   "id": "c0b1cacfd2a631f5",
   "outputs": [
    {
     "data": {
      "text/plain": [
       "array([[ 2,  3],\n",
       "       [ 6,  7],\n",
       "       [10, 11],\n",
       "       [14, 15],\n",
       "       [18, 19]])"
      ]
     },
     "execution_count": 13,
     "metadata": {},
     "output_type": "execute_result"
    }
   ],
   "execution_count": 13
  },
  {
   "metadata": {
    "ExecuteTime": {
     "end_time": "2025-06-28T14:49:00.207584Z",
     "start_time": "2025-06-28T14:49:00.194118Z"
    }
   },
   "cell_type": "code",
   "source": [
    "# 取不连续多列\n",
    "t[:,[0,2]]"
   ],
   "id": "49faed77192dc52f",
   "outputs": [
    {
     "data": {
      "text/plain": [
       "array([[ 0,  2],\n",
       "       [ 4,  6],\n",
       "       [ 8, 10],\n",
       "       [12, 14],\n",
       "       [16, 18]])"
      ]
     },
     "execution_count": 14,
     "metadata": {},
     "output_type": "execute_result"
    }
   ],
   "execution_count": 14
  },
  {
   "metadata": {
    "ExecuteTime": {
     "end_time": "2025-06-28T14:49:13.130381Z",
     "start_time": "2025-06-28T14:49:13.098219Z"
    }
   },
   "cell_type": "code",
   "source": [
    "# 取行列（第3行，第4列）\n",
    "t[2,3]"
   ],
   "id": "994bbbee559983d5",
   "outputs": [
    {
     "data": {
      "text/plain": [
       "np.int64(11)"
      ]
     },
     "execution_count": 15,
     "metadata": {},
     "output_type": "execute_result"
    }
   ],
   "execution_count": 15
  },
  {
   "metadata": {
    "ExecuteTime": {
     "end_time": "2025-06-28T14:49:25.564638Z",
     "start_time": "2025-06-28T14:49:25.555999Z"
    }
   },
   "cell_type": "code",
   "source": [
    "# 取多行多列（第3-5行，第2-4列）\n",
    "t[2:5,1:4]"
   ],
   "id": "87a5366c54e82ae8",
   "outputs": [
    {
     "data": {
      "text/plain": [
       "array([[ 9, 10, 11],\n",
       "       [13, 14, 15],\n",
       "       [17, 18, 19]])"
      ]
     },
     "execution_count": 16,
     "metadata": {},
     "output_type": "execute_result"
    }
   ],
   "execution_count": 16
  },
  {
   "metadata": {
    "ExecuteTime": {
     "end_time": "2025-06-28T14:49:42.585692Z",
     "start_time": "2025-06-28T14:49:42.572703Z"
    }
   },
   "cell_type": "code",
   "source": [
    "# 取多个不相邻的点（0,0）（2,1）\n",
    "t[[0,2],[0,1]]"
   ],
   "id": "4bc7fb897cad89fb",
   "outputs": [
    {
     "data": {
      "text/plain": [
       "array([0, 9])"
      ]
     },
     "execution_count": 17,
     "metadata": {},
     "output_type": "execute_result"
    }
   ],
   "execution_count": 17
  },
  {
   "metadata": {},
   "cell_type": "markdown",
   "source": [
    "## 布尔索引\n",
    "布尔索引通过布尔运算(如:比较运算符)来获取符合指定条件的元素的数组\n"
   ],
   "id": "9bade706704d28f4"
  },
  {
   "metadata": {
    "ExecuteTime": {
     "end_time": "2025-06-28T14:52:15.454455Z",
     "start_time": "2025-06-28T14:52:15.425582Z"
    }
   },
   "cell_type": "code",
   "source": [
    "t = np.arange(0,20).reshape(5,4)\n",
    "t"
   ],
   "id": "7ade3c3659f40da2",
   "outputs": [
    {
     "data": {
      "text/plain": [
       "array([[ 0,  1,  2,  3],\n",
       "       [ 4,  5,  6,  7],\n",
       "       [ 8,  9, 10, 11],\n",
       "       [12, 13, 14, 15],\n",
       "       [16, 17, 18, 19]])"
      ]
     },
     "execution_count": 18,
     "metadata": {},
     "output_type": "execute_result"
    }
   ],
   "execution_count": 18
  },
  {
   "metadata": {
    "ExecuteTime": {
     "end_time": "2025-06-28T14:52:21.748269Z",
     "start_time": "2025-06-28T14:52:21.733334Z"
    }
   },
   "cell_type": "code",
   "source": [
    "# 布尔索引\n",
    "t<10"
   ],
   "id": "6189931cba2140ce",
   "outputs": [
    {
     "data": {
      "text/plain": [
       "array([[ True,  True,  True,  True],\n",
       "       [ True,  True,  True,  True],\n",
       "       [ True,  True, False, False],\n",
       "       [False, False, False, False],\n",
       "       [False, False, False, False]])"
      ]
     },
     "execution_count": 19,
     "metadata": {},
     "output_type": "execute_result"
    }
   ],
   "execution_count": 19
  },
  {
   "metadata": {
    "ExecuteTime": {
     "end_time": "2025-06-28T14:52:39.975548Z",
     "start_time": "2025-06-28T14:52:39.963185Z"
    }
   },
   "cell_type": "code",
   "source": [
    "#  取数组中大于10的值\n",
    "t[t>10]"
   ],
   "id": "d55e3c540736929e",
   "outputs": [
    {
     "data": {
      "text/plain": [
       "array([11, 12, 13, 14, 15, 16, 17, 18, 19])"
      ]
     },
     "execution_count": 20,
     "metadata": {},
     "output_type": "execute_result"
    }
   ],
   "execution_count": 20
  },
  {
   "metadata": {
    "ExecuteTime": {
     "end_time": "2025-06-28T14:53:10.336851Z",
     "start_time": "2025-06-28T14:53:10.323211Z"
    }
   },
   "cell_type": "code",
   "source": [
    "# 取数组中小于10的值\n",
    "t[t<10]"
   ],
   "id": "74338c4de045c513",
   "outputs": [
    {
     "data": {
      "text/plain": [
       "array([0, 1, 2, 3, 4, 5, 6, 7, 8, 9])"
      ]
     },
     "execution_count": 21,
     "metadata": {},
     "output_type": "execute_result"
    }
   ],
   "execution_count": 21
  },
  {
   "metadata": {},
   "cell_type": "markdown",
   "source": [
    "## 广播原则\n",
    "numpy对不同形状(shape)的数组进行数值计算的方式，对 数组的算术运算通常在相应的元素上进行\n",
    "\n",
    "**形状相同**：如果两个数组a和b形状相同，即满足a.shape == b.shape，那么a+b的结果就是a与b数组对应位相加。这要求维数相同，且各维度的长度相同\n",
    "```bash\n",
    ">>> import numpy as np\n",
    ">>> a = np.array([1,2,3,4])\n",
    ">>> b = np.array([5,6,7,8])\n",
    ">>> c = a + b\n",
    ">>> print(c)\n",
    "[ 6  8 10 12]\n",
    "```\n",
    "\n",
    "**形状不同**：如果两个数组的维数不相同，则元素到元素的操作是不可能的。然而， 在NumPy中仍然可以对形状不相似的数组进行操作，因为它拥有广播功能。较小的数组会广播到较大数组的大小，以便使它们的形状可兼容  \n",
    "```bash\n",
    ">>> a = np.array([[0,0],[1,1],[2,2]])\n",
    ">>> b = np.array([3,3])\n",
    ">>> print(a+b)\n",
    "[[3 3]\n",
    " [4 4]\n",
    " [5 5]]\n",
    "```\n",
    "\n",
    "**广播的规则**：\n",
    "\n",
    "* 让所有输入数组都向其中形状最长的数组看齐，形状中不足的部分都通过在前面加1补齐\n",
    "* 输出数组的形状是输入数组形状的各个维度上的最大值\n",
    "* 如果输入数组的某个维度和输出数组的对应维度的长度相同或者其长度为1时，这个数组能够用来计算，否则出错\n",
    "* 当输入数组的某个维度的长度为1时，沿着此维度运算时都用此维度上的第-组值"
   ],
   "id": "3dd9b1092824b376"
  },
  {
   "metadata": {},
   "cell_type": "markdown",
   "source": [
    "## 轴(axis)\n",
    "在numpy中可以理解为方向，使用0,1,2…数字表示,对于一个一维数组，只有一个0轴，对于2维数(shape(2,2))，有0轴和1轴，对于三维数组(shape(2,2,3))，有0,1,2轴。\n",
    "\n",
    "有了轴的概念之后,我们计算会更加方便,比如计算一个2维数组的平均值,必须指定是计算哪个方向上面的数字的平均值"
   ],
   "id": "891bd4a51ec41c80"
  }
 ],
 "metadata": {
  "kernelspec": {
   "display_name": "Python 3",
   "language": "python",
   "name": "python3"
  },
  "language_info": {
   "codemirror_mode": {
    "name": "ipython",
    "version": 2
   },
   "file_extension": ".py",
   "mimetype": "text/x-python",
   "name": "python",
   "nbconvert_exporter": "python",
   "pygments_lexer": "ipython2",
   "version": "2.7.6"
  }
 },
 "nbformat": 4,
 "nbformat_minor": 5
}
