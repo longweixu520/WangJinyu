{
 "cells": [
  {
   "metadata": {},
   "cell_type": "markdown",
   "source": [
    "## 一、字符串函数\n",
    "是用于对`dtype`为`numpy.string`或`numpy.unicode`的数组执行向量化字符串操作基于Python内置库中的标准字符串函数在`字符数组类(numpy.char)`中定义"
   ],
   "id": "c62b619285b84f00"
  },
  {
   "metadata": {},
   "cell_type": "markdown",
   "source": [
    "###  1、add()\n",
    "对两个数组的元素进行字符串连接\n"
   ],
   "id": "f9d311e9c7e53d48"
  },
  {
   "metadata": {
    "ExecuteTime": {
     "end_time": "2025-06-29T00:39:24.822211Z",
     "start_time": "2025-06-29T00:39:24.750157Z"
    }
   },
   "cell_type": "code",
   "source": [
    "import numpy as np\n",
    "\n",
    "print(np.char.add(['hello'],['python']))\n",
    "\n",
    "print(np.char.add(['hello','python'],['yyds']))"
   ],
   "id": "461e504812169a99",
   "outputs": [
    {
     "name": "stdout",
     "output_type": "stream",
     "text": [
      "['hellopython']\n",
      "['helloyyds' 'pythonyyds']\n"
     ]
    }
   ],
   "execution_count": 1
  },
  {
   "metadata": {},
   "cell_type": "markdown",
   "source": [
    "###  2、multiply()\n",
    "返回按元素多重连接后的字符串"
   ],
   "id": "e7f81c33ecef1323"
  },
  {
   "metadata": {
    "ExecuteTime": {
     "end_time": "2025-06-29T00:41:42.563426Z",
     "start_time": "2025-06-29T00:41:42.550059Z"
    }
   },
   "cell_type": "code",
   "source": "print(np.char.multiply(['hello'], 3))",
   "id": "f4ec086a7de66f15",
   "outputs": [
    {
     "name": "stdout",
     "output_type": "stream",
     "text": [
      "['hellohellohello']\n"
     ]
    }
   ],
   "execution_count": 2
  },
  {
   "metadata": {},
   "cell_type": "markdown",
   "source": [
    "###  3、center()\n",
    "将字符串居中，并使用指定字符在左侧和右侧进行填充"
   ],
   "id": "4b2d7005516e47d3"
  },
  {
   "metadata": {
    "ExecuteTime": {
     "end_time": "2025-06-29T00:42:17.758223Z",
     "start_time": "2025-06-29T00:42:17.740417Z"
    }
   },
   "cell_type": "code",
   "source": "print(np.char.center(['hello', 'python'], 15, fillchar='-'))",
   "id": "cd979ef6dedb2ff1",
   "outputs": [
    {
     "name": "stdout",
     "output_type": "stream",
     "text": [
      "['-----hello-----' '-----python----']\n"
     ]
    }
   ],
   "execution_count": 3
  },
  {
   "metadata": {},
   "cell_type": "markdown",
   "source": [
    "###  4、capitalize()\n",
    "将字符串第一个字母转换为大写\n"
   ],
   "id": "e8c98a3f21680ee0"
  },
  {
   "metadata": {
    "ExecuteTime": {
     "end_time": "2025-06-29T00:43:07.254660Z",
     "start_time": "2025-06-29T00:43:07.242453Z"
    }
   },
   "cell_type": "code",
   "source": "print(np.char.capitalize(['hello', 'python']))",
   "id": "86444f7e9eff82e6",
   "outputs": [
    {
     "name": "stdout",
     "output_type": "stream",
     "text": [
      "['Hello' 'Python']\n"
     ]
    }
   ],
   "execution_count": 4
  },
  {
   "metadata": {},
   "cell_type": "markdown",
   "source": [
    "###  5、title()\n",
    "将字符串的每个单词的第一个字母转换为大写"
   ],
   "id": "57628691e1f184de"
  },
  {
   "metadata": {
    "ExecuteTime": {
     "end_time": "2025-06-29T00:44:15.144344Z",
     "start_time": "2025-06-29T00:44:15.129538Z"
    }
   },
   "cell_type": "code",
   "source": "print(np.char.title(['hello python']))",
   "id": "3641e85d28c62319",
   "outputs": [
    {
     "name": "stdout",
     "output_type": "stream",
     "text": [
      "['Hello Python']\n"
     ]
    }
   ],
   "execution_count": 5
  },
  {
   "metadata": {},
   "cell_type": "markdown",
   "source": [
    " ### 6、lower()\n",
    " 数组元素转换为小写"
   ],
   "id": "7221351b11bf6348"
  },
  {
   "metadata": {
    "ExecuteTime": {
     "end_time": "2025-06-29T00:44:53.323421Z",
     "start_time": "2025-06-29T00:44:53.304547Z"
    }
   },
   "cell_type": "code",
   "source": "print(np.char.lower(['Hello Python']))",
   "id": "ba34f1787668a54d",
   "outputs": [
    {
     "name": "stdout",
     "output_type": "stream",
     "text": [
      "['hello python']\n"
     ]
    }
   ],
   "execution_count": 6
  },
  {
   "metadata": {},
   "cell_type": "markdown",
   "source": [
    "###  7、upper()\n",
    "数组元素转换为大写"
   ],
   "id": "c9382ab49759ef21"
  },
  {
   "metadata": {
    "ExecuteTime": {
     "end_time": "2025-06-29T00:45:31.528904Z",
     "start_time": "2025-06-29T00:45:31.515484Z"
    }
   },
   "cell_type": "code",
   "source": "print(np.char.upper(['Hello Python']))",
   "id": "c7f9c8eeb3cc1814",
   "outputs": [
    {
     "name": "stdout",
     "output_type": "stream",
     "text": [
      "['HELLO PYTHON']\n"
     ]
    }
   ],
   "execution_count": 7
  },
  {
   "metadata": {},
   "cell_type": "markdown",
   "source": "",
   "id": "1f6a0dd942484347"
  },
  {
   "metadata": {},
   "cell_type": "markdown",
   "source": [
    "### 8、split()\n",
    "指定分隔符对字符串进行分割，并返回数组列表"
   ],
   "id": "3bc9be22bef9c63"
  },
  {
   "metadata": {
    "ExecuteTime": {
     "end_time": "2025-06-29T00:46:31.871629Z",
     "start_time": "2025-06-29T00:46:31.862693Z"
    }
   },
   "cell_type": "code",
   "source": "print(np.char.split(['Hello Python'], sep=' '))",
   "id": "498542c41afad79b",
   "outputs": [
    {
     "name": "stdout",
     "output_type": "stream",
     "text": [
      "[list(['Hello', 'Python'])]\n"
     ]
    }
   ],
   "execution_count": 8
  },
  {
   "metadata": {},
   "cell_type": "markdown",
   "source": [
    " ### 9、splitlines()\n",
    " 返回元素中的行列表，以换行符分割\n",
    "    "
   ],
   "id": "75e4d35c629db6f2"
  },
  {
   "metadata": {
    "ExecuteTime": {
     "end_time": "2025-06-29T00:47:08.453735Z",
     "start_time": "2025-06-29T00:47:08.436459Z"
    }
   },
   "cell_type": "code",
   "source": "print(np.char.splitlines(['Hello\\nPython\\nyyds']))",
   "id": "61a2cdcbd2873107",
   "outputs": [
    {
     "name": "stdout",
     "output_type": "stream",
     "text": [
      "[list(['Hello', 'Python', 'yyds'])]\n"
     ]
    }
   ],
   "execution_count": 9
  },
  {
   "metadata": {},
   "cell_type": "markdown",
   "source": [
    "###  10、strip()\n",
    "移除元素开头或者结尾处的特定字符"
   ],
   "id": "a8378a814794eae7"
  },
  {
   "metadata": {
    "ExecuteTime": {
     "end_time": "2025-06-29T00:48:05.378523Z",
     "start_time": "2025-06-29T00:48:05.370532Z"
    }
   },
   "cell_type": "code",
   "source": "print(np.char.strip(['--Hello--', '--python--'], '-'))",
   "id": "51757c57a0367192",
   "outputs": [
    {
     "name": "stdout",
     "output_type": "stream",
     "text": [
      "['Hello' 'python']\n"
     ]
    }
   ],
   "execution_count": 10
  },
  {
   "metadata": {},
   "cell_type": "markdown",
   "source": [
    "### 11、join()\n",
    "通过指定分隔符来连接数组中的元素"
   ],
   "id": "8eb0f8a852abc01"
  },
  {
   "metadata": {
    "ExecuteTime": {
     "end_time": "2025-06-29T00:56:14.247361Z",
     "start_time": "2025-06-29T00:56:14.239365Z"
    }
   },
   "cell_type": "code",
   "source": [
    "print(np.char.join(\"*\", ['Hello', 'python']))\n",
    "print(np.char.join([\"*\", \"-\"], ['Hello--', 'python']))"
   ],
   "id": "6ad865dd0677f80c",
   "outputs": [
    {
     "name": "stdout",
     "output_type": "stream",
     "text": [
      "['H*e*l*l*o' 'p*y*t*h*o*n']\n",
      "['H*e*l*l*o*-*-' 'p-y-t-h-o-n']\n"
     ]
    }
   ],
   "execution_count": 12
  },
  {
   "metadata": {},
   "cell_type": "markdown",
   "source": [
    "### 12、replace()\n",
    "使用新字符串替换字符串中的所有子字符串"
   ],
   "id": "7664d7edc56abaae"
  },
  {
   "metadata": {
    "ExecuteTime": {
     "end_time": "2025-06-29T00:56:44.918322Z",
     "start_time": "2025-06-29T00:56:44.899913Z"
    }
   },
   "cell_type": "code",
   "source": "print(np.char.replace(['Hello', 'python'], \"python\", \"java\"))",
   "id": "c8ae18af69ebf920",
   "outputs": [
    {
     "name": "stdout",
     "output_type": "stream",
     "text": [
      "['Hello' 'java']\n"
     ]
    }
   ],
   "execution_count": 13
  },
  {
   "metadata": {},
   "cell_type": "markdown",
   "source": [
    "###  13、encode()\n",
    "编码，数组元素依次调用str.encode\n"
   ],
   "id": "2e2a1102007f923f"
  },
  {
   "metadata": {
    "ExecuteTime": {
     "end_time": "2025-06-29T00:57:20.514715Z",
     "start_time": "2025-06-29T00:57:20.508764Z"
    }
   },
   "cell_type": "code",
   "source": "print(np.char.encode(['Hello', 'python'], \"utf-8\"))",
   "id": "ee3f0447e079997c",
   "outputs": [
    {
     "name": "stdout",
     "output_type": "stream",
     "text": [
      "[b'Hello' b'python']\n"
     ]
    }
   ],
   "execution_count": 14
  },
  {
   "metadata": {},
   "cell_type": "markdown",
   "source": "## 二、数学函数",
   "id": "4ce8a3f1a084cf4"
  },
  {
   "metadata": {},
   "cell_type": "markdown",
   "source": [
    "###  1、sin()、cos()、tan()\n",
    "标准三角函数\n"
   ],
   "id": "c1340c744d5c3611"
  },
  {
   "metadata": {
    "ExecuteTime": {
     "end_time": "2025-06-29T00:59:04.547391Z",
     "start_time": "2025-06-29T00:59:04.530651Z"
    }
   },
   "cell_type": "code",
   "source": [
    "a = np.array([0, 30, 45, 60, 90, 180])\n",
    "print('不同角度的正弦值: ')\n",
    "print(np.sin(a * np.pi / 180))\n",
    "\n",
    "print('\\n数组中角度的余弦值: ')\n",
    "print(np.cos(a * np.pi / 180))\n",
    "\n",
    "print('\\n数组中角度的正切值: ')\n",
    "print(np.tan(a * np.pi / 180))"
   ],
   "id": "6dc486676ae55223",
   "outputs": [
    {
     "name": "stdout",
     "output_type": "stream",
     "text": [
      "不同角度的正弦值: \n",
      "[0.00000000e+00 5.00000000e-01 7.07106781e-01 8.66025404e-01\n",
      " 1.00000000e+00 1.22464680e-16]\n",
      "\n",
      "数组中角度的余弦值: \n",
      "[ 1.00000000e+00  8.66025404e-01  7.07106781e-01  5.00000000e-01\n",
      "  6.12323400e-17 -1.00000000e+00]\n",
      "\n",
      "数组中角度的正切值: \n",
      "[ 0.00000000e+00  5.77350269e-01  1.00000000e+00  1.73205081e+00\n",
      "  1.63312394e+16 -1.22464680e-16]\n"
     ]
    }
   ],
   "execution_count": 15
  },
  {
   "metadata": {},
   "cell_type": "markdown",
   "source": [
    "###  2、arcsin()、arccos()、arctan()\n",
    "反三角函数\n"
   ],
   "id": "ad472f449b963f2d"
  },
  {
   "metadata": {
    "ExecuteTime": {
     "end_time": "2025-06-29T01:05:14.280610Z",
     "start_time": "2025-06-29T01:05:14.268009Z"
    }
   },
   "cell_type": "code",
   "source": [
    "a = np.array([0, 30, 45, 60, 90, 180])\n",
    "print('计算角度的反正弦，返回值以弧度为单位: ')\n",
    "print(np.arcsin(np.sin(a * np.pi / 180)))\n",
    "\n",
    "print('计算角度的反余弦，返回值以弧度为单位: ')\n",
    "print(np.arccos(np.cos(a * np.pi / 180)))\n",
    "\n",
    "print('计算角度的反正切，返回值以弧度为单位: ')\n",
    "print(np.arctan(np.tan(a * np.pi / 180)))\n",
    "\n"
   ],
   "id": "5a0fd1f8d9a6d62f",
   "outputs": [
    {
     "name": "stdout",
     "output_type": "stream",
     "text": [
      "计算角度的反正弦，返回值以弧度为单位: \n",
      "[0.00000000e+00 5.23598776e-01 7.85398163e-01 1.04719755e+00\n",
      " 1.57079633e+00 1.22464680e-16]\n",
      "计算角度的反余弦，返回值以弧度为单位: \n",
      "[0.         0.52359878 0.78539816 1.04719755 1.57079633 3.14159265]\n",
      "计算角度的反正切，返回值以弧度为单位: \n",
      "[ 0.00000000e+00  5.23598776e-01  7.85398163e-01  1.04719755e+00\n",
      "  1.57079633e+00 -1.22464680e-16]\n"
     ]
    }
   ],
   "execution_count": 17
  },
  {
   "metadata": {},
   "cell_type": "markdown",
   "source": [
    "### 3、numpy.around(a, decimals=0)：\n",
    "\n",
    "**参数说明**：\n",
    "\n",
    "* a：数组\n",
    "* decimals：舍入的小数位数。默认值为0。 如果为负，整数将四舍五入到小数点左侧的位置"
   ],
   "id": "fa376f8ad58d2289"
  },
  {
   "metadata": {
    "ExecuteTime": {
     "end_time": "2025-06-29T01:06:48.927864Z",
     "start_time": "2025-06-29T01:06:48.903879Z"
    }
   },
   "cell_type": "code",
   "source": [
    "a = np.array([1.0, 2.22, 3.456, 4.4444, 5.5555, 12345])\n",
    "print(a)\n",
    "\n",
    "print(np.around(a))\n",
    "\n",
    "print(np.around(a, decimals=1))\n",
    "\n",
    "print(np.around(a, decimals=-1))"
   ],
   "id": "b207496a794cc26b",
   "outputs": [
    {
     "name": "stdout",
     "output_type": "stream",
     "text": [
      "[1.0000e+00 2.2200e+00 3.4560e+00 4.4444e+00 5.5555e+00 1.2345e+04]\n",
      "[1.0000e+00 2.0000e+00 3.0000e+00 4.0000e+00 6.0000e+00 1.2345e+04]\n",
      "[1.0000e+00 2.2000e+00 3.5000e+00 4.4000e+00 5.6000e+00 1.2345e+04]\n",
      "[0.000e+00 0.000e+00 0.000e+00 0.000e+00 1.000e+01 1.234e+04]\n"
     ]
    }
   ],
   "execution_count": 18
  },
  {
   "metadata": {},
   "cell_type": "markdown",
   "source": [
    "###  4、floor()\n",
    "向下取整，反回不大于输入参数的最大整数。即标量x 的下限是最大的整数i，使得i <=X。注意在Python中， 向下取整总是从0舍入"
   ],
   "id": "38549bfc542123b6"
  },
  {
   "metadata": {
    "ExecuteTime": {
     "end_time": "2025-06-29T01:07:43.912132Z",
     "start_time": "2025-06-29T01:07:43.904351Z"
    }
   },
   "cell_type": "code",
   "source": [
    "a = np.array([1.0, 2.2, 3.4, 4.4, 5.5, 12345])\n",
    "print(a)\n",
    "\n",
    "print(np.floor(a))"
   ],
   "id": "ce9c4a6106c110d1",
   "outputs": [
    {
     "name": "stdout",
     "output_type": "stream",
     "text": [
      "[1.0000e+00 2.2000e+00 3.4000e+00 4.4000e+00 5.5000e+00 1.2345e+04]\n",
      "[1.0000e+00 2.0000e+00 3.0000e+00 4.0000e+00 5.0000e+00 1.2345e+04]\n"
     ]
    }
   ],
   "execution_count": 19
  },
  {
   "metadata": {},
   "cell_type": "markdown",
   "source": [
    "### 5、ceil()\n",
    "向上取整，返回输入值的上限，即，标量x的上限是最小的整数i，使得i>= x"
   ],
   "id": "f9b34206a4c591e7"
  },
  {
   "metadata": {
    "ExecuteTime": {
     "end_time": "2025-06-29T01:08:45.501758Z",
     "start_time": "2025-06-29T01:08:45.488890Z"
    }
   },
   "cell_type": "code",
   "source": [
    "a = np.array([1.0, 2.2, 3.4, 4.4, 5.5, 12345])\n",
    "print(a)\n",
    "\n",
    "print(np.ceil(a))"
   ],
   "id": "e8fa769ff0c7e482",
   "outputs": [
    {
     "name": "stdout",
     "output_type": "stream",
     "text": [
      "[1.0000e+00 2.2000e+00 3.4000e+00 4.4000e+00 5.5000e+00 1.2345e+04]\n",
      "[1.0000e+00 3.0000e+00 4.0000e+00 5.0000e+00 6.0000e+00 1.2345e+04]\n"
     ]
    }
   ],
   "execution_count": 20
  },
  {
   "metadata": {},
   "cell_type": "markdown",
   "source": "## 三、算术函数\n",
   "id": "f5c16cf55d5cd3a6"
  },
  {
   "metadata": {},
   "cell_type": "markdown",
   "source": [
    " ### 1、add()，subtract()，multiply()，divide()\n",
    "加减乘除\n"
   ],
   "id": "debe86a70e17a323"
  },
  {
   "metadata": {
    "ExecuteTime": {
     "end_time": "2025-06-29T01:17:19.046109Z",
     "start_time": "2025-06-29T01:17:19.009815Z"
    }
   },
   "cell_type": "code",
   "source": [
    "import numpy as np\n",
    "\n",
    "x = np.arange(9, dtype=\"f\").reshape(3, 3)\n",
    "print(f\"x数组:\\n{x}\")\n",
    "\n",
    "y = np.array([10, 10, 10])\n",
    "print(f\"y数组:\\n{y}\")\n",
    "\n",
    "print(f\"两个数组相加:\\n{np.add(x, y)}\")\n",
    "\n",
    "print(f\"两个数组相减:\\n{np.subtract(x, y)}\")\n",
    "\n",
    "print(f\"两个数组相乘:\\n{np.multiply(x, y)}\")\n",
    "\n",
    "print(f\"两个数组相除:\\n{np.divide(x, y)}\")"
   ],
   "id": "f90e36ec2966c623",
   "outputs": [
    {
     "name": "stdout",
     "output_type": "stream",
     "text": [
      "x数组:\n",
      "[[0. 1. 2.]\n",
      " [3. 4. 5.]\n",
      " [6. 7. 8.]]\n",
      "y数组:\n",
      "[10 10 10]\n",
      "两个数组相加:\n",
      "[[10. 11. 12.]\n",
      " [13. 14. 15.]\n",
      " [16. 17. 18.]]\n",
      "两个数组相减:\n",
      "[[-10.  -9.  -8.]\n",
      " [ -7.  -6.  -5.]\n",
      " [ -4.  -3.  -2.]]\n",
      "两个数组相乘:\n",
      "[[ 0. 10. 20.]\n",
      " [30. 40. 50.]\n",
      " [60. 70. 80.]]\n",
      "两个数组相除:\n",
      "[[0.  0.1 0.2]\n",
      " [0.3 0.4 0.5]\n",
      " [0.6 0.7 0.8]]\n"
     ]
    }
   ],
   "execution_count": 21
  },
  {
   "metadata": {},
   "cell_type": "markdown",
   "source": [
    "###  2、reciprocal()\n",
    "返回参数逐个元素的倒数"
   ],
   "id": "432a25d3f49cb282"
  },
  {
   "metadata": {
    "ExecuteTime": {
     "end_time": "2025-06-29T01:19:23.230808Z",
     "start_time": "2025-06-29T01:19:23.198058Z"
    }
   },
   "cell_type": "code",
   "source": [
    "import numpy as np\n",
    "\n",
    "x = np.arange(10)\n",
    "# 打印原数组和它的倒数（reciprocal）\n",
    "# 注意：整数数组的倒数会以整数形式返回，1/0会溢出（显示为-2147483648）\n",
    "print(f\"原始数组:\\n{x}\\n\\n倒数结果:\\n{np.reciprocal(x)}\")\n",
    "\n",
    "# 改进版本：使用浮点数数组计算倒数\n",
    "x_float = np.arange(10, dtype=float)  # 转换为浮点类型\n",
    "# 此时1/0会显示inf（无穷大），其他结果更精确\n",
    "print(f\"\\n浮点数组:\\n{x_float}\\n\\n倒数结果（浮点计算）:\\n{np.reciprocal(x_float)}\")"
   ],
   "id": "4bfa7b9047c83b05",
   "outputs": [
    {
     "name": "stdout",
     "output_type": "stream",
     "text": [
      "原始数组:\n",
      "[0 1 2 3 4 5 6 7 8 9]\n",
      "\n",
      "倒数结果:\n",
      "[9223372036854775807                   1                   0\n",
      "                   0                   0                   0\n",
      "                   0                   0                   0\n",
      "                   0]\n",
      "\n",
      "浮点数组:\n",
      "[0. 1. 2. 3. 4. 5. 6. 7. 8. 9.]\n",
      "\n",
      "倒数结果（浮点计算）:\n",
      "[       inf 1.         0.5        0.33333333 0.25       0.2\n",
      " 0.16666667 0.14285714 0.125      0.11111111]\n"
     ]
    },
    {
     "name": "stderr",
     "output_type": "stream",
     "text": [
      "/var/folders/5k/3c9dfk_50vj2bq1j4ry_r0wr0000gn/T/ipykernel_14298/2763038274.py:6: RuntimeWarning: divide by zero encountered in reciprocal\n",
      "  print(f\"原始数组:\\n{x}\\n\\n倒数结果:\\n{np.reciprocal(x)}\")\n",
      "/var/folders/5k/3c9dfk_50vj2bq1j4ry_r0wr0000gn/T/ipykernel_14298/2763038274.py:6: RuntimeWarning: invalid value encountered in reciprocal\n",
      "  print(f\"原始数组:\\n{x}\\n\\n倒数结果:\\n{np.reciprocal(x)}\")\n",
      "/var/folders/5k/3c9dfk_50vj2bq1j4ry_r0wr0000gn/T/ipykernel_14298/2763038274.py:11: RuntimeWarning: divide by zero encountered in reciprocal\n",
      "  print(f\"\\n浮点数组:\\n{x_float}\\n\\n倒数结果（浮点计算）:\\n{np.reciprocal(x_float)}\")\n"
     ]
    }
   ],
   "execution_count": 22
  },
  {
   "metadata": {},
   "cell_type": "markdown",
   "source": [
    "###  3、power()\n",
    "将第一个输入数组中的元素作为底数，计算它与第二个输入数组中相应元素的幂\n"
   ],
   "id": "f770c7a90b3b6dd7"
  },
  {
   "metadata": {
    "ExecuteTime": {
     "end_time": "2025-06-29T01:20:44.391468Z",
     "start_time": "2025-06-29T01:20:44.371975Z"
    }
   },
   "cell_type": "code",
   "source": [
    "import numpy as np\n",
    "\n",
    "a = np.array([1, 2, 3])\n",
    "b = np.array([10, 10, 10])\n",
    "\n",
    "print(f\"幂运算结果:\\n{np.power(a, b)}\")"
   ],
   "id": "84704c5a10d665e",
   "outputs": [
    {
     "name": "stdout",
     "output_type": "stream",
     "text": [
      "幂运算结果:\n",
      "[    1  1024 59049]\n"
     ]
    }
   ],
   "execution_count": 23
  },
  {
   "metadata": {},
   "cell_type": "markdown",
   "source": [
    "###  4、mod()、remainder()\n",
    "计算输入数组中相应元素的相除后的余数"
   ],
   "id": "eb518c9bfb7d780f"
  },
  {
   "metadata": {
    "ExecuteTime": {
     "end_time": "2025-06-29T01:21:41.085134Z",
     "start_time": "2025-06-29T01:21:41.064678Z"
    }
   },
   "cell_type": "code",
   "source": [
    "import numpy as np\n",
    "\n",
    "a = np.array([10, 10, 10])\n",
    "b = np.array([1, 2, 3])\n",
    "\n",
    "print(f\"取模运算(mod):\\n{np.mod(a, b)}\")\n",
    "print(f\"取余运算(remainder):\\n{np.remainder(a, b)}\")"
   ],
   "id": "54ff0a3ee29f8c9a",
   "outputs": [
    {
     "name": "stdout",
     "output_type": "stream",
     "text": [
      "取模运算(mod):\n",
      "[0 0 1]\n",
      "取余运算(remainder):\n",
      "[0 0 1]\n"
     ]
    }
   ],
   "execution_count": 24
  },
  {
   "metadata": {},
   "cell_type": "markdown",
   "source": "##  四、统计函数\n",
   "id": "69677b0f5c0495e6"
  },
  {
   "metadata": {},
   "cell_type": "markdown",
   "source": [
    "###  1、amax()、amin()\n",
    "计算数组中的元素沿指定轴的最大值、最小值"
   ],
   "id": "a0fb6db930f5f26"
  },
  {
   "metadata": {
    "ExecuteTime": {
     "end_time": "2025-06-29T01:25:39.315277Z",
     "start_time": "2025-06-29T01:25:39.296408Z"
    }
   },
   "cell_type": "code",
   "source": [
    "import numpy as np\n",
    "\n",
    "a = np.arange(12).reshape(3, 4)\n",
    "print(f\"原始数组:\\n{a}\")\n",
    "\n",
    "print(f\"\\n每列最大值:\\n{np.amax(a, 0)}\")\n",
    "print(f\"每行最大值:\\n{np.amax(a, 1)}\")\n",
    "\n",
    "print(f\"\\n每列最小值:\\n{np.amin(a, 0)}\")\n",
    "print(f\"每行最小值:\\n{np.amin(a, 1)}\")"
   ],
   "id": "d9fdf429a1430e35",
   "outputs": [
    {
     "name": "stdout",
     "output_type": "stream",
     "text": [
      "原始数组:\n",
      "[[ 0  1  2  3]\n",
      " [ 4  5  6  7]\n",
      " [ 8  9 10 11]]\n",
      "\n",
      "每列最大值:\n",
      "[ 8  9 10 11]\n",
      "每行最大值:\n",
      "[ 3  7 11]\n",
      "\n",
      "每列最小值:\n",
      "[0 1 2 3]\n",
      "每行最小值:\n",
      "[0 4 8]\n"
     ]
    }
   ],
   "execution_count": 25
  },
  {
   "metadata": {},
   "cell_type": "markdown",
   "source": [
    "###  2、ptp()\n",
    "计算数组中元素最大值与最小值的差(最大值-最小值)"
   ],
   "id": "4a4dd833683de9b6"
  },
  {
   "metadata": {
    "ExecuteTime": {
     "end_time": "2025-06-29T01:26:42.836514Z",
     "start_time": "2025-06-29T01:26:42.812548Z"
    }
   },
   "cell_type": "code",
   "source": [
    "import numpy as np\n",
    "\n",
    "a = np.arange(12).reshape(3, 4)\n",
    "print(f\"原始数组:\\n{a}\")\n",
    "\n",
    "print(f\"\\n每列的极差(最大值-最小值):\\n{np.ptp(a, axis=0)}\")\n",
    "print(f\"每行的极差(最大值-最小值):\\n{np.ptp(a, axis=1)}\")"
   ],
   "id": "e673308f11283f40",
   "outputs": [
    {
     "name": "stdout",
     "output_type": "stream",
     "text": [
      "原始数组:\n",
      "[[ 0  1  2  3]\n",
      " [ 4  5  6  7]\n",
      " [ 8  9 10 11]]\n",
      "\n",
      "每列的极差(最大值-最小值):\n",
      "[8 8 8 8]\n",
      "每行的极差(最大值-最小值):\n",
      "[3 3 3]\n"
     ]
    }
   ],
   "execution_count": 26
  },
  {
   "metadata": {},
   "cell_type": "markdown",
   "source": [
    "###  3、numpy.percentile(a, q,axis)\n",
    "百分位数是统计中使用的度量、表示小于这个值的观察值的百分比  \n",
    "**参数说明**：\n",
    "\n",
    "* a：输入数组\n",
    "* p：要计算的百分位数，在0~ 100之间（第p个百分位数是这样一个值， 它使得至少有p%的数据项小于或等于这个值，且至少有(100-p)%的数据项大于或等于这个值）\n",
    "* axis：沿着它计算百分位数的轴"
   ],
   "id": "fb74762399ab5b2f"
  },
  {
   "metadata": {
    "ExecuteTime": {
     "end_time": "2025-06-29T01:27:55.870699Z",
     "start_time": "2025-06-29T01:27:55.847016Z"
    }
   },
   "cell_type": "code",
   "source": [
    "import numpy as np\n",
    "\n",
    "a = np.arange(12).reshape(3, 4)\n",
    "print(f\"原始数组:\\n{a}\")\n",
    "\n",
    "# 计算整个数组的中位数(50%分位数)\n",
    "print(f\"\\n整个数组的中位数: {np.percentile(a, 50)}\")\n",
    "\n",
    "# 沿列方向计算中位数\n",
    "print(f\"每列的中位数: {np.percentile(a, 50, axis=0)}\")\n",
    "\n",
    "# 沿行方向计算中位数\n",
    "print(f\"每行的中位数: {np.percentile(a, 50, axis=1)}\")\n",
    "\n",
    "# 沿行方向计算中位数并保持维度\n",
    "print(f\"\\n每行的中位数(保持维度):\\n{np.percentile(a, 50, axis=1, keepdims=True)}\")"
   ],
   "id": "32db2869a5503eb8",
   "outputs": [
    {
     "name": "stdout",
     "output_type": "stream",
     "text": [
      "原始数组:\n",
      "[[ 0  1  2  3]\n",
      " [ 4  5  6  7]\n",
      " [ 8  9 10 11]]\n",
      "\n",
      "整个数组的中位数: 5.5\n",
      "每列的中位数: [4. 5. 6. 7.]\n",
      "每行的中位数: [1.5 5.5 9.5]\n",
      "\n",
      "每行的中位数(保持维度):\n",
      "[[1.5]\n",
      " [5.5]\n",
      " [9.5]]\n"
     ]
    }
   ],
   "execution_count": 27
  },
  {
   "metadata": {},
   "cell_type": "markdown",
   "source": "### 此外还有sum，mean，median，std，这里只给一个例子\n",
   "id": "9ca6c140fff00df7"
  },
  {
   "metadata": {
    "ExecuteTime": {
     "end_time": "2025-06-29T01:29:19.846184Z",
     "start_time": "2025-06-29T01:29:19.818108Z"
    }
   },
   "cell_type": "code",
   "source": [
    "import numpy as np\n",
    "\n",
    "# 创建3x4的二维数组\n",
    "arr = np.arange(12).reshape(3, 4)\n",
    "print(f\"原始数组:\\n{arr}\\n\")\n",
    "\n",
    "# 统计计算\n",
    "print(\"=== 全局统计 ===\")\n",
    "print(f\"总和: {np.sum(arr)}\")\n",
    "print(f\"均值: {np.mean(arr):.2f}\")\n",
    "print(f\"中位数: {np.median(arr)}\")\n",
    "print(f\"标准差: {np.std(arr):.2f}\\n\")\n",
    "\n",
    "print(\"=== 列统计(axis=0) ===\")\n",
    "print(f\"列总和: {np.sum(arr, axis=0)}\")\n",
    "print(f\"列均值: {np.mean(arr, axis=0)}\")\n",
    "print(f\"列中位数: {np.median(arr, axis=0)}\")\n",
    "print(f\"列标准差: {np.std(arr, axis=0)}\\n\")\n",
    "\n",
    "print(\"=== 行统计(axis=1) ===\")\n",
    "print(f\"行总和: {np.sum(arr, axis=1)}\")\n",
    "print(f\"行均值: {np.mean(arr, axis=1)}\")\n",
    "print(f\"行中位数: {np.median(arr, axis=1)}\")\n",
    "print(f\"行标准差: {np.std(arr, axis=1)}\")"
   ],
   "id": "bdc199b31e3af9c5",
   "outputs": [
    {
     "name": "stdout",
     "output_type": "stream",
     "text": [
      "原始数组:\n",
      "[[ 0  1  2  3]\n",
      " [ 4  5  6  7]\n",
      " [ 8  9 10 11]]\n",
      "\n",
      "=== 全局统计 ===\n",
      "总和: 66\n",
      "均值: 5.50\n",
      "中位数: 5.5\n",
      "标准差: 3.45\n",
      "\n",
      "=== 列统计(axis=0) ===\n",
      "列总和: [12 15 18 21]\n",
      "列均值: [4. 5. 6. 7.]\n",
      "列中位数: [4. 5. 6. 7.]\n",
      "列标准差: [3.26598632 3.26598632 3.26598632 3.26598632]\n",
      "\n",
      "=== 行统计(axis=1) ===\n",
      "行总和: [ 6 22 38]\n",
      "行均值: [1.5 5.5 9.5]\n",
      "行中位数: [1.5 5.5 9.5]\n",
      "行标准差: [1.11803399 1.11803399 1.11803399]\n"
     ]
    }
   ],
   "execution_count": 28
  },
  {
   "metadata": {},
   "cell_type": "markdown",
   "source": "## 五、排序函数\n",
   "id": "6ddc6df560cee025"
  },
  {
   "metadata": {},
   "cell_type": "markdown",
   "source": [
    "###  1、sort(a, axis, kind, order)\n",
    "返回输入数组的排序副本\n",
    "**参数说明**：\n",
    "\n",
    "* a：要排序的数组\n",
    "* axis：沿着它排序数组的轴，如果没有数组会被展开，沿着最后的轴排序，axis=0按列排序，axis=1 按行排序  \n",
    "  kind：排序算法，默认为’quicksort’\n",
    "* order：如果数组包含字段，则是要排序的字段"
   ],
   "id": "f3eb4a1ef0506b12"
  },
  {
   "metadata": {
    "ExecuteTime": {
     "end_time": "2025-06-29T01:30:43.649255Z",
     "start_time": "2025-06-29T01:30:43.570014Z"
    }
   },
   "cell_type": "code",
   "source": [
    "import numpy as np\n",
    "\n",
    "# 随机生成3x4数组并排序\n",
    "x = np.random.randint(1, 11, 12).reshape(3, 4)\n",
    "print(f\"x数组:\\n{x}\")\n",
    "\n",
    "print(f\"\\n默认按行排序:\\n{np.sort(x)}\")\n",
    "print(f\"\\n按列排序:\\n{np.sort(x, axis=0)}\")\n",
    "\n",
    "# 结构化数组排序\n",
    "dt = np.dtype([('name', 'S10'), ('age', int)])\n",
    "y = np.array([(\"xiaoming\", 10), (\"xiaoming\", 20), (\"xiaohong\", 30), (\"xiaobai\", 40)], dtype=dt)\n",
    "print(f\"\\ny数组:\\n{y}\")\n",
    "print(f\"\\n按age字段排序:\\n{np.sort(y, order='age')}\")"
   ],
   "id": "3ba0028b23e9e1d8",
   "outputs": [
    {
     "name": "stdout",
     "output_type": "stream",
     "text": [
      "x数组:\n",
      "[[ 3  4 10  5]\n",
      " [ 6  1  6  3]\n",
      " [ 1  2  7  2]]\n",
      "\n",
      "默认按行排序:\n",
      "[[ 3  4  5 10]\n",
      " [ 1  3  6  6]\n",
      " [ 1  2  2  7]]\n",
      "\n",
      "按列排序:\n",
      "[[ 1  1  6  2]\n",
      " [ 3  2  7  3]\n",
      " [ 6  4 10  5]]\n",
      "\n",
      "y数组:\n",
      "[(b'xiaoming', 10) (b'xiaoming', 20) (b'xiaohong', 30) (b'xiaobai', 40)]\n",
      "\n",
      "按age字段排序:\n",
      "[(b'xiaoming', 10) (b'xiaoming', 20) (b'xiaohong', 30) (b'xiaobai', 40)]\n"
     ]
    }
   ],
   "execution_count": 29
  },
  {
   "metadata": {},
   "cell_type": "markdown",
   "source": [
    "###  2、argbort()\n",
    "对输入数组沿给定轴执行间接排序，并使用指定排序类型返回数据的索引数组。这个索引数组用于构造排序后的数组\n"
   ],
   "id": "373996108d39068f"
  },
  {
   "metadata": {
    "ExecuteTime": {
     "end_time": "2025-06-29T01:32:46.497506Z",
     "start_time": "2025-06-29T01:32:46.475204Z"
    }
   },
   "cell_type": "code",
   "source": [
    "import numpy as np\n",
    "\n",
    "# 创建示例数组\n",
    "x = np.array([3, 1, 2])\n",
    "print(f\"原始数组:\\n{x}\")\n",
    "\n",
    "# 使用argsort获取排序索引\n",
    "sorted_indices = np.argsort(x)\n",
    "print(f\"\\n排序后的索引:\\n{sorted_indices}\")\n",
    "\n",
    "# 使用索引重构排序后的数组\n",
    "print(f\"\\n通过索引重构的排序数组:\\n{x[sorted_indices]}\")\n",
    "\n",
    "# 使用循环打印排序结果\n",
    "print(\"\\n通过循环打印排序结果:\")\n",
    "for idx in sorted_indices:\n",
    "    print(x[idx])"
   ],
   "id": "3aad899e6b01eec7",
   "outputs": [
    {
     "name": "stdout",
     "output_type": "stream",
     "text": [
      "原始数组:\n",
      "[3 1 2]\n",
      "\n",
      "排序后的索引:\n",
      "[1 2 0]\n",
      "\n",
      "通过索引重构的排序数组:\n",
      "[1 2 3]\n",
      "\n",
      "通过循环打印排序结果:\n",
      "1\n",
      "2\n",
      "3\n"
     ]
    }
   ],
   "execution_count": 30
  },
  {
   "metadata": {},
   "cell_type": "markdown",
   "source": [
    "### 3、sort_ complex(a)\n",
    "对复数按照先实部后虚部的顺序进行排序"
   ],
   "id": "97c27c88e307e36e"
  },
  {
   "metadata": {
    "ExecuteTime": {
     "end_time": "2025-06-29T01:34:11.005138Z",
     "start_time": "2025-06-29T01:34:10.984966Z"
    }
   },
   "cell_type": "code",
   "source": [
    "import numpy as np\n",
    "\n",
    "# 实数数组排序\n",
    "x = np.array([100, 20, 30, 10, 50])\n",
    "print(f\"实数数组x:\\n{x}\")\n",
    "print(f\"\\nx的复数形式排序结果:\\n{np.sort_complex(x)}\")\n",
    "\n",
    "# 复数数组排序\n",
    "y = np.array([1 + 2j, 2 - 1j, 3 - 2j, 3 - 3j, 3 + 5j])\n",
    "print(f\"\\n复数数组y:\\n{y}\")\n",
    "print(f\"\\ny的复数排序结果:\\n{np.sort_complex(y)}\")"
   ],
   "id": "657c4040ace9b2dc",
   "outputs": [
    {
     "name": "stdout",
     "output_type": "stream",
     "text": [
      "实数数组x:\n",
      "[100  20  30  10  50]\n",
      "\n",
      "x的复数形式排序结果:\n",
      "[ 10.+0.j  20.+0.j  30.+0.j  50.+0.j 100.+0.j]\n",
      "\n",
      "复数数组y:\n",
      "[1.+2.j 2.-1.j 3.-2.j 3.-3.j 3.+5.j]\n",
      "\n",
      "y的复数排序结果:\n",
      "[1.+2.j 2.-1.j 3.-3.j 3.-2.j 3.+5.j]\n"
     ]
    }
   ],
   "execution_count": 31
  }
 ],
 "metadata": {
  "kernelspec": {
   "display_name": "Python 3",
   "language": "python",
   "name": "python3"
  },
  "language_info": {
   "codemirror_mode": {
    "name": "ipython",
    "version": 2
   },
   "file_extension": ".py",
   "mimetype": "text/x-python",
   "name": "python",
   "nbconvert_exporter": "python",
   "pygments_lexer": "ipython2",
   "version": "2.7.6"
  }
 },
 "nbformat": 4,
 "nbformat_minor": 5
}
