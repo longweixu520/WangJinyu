{
 "cells": [
  {
   "metadata": {},
   "cell_type": "markdown",
   "source": [
    "# NumPy结构化数组详解\n",
    "结构化数组是NumPy中一种特殊的ndarray，其数据类型由一组命名字段组成，每个字段可以有不同的数据类型。本教程将详细介绍结构化数组的创建、操作和应用。\n",
    "\n"
   ],
   "id": "5263da1b010247b7"
  },
  {
   "metadata": {},
   "cell_type": "markdown",
   "source": [
    "## 结构化数组简介\n",
    "结构化数组是数据类型为复合类型的ndarray，由一组命名字段组成。例如："
   ],
   "id": "3425a79f76e93317"
  },
  {
   "metadata": {
    "ExecuteTime": {
     "end_time": "2025-06-28T07:00:05.762583Z",
     "start_time": "2025-06-28T07:00:05.583796Z"
    }
   },
   "cell_type": "code",
   "source": [
    "import numpy as np\n",
    "\n",
    "# 创建一个结构化数组\n",
    "data = np.array([('张三', 25, 65.5), ('李四', 30, 72.0)],\n",
    "               dtype=[('name', 'U10'), ('age', 'i4'), ('weight', 'f4')])\n",
    "\n",
    "print(data)\n"
   ],
   "id": "ac9e69043715043d",
   "outputs": [
    {
     "name": "stdout",
     "output_type": "stream",
     "text": [
      "[('张三', 25, 65.5) ('李四', 30, 72. )]\n"
     ]
    }
   ],
   "execution_count": 1
  },
  {
   "metadata": {},
   "cell_type": "markdown",
   "source": [
    "这个一维数组包含两个元素，每个元素有三个字段：  \n",
    "1、长度不超过10的Unicode字符串'name'  \n",
    "2、32位整数'age'  \n",
    "3、32位浮点数'weight'  "
   ],
   "id": "ea8792b92eae0f4c"
  },
  {
   "metadata": {},
   "cell_type": "markdown",
   "source": [
    "## 创建结构化数组\n",
    "### 方法1：使用字段列表\n"
   ],
   "id": "c453c84aae1ad29c"
  },
  {
   "metadata": {
    "ExecuteTime": {
     "end_time": "2025-06-28T07:01:20.677084Z",
     "start_time": "2025-06-28T07:01:20.653389Z"
    }
   },
   "cell_type": "code",
   "source": [
    "dt = np.dtype([\n",
    "    ('name', 'U10'),       # 10字符Unicode字符串\n",
    "    ('age', 'i4'),         # 32位整数\n",
    "    ('weight', 'f4'),      # 32位浮点数\n",
    "    ('grades', 'f4', 4)    # 包含4个浮点数的子数组\n",
    "])\n",
    "\n",
    "students = np.array([\n",
    "    ('张三', 20, 65.5, [90, 85, 88, 92]),\n",
    "    ('李四', 21, 70.2, [78, 82, 80, 85])\n",
    "], dtype=dt)\n",
    "\n",
    "print(students['grades'])\n"
   ],
   "id": "8cfc2642bb84dff",
   "outputs": [
    {
     "name": "stdout",
     "output_type": "stream",
     "text": [
      "[[90. 85. 88. 92.]\n",
      " [78. 82. 80. 85.]]\n"
     ]
    }
   ],
   "execution_count": 2
  },
  {
   "metadata": {},
   "cell_type": "markdown",
   "source": "### 方法2：使用逗号分隔的字符串\n",
   "id": "89b90113afd5dae4"
  },
  {
   "metadata": {
    "ExecuteTime": {
     "end_time": "2025-06-28T07:03:33.175220Z",
     "start_time": "2025-06-28T07:03:33.131628Z"
    }
   },
   "cell_type": "code",
   "source": [
    "dt = np.dtype('i8, f4, S3')  # 64位整数, 32位浮点数, 3字节字符串\n",
    "arr = np.array([(1, 2.5, 'abc'), (3, 4.2, 'def')], dtype=dt)\n",
    "arr"
   ],
   "id": "ce37576e32cf79a6",
   "outputs": [
    {
     "data": {
      "text/plain": [
       "array([(1, 2.5, b'abc'), (3, 4.2, b'def')],\n",
       "      dtype=[('f0', '<i8'), ('f1', '<f4'), ('f2', 'S3')])"
      ]
     },
     "execution_count": 3,
     "metadata": {},
     "output_type": "execute_result"
    }
   ],
   "execution_count": 3
  },
  {
   "metadata": {},
   "cell_type": "markdown",
   "source": "### 方法3：使用字典（最灵活）\n",
   "id": "53b00df0c6ba6dbe"
  },
  {
   "metadata": {
    "ExecuteTime": {
     "end_time": "2025-06-28T07:24:04.510047Z",
     "start_time": "2025-06-28T07:24:04.479232Z"
    }
   },
   "cell_type": "code",
   "source": [
    "dt = np.dtype({\n",
    "    'names': ['id', 'value', 'info'],\n",
    "    'formats': ['i4', 'f8', 'U20'],\n",
    "    'offsets': [0, 4, 12],  # 手动指定字段偏移量\n",
    "    'itemsize': 96          # 调整为足够大的值(比92大且考虑对齐)\n",
    "})"
   ],
   "id": "a670c27ba5934395",
   "outputs": [],
   "execution_count": 10
  },
  {
   "metadata": {},
   "cell_type": "markdown",
   "source": [
    "## 访问和操作结构化数组\n",
    "### 按字段访问\n"
   ],
   "id": "818a4f3c3d4a7438"
  },
  {
   "metadata": {
    "ExecuteTime": {
     "end_time": "2025-06-28T07:05:48.916287Z",
     "start_time": "2025-06-28T07:05:48.894123Z"
    }
   },
   "cell_type": "code",
   "source": [
    "# 获取所有'age'字段\n",
    "ages = data['age']\n",
    "print(ages)  # 输出: [25 30]\n",
    "\n",
    "# 修改'weight'字段\n",
    "data['weight'] = [68.0, 74.5]"
   ],
   "id": "909e179b6c60917f",
   "outputs": [
    {
     "name": "stdout",
     "output_type": "stream",
     "text": [
      "[25 30]\n"
     ]
    }
   ],
   "execution_count": 5
  },
  {
   "metadata": {},
   "cell_type": "markdown",
   "source": "### 按索引访问\n",
   "id": "8272b9086ce83c42"
  },
  {
   "metadata": {
    "ExecuteTime": {
     "end_time": "2025-06-28T07:06:16.352843Z",
     "start_time": "2025-06-28T07:06:16.336538Z"
    }
   },
   "cell_type": "code",
   "source": [
    "# 获取第一个元素\n",
    "first = data[0]\n",
    "print(first)  # 输出: ('张三', 25, 68.0)\n",
    "\n",
    "# 修改第二个元素的'name'\n",
    "data[1]['name'] = '王五'"
   ],
   "id": "4b33b02b93add4c8",
   "outputs": [
    {
     "name": "stdout",
     "output_type": "stream",
     "text": [
      "('张三', 25, 68.0)\n"
     ]
    }
   ],
   "execution_count": 6
  },
  {
   "metadata": {},
   "cell_type": "markdown",
   "source": "### 多字段索引",
   "id": "9b71e734e5a4d712"
  },
  {
   "metadata": {
    "ExecuteTime": {
     "end_time": "2025-06-28T07:06:46.062001Z",
     "start_time": "2025-06-28T07:06:46.044536Z"
    }
   },
   "cell_type": "code",
   "source": [
    "# 获取'name'和'age'字段\n",
    "subset = data[['name', 'age']]\n",
    "print(subset)\n",
    "\"\"\"\n",
    "[('张三', 25) ('王五', 30)]\n",
    "\"\"\""
   ],
   "id": "92580d3dc405516d",
   "outputs": [
    {
     "name": "stdout",
     "output_type": "stream",
     "text": [
      "[('张三', 25) ('王五', 30)]\n"
     ]
    },
    {
     "data": {
      "text/plain": [
       "\"\\n[('张三', 25) ('王五', 30)]\\n\""
      ]
     },
     "execution_count": 7,
     "metadata": {},
     "output_type": "execute_result"
    }
   ],
   "execution_count": 7
  },
  {
   "metadata": {},
   "cell_type": "markdown",
   "source": [
    "## 实际应用示例\n",
    "### 示例1：处理学生数据\n"
   ],
   "id": "60c6205385d1ce0c"
  },
  {
   "metadata": {
    "ExecuteTime": {
     "end_time": "2025-06-28T07:23:04.965357Z",
     "start_time": "2025-06-28T07:23:04.925132Z"
    }
   },
   "cell_type": "code",
   "source": [
    "# 定义数据类型\n",
    "student_dt = np.dtype([\n",
    "    ('id', 'i4'),\n",
    "    ('name', 'U20'),\n",
    "    ('scores', 'f4', 3),  # 3门课程成绩\n",
    "    ('final_grade', 'f4')\n",
    "])\n",
    "\n",
    "# 创建数组\n",
    "students = np.array([\n",
    "    (1, '张三', [85, 90, 78], 0),\n",
    "    (2, '李四', [92, 88, 95], 0),\n",
    "    (3, '王五', [78, 85, 80], 0)\n",
    "], dtype=student_dt)\n",
    "\n",
    "# 计算最终成绩(加权平均)\n",
    "students['final_grade'] = np.mean(students['scores'], axis=1) * 0.6 + 40 * 0.4\n",
    "\n",
    "print(students)"
   ],
   "id": "765ff9de016eccab",
   "outputs": [
    {
     "name": "stdout",
     "output_type": "stream",
     "text": [
      "[(1, '张三', [85., 90., 78.], 66.600006)\n",
      " (2, '李四', [92., 88., 95.], 71.      )\n",
      " (3, '王五', [78., 85., 80.], 64.600006)]\n"
     ]
    }
   ],
   "execution_count": 8
  },
  {
   "metadata": {},
   "cell_type": "markdown",
   "source": "### 示例2：处理二进制数据\n",
   "id": "f68db96b72a68781"
  },
  {
   "metadata": {
    "ExecuteTime": {
     "end_time": "2025-06-28T07:23:45.061255Z",
     "start_time": "2025-06-28T07:23:45.038499Z"
    }
   },
   "cell_type": "code",
   "source": [
    "# 模拟从二进制文件读取的数据\n",
    "binary_data = bytes([\n",
    "    0x01, 0x00, 0x00, 0x00,    # id=1 (32位整数)\n",
    "    0x40, 0x49, 0x0F, 0xDB,    # value=3.14159 (32位浮点数)\n",
    "    0x41, 0x42, 0x43, 0x00      # tag=\"ABC\" (4字节字符串)\n",
    "])\n",
    "\n",
    "# 定义匹配的数据类型\n",
    "dt = np.dtype([\n",
    "    ('id', 'i4'),\n",
    "    ('value', 'f4'),\n",
    "    ('tag', 'S4')\n",
    "])\n",
    "\n",
    "# 从缓冲区创建数组\n",
    "data = np.frombuffer(binary_data, dtype=dt)\n",
    "print(data[0])  # 输出: (1, 3.14159, b'ABC')"
   ],
   "id": "2b305dbf2c9e597f",
   "outputs": [
    {
     "name": "stdout",
     "output_type": "stream",
     "text": [
      "(1, -4.033146e+16, b'ABC')\n"
     ]
    }
   ],
   "execution_count": 9
  },
  {
   "metadata": {},
   "cell_type": "code",
   "outputs": [],
   "execution_count": null,
   "source": "",
   "id": "6d6ef9b0cf26ab75"
  }
 ],
 "metadata": {
  "kernelspec": {
   "display_name": "Python 3",
   "language": "python",
   "name": "python3"
  },
  "language_info": {
   "codemirror_mode": {
    "name": "ipython",
    "version": 2
   },
   "file_extension": ".py",
   "mimetype": "text/x-python",
   "name": "python",
   "nbconvert_exporter": "python",
   "pygments_lexer": "ipython2",
   "version": "2.7.6"
  }
 },
 "nbformat": 4,
 "nbformat_minor": 5
}
