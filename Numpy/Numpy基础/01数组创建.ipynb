{
 "cells": [
  {
   "metadata": {},
   "cell_type": "markdown",
   "source": "# Numpy 基础知识之数组创建\n",
   "id": "695660bae4973398"
  },
  {
   "metadata": {},
   "cell_type": "markdown",
   "source": [
    "## 介绍\n",
    "在 NumPy 中，创建数组主要有以下六种通用方法：\n",
    "\n",
    "1. **转换其他 Python 结构**  \n",
    "   将列表（list）、元组（tuple）等 Python 原生数据结构转换为 NumPy 数组\n",
    "\n",
    "2. **使用 NumPy 内置函数**  \n",
    "   如 `arange()`、`ones()`、`zeros()` 等专门的数组创建函数\n",
    "\n",
    "3. **操作现有数组**  \n",
    "   通过对现有数组进行复制、连接或修改来生成新数组\n",
    "\n",
    "4. **从文件读取**  \n",
    "   从磁盘加载标准格式（如 CSV、NPY）或自定义格式的数据文件\n",
    "\n",
    "5. **从原始字节创建**  \n",
    "   通过字符串或缓冲区直接基于字节数据构建数组\n",
    "\n",
    "6. **使用专用库函数**  \n",
    "   例如利用 `random` 模块生成随机数数组\n",
    "\n",
    "这些方法既适用于创建常规的 ndarray 数组，也适用于构建结构化数组。根据具体需求，开发者可以灵活选择最适合的数组创建方式。\n",
    "\n"
   ],
   "id": "1ccf7898ffe7c429"
  },
  {
   "metadata": {},
   "cell_type": "markdown",
   "source": [
    "### 1) 将 Python 序列转换为 NumPy 数组\n",
    "\n",
    "NumPy 数组可以通过 Python 序列（如列表和元组）创建。列表使用方括号 `[...]` 定义，元组使用圆括号 `(...)` 定义。通过嵌套这些序列，可以创建不同维度的数组：\n",
    "\n",
    "- **一维数组**：使用数字列表创建  \n",
    "  ```python\n",
    "  a1D = np.array([1, 2, 3, 4])\n",
    "  ```\n",
    "- **二维数组**：使用嵌套列表创建  \n",
    "  ```python\n",
    "  a2D = np.array([[1, 2], [3, 4]])\n",
    "  ```\n",
    "- **高维数组**：通过进一步嵌套列表创建  \n",
    "  ```python\n",
    "  a3D = np.array([[[1, 2], [3, 4]], [[5, 6], [7, 8]]])\n",
    "  ```\n",
    "\n",
    "在 NumPy 中，所有数组对象均称为 `ndarray`。\n",
    "\n",
    "#### 数据类型（`dtype`）的重要性  \n",
    "在创建数组时，可以显式指定元素的数据类型（`dtype`），以优化内存使用和计算效率。若不指定 `dtype`，可能会导致意外的数据溢出或类型转换。  \n",
    "\n",
    "**示例：8 位有符号整数溢出**  \n",
    "```python\n",
    "a = np.array([127, 128, 129], dtype=np.int8)\n",
    "print(a)  \n",
    "```\n",
    "由于 `int8` 的范围是 -128 到 127，超出范围的赋值会导致溢出。\n",
    "\n",
    "#### 数据类型对运算的影响  \n",
    "不同数据类型的数组运算可能导致意外结果。NumPy 会根据操作数的类型自动确定结果的 `dtype`。  \n",
    "\n",
    "**示例：无符号整数运算**  \n",
    "```python\n",
    "a = np.array([2, 3, 4], dtype=np.uint32)\n",
    "b = np.array([5, 6, 7], dtype=np.uint32)\n",
    "c_unsigned32 = a - b\n",
    "print('无符号结果:', c_unsigned32, c_unsigned32.dtype)  \n",
    "\n",
    "\n",
    "c_signed32 = a - b.astype(np.int32)\n",
    "print('有符号结果:', c_signed32, c_signed32.dtype)  \n",
    "\n",
    "```\n",
    "- 相同 `dtype` 的运算会保持类型一致。  \n",
    "- 混合 `dtype` 的运算会向上转换为更通用的类型（如 `int64`）。  \n",
    "\n",
    "#### 默认数据类型  \n",
    "NumPy 默认创建的数组类型为：  \n",
    "- 32 位或 64 位有符号整数（取决于平台，与 C 的 `long` 类型一致）  \n",
    "- 双精度浮点数（`float64`）  \n",
    "\n",
    "若需特定类型，应在创建数组时显式指定 `dtype`。\n",
    "\n"
   ],
   "id": "824ec44c83a07e5e"
  },
  {
   "metadata": {
    "ExecuteTime": {
     "end_time": "2025-06-29T13:41:18.853899Z",
     "start_time": "2025-06-29T13:41:18.628372Z"
    }
   },
   "cell_type": "code",
   "source": [
    "import numpy as np\n",
    "a = np.array([127, 128, 129], dtype=np.int8)\n",
    "print(a) "
   ],
   "id": "53efc4efcbeaf476",
   "outputs": [
    {
     "ename": "OverflowError",
     "evalue": "Python integer 128 out of bounds for int8",
     "output_type": "error",
     "traceback": [
      "\u001B[0;31m---------------------------------------------------------------------------\u001B[0m",
      "\u001B[0;31mOverflowError\u001B[0m                             Traceback (most recent call last)",
      "Cell \u001B[0;32mIn[1], line 2\u001B[0m\n\u001B[1;32m      1\u001B[0m \u001B[38;5;28;01mimport\u001B[39;00m\u001B[38;5;250m \u001B[39m\u001B[38;5;21;01mnumpy\u001B[39;00m\u001B[38;5;250m \u001B[39m\u001B[38;5;28;01mas\u001B[39;00m\u001B[38;5;250m \u001B[39m\u001B[38;5;21;01mnp\u001B[39;00m\n\u001B[0;32m----> 2\u001B[0m a \u001B[38;5;241m=\u001B[39m \u001B[43mnp\u001B[49m\u001B[38;5;241;43m.\u001B[39;49m\u001B[43marray\u001B[49m\u001B[43m(\u001B[49m\u001B[43m[\u001B[49m\u001B[38;5;241;43m127\u001B[39;49m\u001B[43m,\u001B[49m\u001B[43m \u001B[49m\u001B[38;5;241;43m128\u001B[39;49m\u001B[43m,\u001B[49m\u001B[43m \u001B[49m\u001B[38;5;241;43m129\u001B[39;49m\u001B[43m]\u001B[49m\u001B[43m,\u001B[49m\u001B[43m \u001B[49m\u001B[43mdtype\u001B[49m\u001B[38;5;241;43m=\u001B[39;49m\u001B[43mnp\u001B[49m\u001B[38;5;241;43m.\u001B[39;49m\u001B[43mint8\u001B[49m\u001B[43m)\u001B[49m\n\u001B[1;32m      3\u001B[0m \u001B[38;5;28mprint\u001B[39m(a) \n",
      "\u001B[0;31mOverflowError\u001B[0m: Python integer 128 out of bounds for int8"
     ]
    }
   ],
   "execution_count": 1
  },
  {
   "metadata": {
    "ExecuteTime": {
     "end_time": "2025-06-29T13:41:33.837527Z",
     "start_time": "2025-06-29T13:41:33.820421Z"
    }
   },
   "cell_type": "code",
   "source": [
    "a = np.array([2, 3, 4], dtype=np.uint32)\n",
    "b = np.array([5, 6, 7], dtype=np.uint32)\n",
    "c_unsigned32 = a - b\n",
    "print('无符号结果:', c_unsigned32, c_unsigned32.dtype)  "
   ],
   "id": "1fd21a440356333",
   "outputs": [
    {
     "name": "stdout",
     "output_type": "stream",
     "text": [
      "无符号结果: [4294967293 4294967293 4294967293] uint32\n"
     ]
    }
   ],
   "execution_count": 2
  },
  {
   "metadata": {
    "ExecuteTime": {
     "end_time": "2025-06-29T13:42:08.112328Z",
     "start_time": "2025-06-29T13:42:08.100077Z"
    }
   },
   "cell_type": "code",
   "source": [
    "c_signed32 = a - b.astype(np.int32)\n",
    "print('有符号结果:', c_signed32, c_signed32.dtype)  \n"
   ],
   "id": "4826f24331ace03b",
   "outputs": [
    {
     "name": "stdout",
     "output_type": "stream",
     "text": [
      "有符号结果: [-3 -3 -3] int64\n",
      "钟奇慧流氓\n"
     ]
    }
   ],
   "execution_count": 3
  },
  {
   "metadata": {},
   "cell_type": "markdown",
   "source": [
    "### 2) 内在的 NumPy 数组创建函数\n",
    "\n",
    "NumPy 提供了 40 多个内置数组创建函数，可分为以下三类：\n",
    "\n",
    "#### 1 - 一维数组创建函数\n",
    "\n",
    "**numpy.arange** - 创建具有固定步长的数值序列：\n",
    "```python\n",
    "# 从0开始到10结束（不包含10），步长为1\n",
    "np.arange(10)\n",
    "# array([0, 1, 2, 3, 4, 5, 6, 7, 8, 9])\n",
    "\n",
    "# 从2开始到10结束，指定float类型\n",
    "np.arange(2, 10, dtype=float)\n",
    "# array([2., 3., 4., 5., 6., 7., 8., 9.])\n",
    "\n",
    "# 从2开始到3结束，步长为0.1\n",
    "np.arange(2, 3, 0.1)\n",
    "# array([2. , 2.1, 2.2, 2.3, 2.4, 2.5, 2.6, 2.7, 2.8, 2.9])\n",
    "```\n",
    "\n",
    "**numpy.linspace** - 创建指定数量的等间隔数值：\n",
    "```python\n",
    "# 在1.0到4.0之间生成6个等间隔数值\n",
    "np.linspace(1., 4., 6)\n",
    "# array([1. , 1.6, 2.2, 2.8, 3.4, 4. ])\n",
    "```\n",
    "\n",
    "#### 2 - 二维数组创建函数\n",
    "\n",
    "**numpy.eye** - 创建单位矩阵：\n",
    "```python\n",
    "# 3x3单位矩阵\n",
    "np.eye(3)\n",
    "# array([[1., 0., 0.],\n",
    "#        [0., 1., 0.],\n",
    "#        [0., 0., 1.]])\n",
    "\n",
    "# 3x5矩形单位矩阵\n",
    "np.eye(3, 5)\n",
    "# array([[1., 0., 0., 0., 0.],\n",
    "#        [0., 1., 0., 0., 0.],\n",
    "#        [0., 0., 1., 0., 0.]])\n",
    "```\n",
    "\n",
    "**numpy.diag** - 创建对角矩阵或提取对角线元素：\n",
    "```python\n",
    "# 创建对角矩阵\n",
    "np.diag([1, 2, 3])\n",
    "# array([[1, 0, 0],\n",
    "#        [0, 2, 0],\n",
    "#        [0, 0, 3]])\n",
    "\n",
    "# 创建偏移对角矩阵\n",
    "np.diag([1, 2, 3], 1)\n",
    "# array([[0, 1, 0, 0],\n",
    "#        [0, 0, 2, 0],\n",
    "#        [0, 0, 0, 3],\n",
    "#        [0, 0, 0, 0]])\n",
    "```\n",
    "\n",
    "**numpy.vander** - 创建范德蒙德矩阵：\n",
    "```python\n",
    "# 创建2阶范德蒙德矩阵\n",
    "np.vander(np.linspace(0, 2, 5), 2)\n",
    "# array([[0. , 1. ],\n",
    "#        [0.5, 1. ],\n",
    "#        [1. , 1. ],\n",
    "#        [1.5, 1. ],\n",
    "#        [2. , 1. ]])\n",
    "```\n",
    "\n",
    "#### 3 - 通用 ndarray 创建函数\n",
    "\n",
    "**numpy.zeros** - 创建全零数组：\n",
    "```python\n",
    "# 2x3全零数组\n",
    "np.zeros((2, 3))\n",
    "# array([[0., 0., 0.],\n",
    "#        [0., 0., 0.]])\n",
    "```\n",
    "\n",
    "**numpy.ones** - 创建全1数组：\n",
    "```python\n",
    "# 2x3全1数组\n",
    "np.ones((2, 3))\n",
    "# array([[1., 1., 1.],\n",
    "#        [1., 1., 1.]])\n",
    "```\n",
    "\n",
    "**numpy.random** - 创建随机数组：\n",
    "```python\n",
    "# 创建2x3随机数组（0-1均匀分布）\n",
    "from numpy.random import default_rng\n",
    "default_rng(42).random((2,3))\n",
    "# array([[0.77395605, 0.43887844, 0.85859792],\n",
    "#        [0.69736803, 0.09417735, 0.97562235]])\n",
    "```\n",
    "\n",
    "**numpy.indices** - 创建网格索引数组：\n",
    "```python\n",
    "# 创建3x3的网格索引\n",
    "np.indices((3,3))\n",
    "# array([[[0, 0, 0],\n",
    "#         [1, 1, 1],\n",
    "#         [2, 2, 2]],\n",
    "#        [[0, 1, 2],\n",
    "#         [0, 1, 2],\n",
    "#         [0, 1, 2]]])\n",
    "```\n"
   ],
   "id": "ff9017435283ee62"
  },
  {
   "metadata": {
    "ExecuteTime": {
     "end_time": "2025-06-28T00:36:26.251910Z",
     "start_time": "2025-06-28T00:36:26.145335Z"
    }
   },
   "cell_type": "code",
   "source": [
    "import numpy as np\n",
    "\n",
    "print(\"一维数组创建示例:\")\n",
    "print(\"1. arange函数 - 创建固定步长的数值序列:\")\n",
    "print(\"从0开始到10(不含)的整数序列:\", np.arange(10))\n",
    "print(\"从2开始到10(不含)的浮点数序列:\", np.arange(2, 10, dtype=float))\n",
    "print(\"从2开始到3(不含)，步长0.1的序列:\", np.arange(2, 3, 0.1))\n",
    "\n",
    "print(\"\\n2. linspace函数 - 创建等间隔数值序列:\")\n",
    "print(\"在1.0到4.0之间生成6个等距数:\", np.linspace(1., 4., 6))\n",
    "\n",
    "print(\"\\n二维数组创建示例:\")\n",
    "print(\"1. eye函数 - 创建单位矩阵:\")\n",
    "print(\"3x3单位矩阵:\\n\", np.eye(3))\n",
    "print(\"3x5矩形单位矩阵:\\n\", np.eye(3, 5))\n",
    "\n",
    "print(\"\\n2. diag函数 - 创建对角矩阵:\")\n",
    "print(\"主对角线为[1,2,3]的矩阵:\\n\", np.diag([1, 2, 3]))\n",
    "print(\"对角线向上偏移1位的矩阵:\\n\", np.diag([1, 2, 3], 1))\n",
    "\n",
    "print(\"\\n3. vander函数 - 创建范德蒙德矩阵:\")\n",
    "print(\"基于0-2的5个等距点的2阶范德蒙矩阵:\\n\", np.vander(np.linspace(0, 2, 5), 2))\n",
    "\n",
    "print(\"\\n通用ndarray创建示例:\")\n",
    "print(\"1. zeros函数 - 创建全零数组:\")\n",
    "print(\"2x3全零数组:\\n\", np.zeros((2, 3)))\n",
    "\n",
    "print(\"\\n2. ones函数 - 创建全1数组:\")\n",
    "print(\"2x3全1数组:\\n\", np.ones((2, 3)))\n",
    "\n",
    "print(\"\\n3. random函数 - 创建随机数组:\")\n",
    "from numpy.random import default_rng\n",
    "print(\"2x3随机数组(种子42):\\n\", default_rng(42).random((2,3)))\n",
    "\n",
    "print(\"\\n4. indices函数 - 创建网格索引:\")\n",
    "print(\"3x3网格索引:\\n\", np.indices((3,3)))"
   ],
   "id": "5e380ed6993b8170",
   "outputs": [
    {
     "name": "stdout",
     "output_type": "stream",
     "text": [
      "一维数组创建示例:\n",
      "1. arange函数 - 创建固定步长的数值序列:\n",
      "从0开始到10(不含)的整数序列: [0 1 2 3 4 5 6 7 8 9]\n",
      "从2开始到10(不含)的浮点数序列: [2. 3. 4. 5. 6. 7. 8. 9.]\n",
      "从2开始到3(不含)，步长0.1的序列: [2.  2.1 2.2 2.3 2.4 2.5 2.6 2.7 2.8 2.9]\n",
      "\n",
      "2. linspace函数 - 创建等间隔数值序列:\n",
      "在1.0到4.0之间生成6个等距数: [1.  1.6 2.2 2.8 3.4 4. ]\n",
      "\n",
      "二维数组创建示例:\n",
      "1. eye函数 - 创建单位矩阵:\n",
      "3x3单位矩阵:\n",
      " [[1. 0. 0.]\n",
      " [0. 1. 0.]\n",
      " [0. 0. 1.]]\n",
      "3x5矩形单位矩阵:\n",
      " [[1. 0. 0. 0. 0.]\n",
      " [0. 1. 0. 0. 0.]\n",
      " [0. 0. 1. 0. 0.]]\n",
      "\n",
      "2. diag函数 - 创建对角矩阵:\n",
      "主对角线为[1,2,3]的矩阵:\n",
      " [[1 0 0]\n",
      " [0 2 0]\n",
      " [0 0 3]]\n",
      "对角线向上偏移1位的矩阵:\n",
      " [[0 1 0 0]\n",
      " [0 0 2 0]\n",
      " [0 0 0 3]\n",
      " [0 0 0 0]]\n",
      "\n",
      "3. vander函数 - 创建范德蒙德矩阵:\n",
      "基于0-2的5个等距点的2阶范德蒙矩阵:\n",
      " [[0.  1. ]\n",
      " [0.5 1. ]\n",
      " [1.  1. ]\n",
      " [1.5 1. ]\n",
      " [2.  1. ]]\n",
      "\n",
      "通用ndarray创建示例:\n",
      "1. zeros函数 - 创建全零数组:\n",
      "2x3全零数组:\n",
      " [[0. 0. 0.]\n",
      " [0. 0. 0.]]\n",
      "\n",
      "2. ones函数 - 创建全1数组:\n",
      "2x3全1数组:\n",
      " [[1. 1. 1.]\n",
      " [1. 1. 1.]]\n",
      "\n",
      "3. random函数 - 创建随机数组:\n",
      "2x3随机数组(种子42):\n",
      " [[0.77395605 0.43887844 0.85859792]\n",
      " [0.69736803 0.09417735 0.97562235]]\n",
      "\n",
      "4. indices函数 - 创建网格索引:\n",
      "3x3网格索引:\n",
      " [[[0 0 0]\n",
      "  [1 1 1]\n",
      "  [2 2 2]]\n",
      "\n",
      " [[0 1 2]\n",
      "  [0 1 2]\n",
      "  [0 1 2]]]\n"
     ]
    }
   ],
   "execution_count": 4
  },
  {
   "metadata": {},
   "cell_type": "markdown",
   "source": [
    "### 3）复制、连接或改变现有数组\n",
    "创建数组后，您可以复制、连接或改变这些现有数组以创建新数组。将数组或其元素分配给新变量时，必须显式指定numpy.copy该数组，否则该变量是原始数组的视图\n"
   ],
   "id": "433925899938193f"
  },
  {
   "metadata": {
    "ExecuteTime": {
     "end_time": "2025-06-28T00:45:57.437479Z",
     "start_time": "2025-06-28T00:45:57.382208Z"
    }
   },
   "cell_type": "code",
   "source": [
    "a = np.array([1, 2, 3, 4, 5, 6])\n",
    "b = a[:2]\n",
    "b += 1\n",
    "print('a =', a, '; b =', b)"
   ],
   "id": "c2f1fd440153f5c4",
   "outputs": [
    {
     "name": "stdout",
     "output_type": "stream",
     "text": [
      "a = [2 3 3 4 5 6] ; b = [2 3]\n"
     ]
    }
   ],
   "execution_count": 5
  },
  {
   "metadata": {},
   "cell_type": "markdown",
   "source": "在此示例中，您没有创建新数组。您创建了一个变量， b用于查看 的前 2 个元素a。当你加 1 到 时，b你会得到与 1 加 1 相同的结果a[:2]。如果要创建 新数组，请使用`numpy.copy`数组创建例程，如下所示：\n",
   "id": "551016098edb5268"
  },
  {
   "metadata": {
    "ExecuteTime": {
     "end_time": "2025-06-28T00:46:49.033409Z",
     "start_time": "2025-06-28T00:46:49.013980Z"
    }
   },
   "cell_type": "code",
   "source": [
    "a = np.array([1, 2, 3, 4])\n",
    "b = a[:2].copy()\n",
    "b += 1\n",
    "print('a = ', a, 'b = ', b)"
   ],
   "id": "d43d143528b766a9",
   "outputs": [
    {
     "name": "stdout",
     "output_type": "stream",
     "text": [
      "a =  [1 2 3 4] b =  [2 3]\n"
     ]
    }
   ],
   "execution_count": 6
  },
  {
   "metadata": {},
   "cell_type": "markdown",
   "source": "有许多例程可以连接现有数组，例如numpy.vstack、 numpy.hstack和numpy.block。以下是使用以下命令将四个 2×2 数组连接成 4×4 数组的示例block：",
   "id": "5fb460f6efdaba71"
  },
  {
   "metadata": {
    "ExecuteTime": {
     "end_time": "2025-06-28T00:47:43.632295Z",
     "start_time": "2025-06-28T00:47:43.593181Z"
    }
   },
   "cell_type": "code",
   "source": [
    "A = np.ones((2, 2)) \n",
    "B = np.eye(2, 2)\n",
    "C = np.zeros((2, 2))\n",
    "D = np.diag((-3, -4))\n",
    "np.block([[A, B], [C, D]])"
   ],
   "id": "8e93d5ce08308477",
   "outputs": [
    {
     "data": {
      "text/plain": [
       "array([[ 1.,  1.,  1.,  0.],\n",
       "       [ 1.,  1.,  0.,  1.],\n",
       "       [ 0.,  0., -3.,  0.],\n",
       "       [ 0.,  0.,  0., -4.]])"
      ]
     },
     "execution_count": 7,
     "metadata": {},
     "output_type": "execute_result"
    }
   ],
   "execution_count": 7
  },
  {
   "metadata": {},
   "cell_type": "markdown",
   "source": [
    "### 4) 从磁盘读取数组，无论是标准格式还是自定义格式\n",
    "这是大型数组创建的最常见情况。详细信息很大程度上取决于磁盘上数据的格式。本节提供有关如何处理各种格式的一般指导。\n"
   ],
   "id": "52ba845d229b6e27"
  },
  {
   "metadata": {},
   "cell_type": "markdown",
   "source": [
    "#### 标准二进制格式\n",
    "各种字段都有数组数据的标准格式。下面列出了已知的 Python 库来读取它们并返回 NumPy 数组  \n",
    "HDF5: h5py  \n",
    "FITS: Astropy  \n",
    "无法直接读取但不难转换的格式示例是 PIL 等库支持的格式（能够读写许多图像格式，例如 jpg、png 等）。\n",
    "\n",
    "\n",
    "#### 常见的 ASCII 格式\n",
    "逗号分隔值 (csv) 和制表符分隔值 (tsv) 文件等分隔文件用于 Excel 和 LabView 等程序。 Python函数可以逐行读取和解析这些文件。 NumPy 有两个标准例程，用于导入带有分隔数据的文件numpy.loadtxt 和numpy.genfromtxt.这些函数更多地涉及 读写文件的用例。\n",
    "\n",
    "\n",
    "可以使用 Pandas 读取更通用的scipy.ioASCII文件。"
   ],
   "id": "ceb056e943cf541b"
  }
 ],
 "metadata": {
  "kernelspec": {
   "display_name": "Python 3",
   "language": "python",
   "name": "python3"
  },
  "language_info": {
   "codemirror_mode": {
    "name": "ipython",
    "version": 2
   },
   "file_extension": ".py",
   "mimetype": "text/x-python",
   "name": "python",
   "nbconvert_exporter": "python",
   "pygments_lexer": "ipython2",
   "version": "2.7.6"
  }
 },
 "nbformat": 4,
 "nbformat_minor": 5
}
